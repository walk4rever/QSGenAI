{
 "cells": [
  {
   "cell_type": "code",
   "execution_count": null,
   "id": "917ab7d8",
   "metadata": {},
   "outputs": [],
   "source": [
    "!pip install llama-index-llms-ollama"
   ]
  },
  {
   "cell_type": "code",
   "execution_count": null,
   "id": "893d3588",
   "metadata": {},
   "outputs": [],
   "source": [
    "!pip install llama-index"
   ]
  },
  {
   "cell_type": "code",
   "execution_count": 1,
   "id": "23b3907b",
   "metadata": {},
   "outputs": [],
   "source": [
    "from llama_index.llms.ollama import Ollama"
   ]
  },
  {
   "cell_type": "code",
   "execution_count": 2,
   "id": "13980bef",
   "metadata": {},
   "outputs": [],
   "source": [
    "gemma_2b = Ollama(model=\"gemma:2b\", request_timeout=30.0)\n",
    "gemma_7b = Ollama(model=\"gemma:7b\", request_timeout=30.0)"
   ]
  },
  {
   "cell_type": "code",
   "execution_count": 4,
   "id": "3158a243",
   "metadata": {},
   "outputs": [
    {
     "name": "stdout",
     "output_type": "stream",
     "text": [
      "Paul Graham is an entrepreneur, podcaster, and author. He is known for his unconventional and humorous approach to business and life.\n",
      "\n",
      "**Key Facts:**\n",
      "\n",
      "* Born in Belfast, Northern Ireland\n",
      "* Founder of Y Combinator, a venture capital firm\n",
      "* Built and sold multiple companies, including Blend.com and Lastminute.com\n",
      "* Has appeared on several podcasts, including The Tim Ferriss Show, The Startup Podcast, and The Knowledge Project\n",
      "* Published several books, including \"The Alchemy of Opportunity\" and \"The Concrete Jungle\"\n",
      "\n",
      "**Philosophy:**\n",
      "\n",
      " Graham's philosophy emphasizes the importance of:\n",
      "\n",
      "* Building things that people love\n",
      "* Hiring and empowering great people\n",
      "* Challenging the status quo\n",
      "* Embracing failure and learning from mistakes\n",
      "\n",
      "**Key Ventures:**\n",
      "\n",
      "* **Y Combinator:** A venture capital firm focused on early-stage startups in Silicon Valley.\n",
      "* **Sandbox:** An innovation studio that supports tech entrepreneurs and innovators.\n",
      "* **The Knowledge Project:** A podcast network about innovation, productivity, and leadership.\n",
      "\n",
      "**Personal Interests:**\n",
      "\n",
      "* Entrepreneurship\n",
      "* Innovation\n",
      "* Technology\n",
      "* Music\n",
      "* Film\n",
      "* Literature\n",
      "\n",
      "**Controversies:**\n",
      "\n",
      "Graham has faced some criticism for his unconventional behavior and abrasive personality. Some have accused him of being insensitive or disrespectful, while others have praised him for his passion and commitment to his projects.\n"
     ]
    }
   ],
   "source": [
    "resp = gemma_2b.complete(\"Who is Paul Graham?\")\n",
    "print(resp)"
   ]
  },
  {
   "cell_type": "code",
   "execution_count": 5,
   "id": "c6aa019b",
   "metadata": {},
   "outputs": [
    {
     "name": "stdout",
     "output_type": "stream",
     "text": [
      "Paul Graham, sometimes referred to as \"hacker Jesus,\" has achieved significant internet popularity for his insightful writing about software engineering. He's best known:\n",
      "\n",
      "* **Sharing concise and actionable advice:**  Graham writes clearly on topics like effective learning methods (\"How To Read a Book\") or debugging mindset (“Don’t Fear the Call Stack”), offering pragmatic solutions to common challenges faced by programmers, particularly at Google where he has worked for nearly two decades.\n",
      "    • He frequently updates his \"software engineering field guide\" which provides quick reference and best practices on software design patterns craslermonkpatterns Mischunghackerlearning into a single document with code snippets using Haskell as the primary language (although it originally began in Java).\n",
      "\n",
      "* **Promoting curiosity:** Instead of dictating specific solutions, Graham encourages deliberate learning by asking insightful questions (\"How Should You Read This Book?\") to cultivate critical thinking.\n",
      "    • He has successfully inspired others like Casey Ryan and Kat Conrad with his approach towards software engineering as a disciplined intellectual pursuit rather than merely scripting abilities (hacker asceticism).\n",
      "\n",
      "* **Sharing personal anecdotes:** Though primarily focused on technical subjects, Graham occasionally sprinkles in humorous self-reflection about being \"older\" while maintaining healthy skepticism (\"Young Software Engineers Should Fear Their Future\")\n",
      "    • He has candidly shared his own learning mistakes and challenges facing software engineers to fufse relatability.\n",
      "\n",
      "\n",
      "\n",
      "\n",
      "Overall: Paul GR is a respected programmer known for concise advice on effective coding, curiosity promotion (especially amongst young devs), sharing personal anecdotes alongside insightful writing about the field of Software Engineering\n"
     ]
    }
   ],
   "source": [
    "resp = gemma_7b.complete(\"Who is Paul Graham?\")\n",
    "print(resp)"
   ]
  },
  {
   "cell_type": "code",
   "execution_count": 7,
   "id": "e52f5b5a",
   "metadata": {},
   "outputs": [
    {
     "name": "stdout",
     "output_type": "stream",
     "text": [
      "Warren Buffet, born in Nebraska (March '34), is considered one the world's most successful investors and has achieved significant success with his value investing style for decades at Berkshire Hathaway Inc., where he sits as Chairman/CEO since March expriation day ('69). He specializes mainly on long term investments focused primarily into undervalued businesses. Harnessing a deep understanding of Intrinsic Value, characterized by assets that are clearly misunderstood relative to their actual potential return and generally traded lower than intrinsic value (Estimates being equal or slightly above book values.) Thus opportunistically picking up such bargain buys has enabled him not only significant returns but also shielding investors from downside risk as the corrected prices eventually tend towards fair pricing.\n"
     ]
    }
   ],
   "source": [
    "resp = gemma_7b.complete(\"Give me a 128 words summary of Warren Buffett.\")\n",
    "print(resp)"
   ]
  },
  {
   "cell_type": "code",
   "execution_count": null,
   "id": "1285725f",
   "metadata": {},
   "outputs": [],
   "source": []
  }
 ],
 "metadata": {
  "kernelspec": {
   "display_name": "conda_pytorch_p310",
   "language": "python",
   "name": "conda_pytorch_p310"
  },
  "language_info": {
   "codemirror_mode": {
    "name": "ipython",
    "version": 3
   },
   "file_extension": ".py",
   "mimetype": "text/x-python",
   "name": "python",
   "nbconvert_exporter": "python",
   "pygments_lexer": "ipython3",
   "version": "3.10.13"
  }
 },
 "nbformat": 4,
 "nbformat_minor": 5
}
