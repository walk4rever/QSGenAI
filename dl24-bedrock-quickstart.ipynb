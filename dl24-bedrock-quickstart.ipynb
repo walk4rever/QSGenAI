{
 "cells": [
  {
   "cell_type": "markdown",
   "id": "675a38f1",
   "metadata": {},
   "source": [
    "# Amazon Bedrock API\n"
   ]
  },
  {
   "cell_type": "code",
   "execution_count": null,
   "id": "1c3111dd",
   "metadata": {},
   "outputs": [],
   "source": [
    "# Test the Bedrock setup\n",
    "\n",
    "import boto3\n",
    "bedrock = boto3.client(service_name='bedrock')\n",
    "\n",
    "bedrock.get_foundation_model(modelIdentifier='anthropic.claude-v2')"
   ]
  },
  {
   "cell_type": "code",
   "execution_count": null,
   "id": "5a9212b0",
   "metadata": {},
   "outputs": [],
   "source": [
    "# Test Bedrock Runtime\n",
    "\n",
    "import boto3\n",
    "import json\n",
    "\n",
    "bedrock = boto3.client(service_name='bedrock-runtime')\n",
    "\n",
    "body = json.dumps({\n",
    "    \"prompt\": \"\\n\\nHuman:explain black holes to 8th graders?\\n\\nAssistant:\",\n",
    "    \"max_tokens_to_sample\": 1024,\n",
    "    \"temperature\": 0.1,\n",
    "    \"top_p\": 0.9,\n",
    "})\n",
    "\n",
    "modelId = 'anthropic.claude-v2'\n",
    "\n",
    "accept = 'application/json'\n",
    "\n",
    "contentType = 'application/json'\n",
    "\n",
    "response = bedrock.invoke_model(body=body, modelId=modelId, accept=accept, contentType=contentType)\n",
    "\n",
    "response_body = json.loads(response.get('body').read())\n",
    "\n",
    "# text\n",
    "print(response_body.get('completion'))\n"
   ]
  },
  {
   "cell_type": "code",
   "execution_count": null,
   "id": "ce0b9a4a",
   "metadata": {},
   "outputs": [],
   "source": [
    "# Invoke the model with streaming code\n",
    "\n",
    "import boto3\n",
    "import json\n",
    "\n",
    "brt = boto3.client(service_name='bedrock-runtime')\n",
    "\n",
    "body = json.dumps({\n",
    "    'prompt': '\\n\\nHuman: write an essay for living on mars in 1000 words\\n\\nAssistant:',\n",
    "    'max_tokens_to_sample': 1024\n",
    "})\n",
    "                   \n",
    "response = brt.invoke_model_with_response_stream(\n",
    "    modelId='anthropic.claude-v2', \n",
    "    body=body\n",
    ")\n",
    "    \n",
    "stream = response.get('body')\n",
    "if stream:\n",
    "    for event in stream:\n",
    "        chunk = event.get('chunk')\n",
    "        if chunk:\n",
    "            print(json.loads(chunk.get('bytes').decode()))"
   ]
  },
  {
   "cell_type": "code",
   "execution_count": null,
   "id": "a13d892c",
   "metadata": {},
   "outputs": [],
   "source": [
    "import boto3 \n",
    "bedrock = boto3.client(service_name='bedrock')\n",
    "\n",
    "bedrock.list_foundation_models()"
   ]
  },
  {
   "cell_type": "code",
   "execution_count": null,
   "id": "c8b90091",
   "metadata": {},
   "outputs": [],
   "source": [
    "import boto3 \n",
    "bedrock = boto3.client(service_name='bedrock')\n",
    "\n",
    "bedrock.get_foundation_model(modelIdentifier='anthropic.claude-v2')"
   ]
  },
  {
   "cell_type": "markdown",
   "id": "7d2fc3d8",
   "metadata": {},
   "source": [
    "Two types of Orchestration of Bedrock.\n",
    "\n",
    "With Amazon Bedrock, you can enable a Retrieval-Augmented Generation (RAG)ß workflow by using knowledge bases to build contextual applications by using the reasoning capabilities of LLMs. To use a knowledge base, choose Orchestration in the left navigation pane and then Knowledge base. For more information, see Knowledge base for Amazon Bedrock.\n",
    "\n",
    "Agents for Amazon Bedrock enables developers to configure an agent to complete actions based on organization data and user input. For example you might create an agent to take actions to fulfill a customer's request. To use an Agent, choose Orchestration in the left navigation pane and then Agent. For more information, see Agents for Amazon Bedrock."
   ]
  },
  {
   "cell_type": "code",
   "execution_count": null,
   "id": "ab40ab8f",
   "metadata": {},
   "outputs": [],
   "source": [
    "# Try with Claude3 Sonnet"
   ]
  },
  {
   "cell_type": "code",
   "execution_count": 1,
   "id": "82d552bc",
   "metadata": {},
   "outputs": [],
   "source": [
    "import boto3\n",
    "import json\n",
    "import logging\n",
    "\n",
    "from botocore.exceptions import ClientError"
   ]
  },
  {
   "cell_type": "code",
   "execution_count": 2,
   "id": "f9f2e390",
   "metadata": {},
   "outputs": [],
   "source": [
    "logger = logging.getLogger(__name__)\n",
    "logging.basicConfig(level=logging.DEBUG)"
   ]
  },
  {
   "cell_type": "code",
   "execution_count": 2,
   "id": "21a3c829",
   "metadata": {},
   "outputs": [],
   "source": [
    "def generate_message(bedrock_runtime, model_id, system_prompt, messages, max_tokens):\n",
    "    \n",
    "    body = json.dumps(\n",
    "    \n",
    "        {\n",
    "            \"anthropic_version\": \"bedrock-2023-05-31\",\n",
    "            \"max_tokens\": max_tokens,\n",
    "            \"system\": system_prompt,\n",
    "            \"messages\": messages\n",
    "        }\n",
    "    )\n",
    "    \n",
    "    response = bedrock_runtime.invoke_model(body=body, modelId=model_id)\n",
    "    response_body = json.loads(response.get('body').read())\n",
    "    \n",
    "    return response_body"
   ]
  },
  {
   "cell_type": "code",
   "execution_count": 3,
   "id": "1e5b030f",
   "metadata": {},
   "outputs": [],
   "source": [
    "# can put these into a main function\n",
    "\n",
    "bedrock_runtime = boto3.client(service_name='bedrock-runtime')\n",
    "\n",
    "model_id = 'anthropic.claude-3-sonnet-20240229-v1:0'\n",
    "\n",
    "system_prompt = \"Please response with user's input language, and be an expert as you can.\"\n",
    "\n",
    "max_tokens = 4096"
   ]
  },
  {
   "cell_type": "code",
   "execution_count": 8,
   "id": "c7b4b93b",
   "metadata": {},
   "outputs": [
    {
     "name": "stdout",
     "output_type": "stream",
     "text": [
      "User turn only.\n",
      "{\n",
      "    \"id\": \"msg_01Tw8nnqqY49rmJGnxdwSuEW\",\n",
      "    \"type\": \"message\",\n",
      "    \"role\": \"assistant\",\n",
      "    \"content\": [\n",
      "        {\n",
      "            \"type\": \"text\",\n",
      "            \"text\": \"Yes, I have the capability to recognize and analyze PDF (Portable Document Format) files. PDF is a widely used file format for sharing and distributing documents in a format that preserves the original formatting and layout. Please provide me with the PDF file you would like me to analyze, and I will do my best to extract and summarize the relevant information from it.\"\n",
      "        }\n",
      "    ],\n",
      "    \"model\": \"claude-3-sonnet-28k-20240229\",\n",
      "    \"stop_reason\": \"end_turn\",\n",
      "    \"stop_sequence\": null,\n",
      "    \"usage\": {\n",
      "        \"input_tokens\": 29,\n",
      "        \"output_tokens\": 78\n",
      "    }\n",
      "}\n"
     ]
    }
   ],
   "source": [
    "user_message = {\"role\": \"user\", \"content\": \"Can you recognize PDF file?\"}\n",
    "\n",
    "messages = [user_message]\n",
    "\n",
    "response = generate_message(bedrock_runtime, model_id, system_prompt, messages, max_tokens)\n",
    "\n",
    "print(\"User turn only.\")\n",
    "print(json.dumps(response, indent=4))"
   ]
  },
  {
   "cell_type": "code",
   "execution_count": 9,
   "id": "8c9d152a",
   "metadata": {},
   "outputs": [
    {
     "name": "stdout",
     "output_type": "stream",
     "text": [
      "User turn and prefilled assistant response.\n",
      "{\n",
      "    \"id\": \"msg_01V9c3r6A3h9nwtHUK16p1QS\",\n",
      "    \"type\": \"message\",\n",
      "    \"role\": \"assistant\",\n",
      "    \"content\": [\n",
      "        {\n",
      "            \"type\": \"text\",\n",
      "            \"text\": \"\\ud83d\\udc4d</emoji> Yes, I am able to recognize and understand PDF (Portable Document Format) files. PDF is a widely-used file format for representing documents in a way that preserves formatting and layout across different devices and operating systems. I have the capability to extract text, images, and other content from PDF files for analysis or processing. Please feel free to provide me with a PDF file, and I will do my best to interpret and work with its content based on your requirements.\"\n",
      "        }\n",
      "    ],\n",
      "    \"model\": \"claude-3-sonnet-28k-20240229\",\n",
      "    \"stop_reason\": \"end_turn\",\n",
      "    \"stop_sequence\": null,\n",
      "    \"usage\": {\n",
      "        \"input_tokens\": 32,\n",
      "        \"output_tokens\": 103\n",
      "    }\n",
      "}\n"
     ]
    }
   ],
   "source": [
    "assistant_message = {\"role\": \"assistant\", \"content\": \"<emoji>\"}\n",
    "messages = [user_message, assistant_message]\n",
    "response = generate_message(bedrock_runtime, model_id, system_prompt, messages, max_tokens)\n",
    "print(\"User turn and prefilled assistant response.\")\n",
    "print(json.dumps(response, indent=4))"
   ]
  },
  {
   "cell_type": "code",
   "execution_count": 11,
   "id": "c9f05605",
   "metadata": {},
   "outputs": [],
   "source": [
    "# Run a multi-modal claude3 sonnet example."
   ]
  },
  {
   "cell_type": "code",
   "execution_count": 13,
   "id": "0d8ff311",
   "metadata": {},
   "outputs": [],
   "source": [
    "import json\n",
    "import logging\n",
    "import base64\n",
    "import boto3\n",
    "\n",
    "from botocore.exceptions import ClientError"
   ]
  },
  {
   "cell_type": "code",
   "execution_count": 14,
   "id": "0583e485",
   "metadata": {},
   "outputs": [],
   "source": [
    "#logger = logging.getLogger(__name__)\n",
    "#logging.basicConfig(level=logging.INFO)"
   ]
  },
  {
   "cell_type": "code",
   "execution_count": 15,
   "id": "4da74a67",
   "metadata": {},
   "outputs": [],
   "source": [
    "def run_multi_modal_prompt(bedrock_runtime, model_id, messages, max_tokens):\n",
    "    \"\"\"\n",
    "    Inovke a model with a multimodal prompt.\n",
    "    \n",
    "    Args:\n",
    "        bedrock_runtime: The amazon Bedrock boto3 client.\n",
    "        model_id (str): The model ID to use.\n",
    "        messages (JSON): The messages to send to the model.\n",
    "        max_tokens (int): The maximum number of tokens to generate.\n",
    "        \n",
    "    Returns:\n",
    "        None.\n",
    "    \"\"\"\n",
    "    \n",
    "    body = json.dumps(\n",
    "        {\n",
    "            \"anthropic_version\": \"bedrock-2023-05-31\",\n",
    "            \"max_tokens\": max_tokens,\n",
    "            \"messages\": messages\n",
    "        }\n",
    "    )\n",
    "    \n",
    "    response = bedrock_runtime.invoke_model(body=body, modelId=model_id)\n",
    "    response_body = json.loads(response.get('body').read())\n",
    "    \n",
    "    return response_body"
   ]
  },
  {
   "cell_type": "code",
   "execution_count": 16,
   "id": "36cf3cd6",
   "metadata": {},
   "outputs": [],
   "source": [
    "# The following can be put into a main function.\n",
    "\n",
    "bedrock_runtime = boto3.client(service_name='bedrock-runtime')\n",
    "\n",
    "model_id = 'anthropic.claude-3-sonnet-20240229-v1:0'\n",
    "\n",
    "max_tokens = 4096\n",
    "\n",
    "input_image = \"./img/catdog.jpg\"\n",
    "\n",
    "input_text = \"What is in this image?\""
   ]
  },
  {
   "cell_type": "code",
   "execution_count": 17,
   "id": "7f1f348f",
   "metadata": {},
   "outputs": [],
   "source": [
    "with open(input_image, \"rb\") as image_file:\n",
    "    content_image = base64.b64encode(image_file.read()).decode('utf8')"
   ]
  },
  {
   "cell_type": "code",
   "execution_count": 21,
   "id": "b7e378c1",
   "metadata": {},
   "outputs": [],
   "source": [
    "message = {\n",
    "    \n",
    "    \"role\": \"user\",\n",
    "    \"content\": [\n",
    "        {\n",
    "            \"type\": \"image\",\n",
    "            \"source\": {\n",
    "                \"type\": \"base64\",\n",
    "                \"media_type\": \"image/jpeg\",\n",
    "                \"data\": content_image\n",
    "            }\n",
    "        },\n",
    "        {\n",
    "            \"type\": \"text\",\n",
    "            \"text\": input_text\n",
    "        }\n",
    "    ]\n",
    "}\n",
    "\n",
    "messages = [message]"
   ]
  },
  {
   "cell_type": "code",
   "execution_count": 22,
   "id": "8eef11a2",
   "metadata": {},
   "outputs": [
    {
     "name": "stdout",
     "output_type": "stream",
     "text": [
      "{\n",
      "    \"id\": \"msg_01FauRhDTSyATFBxpt1umypi\",\n",
      "    \"type\": \"message\",\n",
      "    \"role\": \"assistant\",\n",
      "    \"content\": [\n",
      "        {\n",
      "            \"type\": \"text\",\n",
      "            \"text\": \"This image depicts a dog and a cat sitting next to each other. The dog appears to be a tan-colored pug with large, expressive eyes. The cat is gray striped and has its mouth open, seeming to meow or make a vocalization. Both animals are positioned facing the camera against a plain background. The contrasting expressions and poses of the pug and cat create an amusing, light-hearted scene capturing the interactions between the two different pet species.\"\n",
      "        }\n",
      "    ],\n",
      "    \"model\": \"claude-3-sonnet-28k-20240229\",\n",
      "    \"stop_reason\": \"end_turn\",\n",
      "    \"stop_sequence\": null,\n",
      "    \"usage\": {\n",
      "        \"input_tokens\": 592,\n",
      "        \"output_tokens\": 101\n",
      "    }\n",
      "}\n"
     ]
    }
   ],
   "source": [
    "response = run_multi_modal_prompt(bedrock_runtime, model_id, messages, max_tokens)\n",
    "print(json.dumps(response, indent=4))"
   ]
  }
 ],
 "metadata": {
  "kernelspec": {
   "display_name": "Python 3 (ipykernel)",
   "language": "python",
   "name": "python3"
  },
  "language_info": {
   "codemirror_mode": {
    "name": "ipython",
    "version": 3
   },
   "file_extension": ".py",
   "mimetype": "text/x-python",
   "name": "python",
   "nbconvert_exporter": "python",
   "pygments_lexer": "ipython3",
   "version": "3.10.13"
  }
 },
 "nbformat": 4,
 "nbformat_minor": 5
}
