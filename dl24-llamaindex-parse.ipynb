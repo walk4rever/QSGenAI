{
 "cells": [
  {
   "cell_type": "code",
   "execution_count": 1,
   "id": "00618e95",
   "metadata": {},
   "outputs": [
    {
     "name": "stdout",
     "output_type": "stream",
     "text": [
      "\u001b[33mWARNING: Ignoring invalid distribution -ackaging (/opt/tensorflow/lib/python3.10/site-packages)\u001b[0m\u001b[33m\n",
      "\u001b[0mCollecting llama-parse\n",
      "  Downloading llama_parse-0.4.0-py3-none-any.whl.metadata (3.4 kB)\n",
      "Requirement already satisfied: llama-index-core>=0.10.7 in /opt/tensorflow/lib/python3.10/site-packages (from llama-parse) (0.10.22)\n",
      "Requirement already satisfied: PyYAML>=6.0.1 in /opt/tensorflow/lib/python3.10/site-packages (from llama-index-core>=0.10.7->llama-parse) (6.0.1)\n",
      "Requirement already satisfied: SQLAlchemy>=1.4.49 in /opt/tensorflow/lib/python3.10/site-packages (from SQLAlchemy[asyncio]>=1.4.49->llama-index-core>=0.10.7->llama-parse) (2.0.24)\n",
      "Requirement already satisfied: aiohttp<4.0.0,>=3.8.6 in /opt/tensorflow/lib/python3.10/site-packages (from llama-index-core>=0.10.7->llama-parse) (3.9.3)\n",
      "Requirement already satisfied: dataclasses-json in /opt/tensorflow/lib/python3.10/site-packages (from llama-index-core>=0.10.7->llama-parse) (0.6.4)\n",
      "Requirement already satisfied: deprecated>=1.2.9.3 in /opt/tensorflow/lib/python3.10/site-packages (from llama-index-core>=0.10.7->llama-parse) (1.2.14)\n",
      "Requirement already satisfied: dirtyjson<2.0.0,>=1.0.8 in /opt/tensorflow/lib/python3.10/site-packages (from llama-index-core>=0.10.7->llama-parse) (1.0.8)\n",
      "Requirement already satisfied: fsspec>=2023.5.0 in /opt/tensorflow/lib/python3.10/site-packages (from llama-index-core>=0.10.7->llama-parse) (2024.3.1)\n",
      "Requirement already satisfied: httpx in /opt/tensorflow/lib/python3.10/site-packages (from llama-index-core>=0.10.7->llama-parse) (0.25.2)\n",
      "Requirement already satisfied: llamaindex-py-client<0.2.0,>=0.1.13 in /opt/tensorflow/lib/python3.10/site-packages (from llama-index-core>=0.10.7->llama-parse) (0.1.13)\n",
      "Requirement already satisfied: nest-asyncio<2.0.0,>=1.5.8 in /opt/tensorflow/lib/python3.10/site-packages (from llama-index-core>=0.10.7->llama-parse) (1.6.0)\n",
      "Requirement already satisfied: networkx>=3.0 in /opt/tensorflow/lib/python3.10/site-packages (from llama-index-core>=0.10.7->llama-parse) (3.2.1)\n",
      "Requirement already satisfied: nltk<4.0.0,>=3.8.1 in /opt/tensorflow/lib/python3.10/site-packages (from llama-index-core>=0.10.7->llama-parse) (3.8.1)\n",
      "Requirement already satisfied: numpy in /opt/tensorflow/lib/python3.10/site-packages (from llama-index-core>=0.10.7->llama-parse) (1.26.4)\n",
      "Requirement already satisfied: openai>=1.1.0 in /opt/tensorflow/lib/python3.10/site-packages (from llama-index-core>=0.10.7->llama-parse) (1.14.2)\n",
      "Requirement already satisfied: pandas in /opt/tensorflow/lib/python3.10/site-packages (from llama-index-core>=0.10.7->llama-parse) (2.2.1)\n",
      "Requirement already satisfied: pillow>=9.0.0 in /opt/tensorflow/lib/python3.10/site-packages (from llama-index-core>=0.10.7->llama-parse) (10.2.0)\n",
      "Requirement already satisfied: requests>=2.31.0 in /opt/tensorflow/lib/python3.10/site-packages (from llama-index-core>=0.10.7->llama-parse) (2.31.0)\n",
      "Requirement already satisfied: tenacity<9.0.0,>=8.2.0 in /opt/tensorflow/lib/python3.10/site-packages (from llama-index-core>=0.10.7->llama-parse) (8.2.3)\n",
      "Requirement already satisfied: tiktoken>=0.3.3 in /opt/tensorflow/lib/python3.10/site-packages (from llama-index-core>=0.10.7->llama-parse) (0.6.0)\n",
      "Requirement already satisfied: tqdm<5.0.0,>=4.66.1 in /opt/tensorflow/lib/python3.10/site-packages (from llama-index-core>=0.10.7->llama-parse) (4.66.2)\n",
      "Requirement already satisfied: typing-extensions>=4.5.0 in /opt/tensorflow/lib/python3.10/site-packages (from llama-index-core>=0.10.7->llama-parse) (4.9.0)\n",
      "Requirement already satisfied: typing-inspect>=0.8.0 in /opt/tensorflow/lib/python3.10/site-packages (from llama-index-core>=0.10.7->llama-parse) (0.9.0)\n",
      "Requirement already satisfied: aiosignal>=1.1.2 in /opt/tensorflow/lib/python3.10/site-packages (from aiohttp<4.0.0,>=3.8.6->llama-index-core>=0.10.7->llama-parse) (1.3.1)\n",
      "Requirement already satisfied: attrs>=17.3.0 in /opt/tensorflow/lib/python3.10/site-packages (from aiohttp<4.0.0,>=3.8.6->llama-index-core>=0.10.7->llama-parse) (23.2.0)\n",
      "Requirement already satisfied: frozenlist>=1.1.1 in /opt/tensorflow/lib/python3.10/site-packages (from aiohttp<4.0.0,>=3.8.6->llama-index-core>=0.10.7->llama-parse) (1.4.1)\n",
      "Requirement already satisfied: multidict<7.0,>=4.5 in /opt/tensorflow/lib/python3.10/site-packages (from aiohttp<4.0.0,>=3.8.6->llama-index-core>=0.10.7->llama-parse) (6.0.5)\n",
      "Requirement already satisfied: yarl<2.0,>=1.0 in /opt/tensorflow/lib/python3.10/site-packages (from aiohttp<4.0.0,>=3.8.6->llama-index-core>=0.10.7->llama-parse) (1.9.4)\n",
      "Requirement already satisfied: async-timeout<5.0,>=4.0 in /opt/tensorflow/lib/python3.10/site-packages (from aiohttp<4.0.0,>=3.8.6->llama-index-core>=0.10.7->llama-parse) (4.0.3)\n",
      "Requirement already satisfied: wrapt<2,>=1.10 in /opt/tensorflow/lib/python3.10/site-packages (from deprecated>=1.2.9.3->llama-index-core>=0.10.7->llama-parse) (1.16.0)\n",
      "Requirement already satisfied: pydantic>=1.10 in /opt/tensorflow/lib/python3.10/site-packages (from llamaindex-py-client<0.2.0,>=0.1.13->llama-index-core>=0.10.7->llama-parse) (2.6.4)\n",
      "Requirement already satisfied: anyio in /opt/tensorflow/lib/python3.10/site-packages (from httpx->llama-index-core>=0.10.7->llama-parse) (4.3.0)\n",
      "Requirement already satisfied: certifi in /opt/tensorflow/lib/python3.10/site-packages (from httpx->llama-index-core>=0.10.7->llama-parse) (2024.2.2)\n",
      "Requirement already satisfied: httpcore==1.* in /opt/tensorflow/lib/python3.10/site-packages (from httpx->llama-index-core>=0.10.7->llama-parse) (1.0.4)\n",
      "Requirement already satisfied: idna in /opt/tensorflow/lib/python3.10/site-packages (from httpx->llama-index-core>=0.10.7->llama-parse) (3.6)\n",
      "Requirement already satisfied: sniffio in /opt/tensorflow/lib/python3.10/site-packages (from httpx->llama-index-core>=0.10.7->llama-parse) (1.3.1)\n",
      "Requirement already satisfied: h11<0.15,>=0.13 in /opt/tensorflow/lib/python3.10/site-packages (from httpcore==1.*->httpx->llama-index-core>=0.10.7->llama-parse) (0.14.0)\n",
      "Requirement already satisfied: click in /opt/tensorflow/lib/python3.10/site-packages (from nltk<4.0.0,>=3.8.1->llama-index-core>=0.10.7->llama-parse) (8.1.7)\n",
      "Requirement already satisfied: joblib in /opt/tensorflow/lib/python3.10/site-packages (from nltk<4.0.0,>=3.8.1->llama-index-core>=0.10.7->llama-parse) (1.3.2)\n",
      "Requirement already satisfied: regex>=2021.8.3 in /opt/tensorflow/lib/python3.10/site-packages (from nltk<4.0.0,>=3.8.1->llama-index-core>=0.10.7->llama-parse) (2023.12.25)\n",
      "Requirement already satisfied: distro<2,>=1.7.0 in /opt/tensorflow/lib/python3.10/site-packages (from openai>=1.1.0->llama-index-core>=0.10.7->llama-parse) (1.9.0)\n",
      "Requirement already satisfied: charset-normalizer<4,>=2 in /opt/tensorflow/lib/python3.10/site-packages (from requests>=2.31.0->llama-index-core>=0.10.7->llama-parse) (3.3.2)\n",
      "Requirement already satisfied: urllib3<3,>=1.21.1 in /opt/tensorflow/lib/python3.10/site-packages (from requests>=2.31.0->llama-index-core>=0.10.7->llama-parse) (1.26.18)\n",
      "Requirement already satisfied: greenlet!=0.4.17 in /opt/tensorflow/lib/python3.10/site-packages (from SQLAlchemy>=1.4.49->SQLAlchemy[asyncio]>=1.4.49->llama-index-core>=0.10.7->llama-parse) (3.0.3)\n",
      "Requirement already satisfied: mypy-extensions>=0.3.0 in /opt/tensorflow/lib/python3.10/site-packages (from typing-inspect>=0.8.0->llama-index-core>=0.10.7->llama-parse) (1.0.0)\n",
      "Requirement already satisfied: marshmallow<4.0.0,>=3.18.0 in /opt/tensorflow/lib/python3.10/site-packages (from dataclasses-json->llama-index-core>=0.10.7->llama-parse) (3.20.2)\n",
      "Requirement already satisfied: python-dateutil>=2.8.2 in /opt/tensorflow/lib/python3.10/site-packages (from pandas->llama-index-core>=0.10.7->llama-parse) (2.8.2)\n",
      "Requirement already satisfied: pytz>=2020.1 in /opt/tensorflow/lib/python3.10/site-packages (from pandas->llama-index-core>=0.10.7->llama-parse) (2024.1)\n",
      "Requirement already satisfied: tzdata>=2022.7 in /opt/tensorflow/lib/python3.10/site-packages (from pandas->llama-index-core>=0.10.7->llama-parse) (2024.1)\n",
      "Requirement already satisfied: exceptiongroup>=1.0.2 in /opt/tensorflow/lib/python3.10/site-packages (from anyio->httpx->llama-index-core>=0.10.7->llama-parse) (1.2.0)\n",
      "Requirement already satisfied: packaging>=17.0 in /opt/tensorflow/lib/python3.10/site-packages (from marshmallow<4.0.0,>=3.18.0->dataclasses-json->llama-index-core>=0.10.7->llama-parse) (23.2)\n",
      "Requirement already satisfied: annotated-types>=0.4.0 in /opt/tensorflow/lib/python3.10/site-packages (from pydantic>=1.10->llamaindex-py-client<0.2.0,>=0.1.13->llama-index-core>=0.10.7->llama-parse) (0.6.0)\n",
      "Requirement already satisfied: pydantic-core==2.16.3 in /opt/tensorflow/lib/python3.10/site-packages (from pydantic>=1.10->llamaindex-py-client<0.2.0,>=0.1.13->llama-index-core>=0.10.7->llama-parse) (2.16.3)\n",
      "Requirement already satisfied: six>=1.5 in /opt/tensorflow/lib/python3.10/site-packages (from python-dateutil>=2.8.2->pandas->llama-index-core>=0.10.7->llama-parse) (1.16.0)\n"
     ]
    },
    {
     "name": "stdout",
     "output_type": "stream",
     "text": [
      "Downloading llama_parse-0.4.0-py3-none-any.whl (7.0 kB)\n",
      "\u001b[33mWARNING: Ignoring invalid distribution -ackaging (/opt/tensorflow/lib/python3.10/site-packages)\u001b[0m\u001b[33m\n",
      "\u001b[0mInstalling collected packages: llama-parse\n",
      "Successfully installed llama-parse-0.4.0\n"
     ]
    }
   ],
   "source": [
    "!pip install llama-parse"
   ]
  },
  {
   "cell_type": "code",
   "execution_count": 2,
   "id": "c3645c49",
   "metadata": {},
   "outputs": [],
   "source": [
    "import nest_asyncio\n",
    "nest_asyncio.apply()"
   ]
  },
  {
   "cell_type": "code",
   "execution_count": 3,
   "id": "f2b50d38",
   "metadata": {},
   "outputs": [],
   "source": [
    "from llama_parse import LlamaParse\n",
    "\n",
    "parser = LlamaParse(\n",
    "    api_key=\"llx-V5h9tBrzMol9JLEptDFb0uyVhwrCTVPV0ctUo4ww87VMLiVp\",\n",
    "    result_type=\"markdown\",\n",
    "    num_workers=4,\n",
    "    verbose=True,\n",
    "    language=\"en\"\n",
    ")"
   ]
  },
  {
   "cell_type": "code",
   "execution_count": 4,
   "id": "64ac932e",
   "metadata": {},
   "outputs": [
    {
     "name": "stdout",
     "output_type": "stream",
     "text": [
      "Started parsing the file under job_id 8c0c6a59-feec-4371-8900-6631b254d6fa\n",
      "........."
     ]
    }
   ],
   "source": [
    "documents = parser.load_data(\"./img/The-Almanack-of-Naval-Ravikant.pdf\")"
   ]
  },
  {
   "cell_type": "code",
   "execution_count": 7,
   "id": "db76c7b7",
   "metadata": {},
   "outputs": [
    {
     "name": "stdout",
     "output_type": "stream",
     "text": [
      "rize or punctuate an idea from the main prose. This formatting shows I’m quoting a tweet. Tweetstorms are connected tweets, formatted like this: 10 · THE ALMANACK OF NAVAL RAVIKANT\n",
      "---\n",
      "This is the first tweet in a tweetstorm.\n",
      "\n",
      "This is the second tweet. Tweetstorms are longer series of tweets all threaded together, similar to a blog post.\n",
      "\n",
      "Many excerpts are from interviews by fantastic creators like\n",
      "Shane Parrish, Sarah Lacy, Joe Rogan, and Tim Ferriss. The\n",
      "questions are bolded. For simplicity and continuity, I do not\n",
      "distinguish various interviewers from each other.\n",
      "\n",
      "NON-NARRATIVE\n",
      "\n",
      "This is a choose-your-own adventure book. Jump to anything\n",
      "that interests you and skip anything that doesn’t.\n",
      "\n",
      "LOOK IT UP\n",
      "\n",
      "If you find a word or concept you’re not familiar with, look it\n",
      "up. Or, read on to find more context. Some referenced ideas\n",
      "are expanded upon later in the book.\n",
      "\n",
      "CITATIONS\n",
      "\n",
      "Citations (like [1]) indicate the end of an excerpt. I’ve done my\n",
      "best to maintain context for smooth reading. Sources are in\n",
      "the appendix for reference. Some sources appear many times\n",
      "and do not appear in order.\n",
      "\n",
      "Important Notes On This Book (Disclaimer)\n",
      "---\n",
      "NO_CONTENT_HERE\n",
      "---\n",
      "FOREWORD BY TIM FERRISS\n",
      "\n",
      "Dear Reader,\n",
      "\n",
      "It feels strange for me to write these words, as I committed many years ago to never write forewords. I’m making a rare exception in this case for three reasons. First, a free version of this book is being offered to the world in a digital/Kindle/eBook format with no strings attached. Second, I’ve known Naval for more than a decade and have long wanted someone to compile this book. Third, I’m increasing the likelihood of Naval’s next child being named “Tim” (I’ll settle for “Timbo,” if he prefers).\n",
      "\n",
      "Naval is one of the smartest people I’ve ever met, and he’s also one of the most courageous. Not in the “run into the fire without thinking twice” sense, but in the “think twice and then tell everyone they’re focusing on the wrong fire” sense. He is rarely part of any consensus, and the uni\n"
     ]
    }
   ],
   "source": [
    "print(documents[0].text[4000:6000])"
   ]
  },
  {
   "cell_type": "code",
   "execution_count": 11,
   "id": "fb6601c9",
   "metadata": {},
   "outputs": [
    {
     "name": "stdout",
     "output_type": "stream",
     "text": [
      "Doc ID: 5bcd5b27-2629-4dca-915b-8d528a941287\n",
      "Text: NO_CONTENT_HERE --- NO_CONTENT_HERE --- NO_CONTENT_HERE --- #\n",
      "The Almanack of Naval Ravikant  Copyright © 2020 Eric Jorgenson  All\n",
      "rights reserved.  # The Almanack of Naval Ravikant  A Guide to Wealth\n",
      "and Happiness  |ISBN|978-1-5445-1422-2|Hardcover| |---|---|---| |\n",
      "|978-1-5445-1421-5|Paperback| | |978-1-5445-1420-8|Ebook|  This book\n",
      "has been cr...\n"
     ]
    }
   ],
   "source": [
    "print(documents[0])"
   ]
  }
 ],
 "metadata": {
  "kernelspec": {
   "display_name": "Python 3 (ipykernel)",
   "language": "python",
   "name": "python3"
  },
  "language_info": {
   "codemirror_mode": {
    "name": "ipython",
    "version": 3
   },
   "file_extension": ".py",
   "mimetype": "text/x-python",
   "name": "python",
   "nbconvert_exporter": "python",
   "pygments_lexer": "ipython3",
   "version": "3.10.13"
  }
 },
 "nbformat": 4,
 "nbformat_minor": 5
}
