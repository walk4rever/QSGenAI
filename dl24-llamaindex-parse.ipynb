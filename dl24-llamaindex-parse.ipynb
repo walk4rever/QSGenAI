{
 "cells": [
  {
   "cell_type": "code",
   "execution_count": 1,
   "id": "00618e95",
   "metadata": {},
   "outputs": [
    {
     "name": "stdout",
     "output_type": "stream",
     "text": [
      "\u001b[33mWARNING: Ignoring invalid distribution -ackaging (/opt/tensorflow/lib/python3.10/site-packages)\u001b[0m\u001b[33m\n",
      "\u001b[0mCollecting llama-parse\n",
      "  Downloading llama_parse-0.4.0-py3-none-any.whl.metadata (3.4 kB)\n",
      "Requirement already satisfied: llama-index-core>=0.10.7 in /opt/tensorflow/lib/python3.10/site-packages (from llama-parse) (0.10.22)\n",
      "Requirement already satisfied: PyYAML>=6.0.1 in /opt/tensorflow/lib/python3.10/site-packages (from llama-index-core>=0.10.7->llama-parse) (6.0.1)\n",
      "Requirement already satisfied: SQLAlchemy>=1.4.49 in /opt/tensorflow/lib/python3.10/site-packages (from SQLAlchemy[asyncio]>=1.4.49->llama-index-core>=0.10.7->llama-parse) (2.0.24)\n",
      "Requirement already satisfied: aiohttp<4.0.0,>=3.8.6 in /opt/tensorflow/lib/python3.10/site-packages (from llama-index-core>=0.10.7->llama-parse) (3.9.3)\n",
      "Requirement already satisfied: dataclasses-json in /opt/tensorflow/lib/python3.10/site-packages (from llama-index-core>=0.10.7->llama-parse) (0.6.4)\n",
      "Requirement already satisfied: deprecated>=1.2.9.3 in /opt/tensorflow/lib/python3.10/site-packages (from llama-index-core>=0.10.7->llama-parse) (1.2.14)\n",
      "Requirement already satisfied: dirtyjson<2.0.0,>=1.0.8 in /opt/tensorflow/lib/python3.10/site-packages (from llama-index-core>=0.10.7->llama-parse) (1.0.8)\n",
      "Requirement already satisfied: fsspec>=2023.5.0 in /opt/tensorflow/lib/python3.10/site-packages (from llama-index-core>=0.10.7->llama-parse) (2024.3.1)\n",
      "Requirement already satisfied: httpx in /opt/tensorflow/lib/python3.10/site-packages (from llama-index-core>=0.10.7->llama-parse) (0.25.2)\n",
      "Requirement already satisfied: llamaindex-py-client<0.2.0,>=0.1.13 in /opt/tensorflow/lib/python3.10/site-packages (from llama-index-core>=0.10.7->llama-parse) (0.1.13)\n",
      "Requirement already satisfied: nest-asyncio<2.0.0,>=1.5.8 in /opt/tensorflow/lib/python3.10/site-packages (from llama-index-core>=0.10.7->llama-parse) (1.6.0)\n",
      "Requirement already satisfied: networkx>=3.0 in /opt/tensorflow/lib/python3.10/site-packages (from llama-index-core>=0.10.7->llama-parse) (3.2.1)\n",
      "Requirement already satisfied: nltk<4.0.0,>=3.8.1 in /opt/tensorflow/lib/python3.10/site-packages (from llama-index-core>=0.10.7->llama-parse) (3.8.1)\n",
      "Requirement already satisfied: numpy in /opt/tensorflow/lib/python3.10/site-packages (from llama-index-core>=0.10.7->llama-parse) (1.26.4)\n",
      "Requirement already satisfied: openai>=1.1.0 in /opt/tensorflow/lib/python3.10/site-packages (from llama-index-core>=0.10.7->llama-parse) (1.14.2)\n",
      "Requirement already satisfied: pandas in /opt/tensorflow/lib/python3.10/site-packages (from llama-index-core>=0.10.7->llama-parse) (2.2.1)\n",
      "Requirement already satisfied: pillow>=9.0.0 in /opt/tensorflow/lib/python3.10/site-packages (from llama-index-core>=0.10.7->llama-parse) (10.2.0)\n",
      "Requirement already satisfied: requests>=2.31.0 in /opt/tensorflow/lib/python3.10/site-packages (from llama-index-core>=0.10.7->llama-parse) (2.31.0)\n",
      "Requirement already satisfied: tenacity<9.0.0,>=8.2.0 in /opt/tensorflow/lib/python3.10/site-packages (from llama-index-core>=0.10.7->llama-parse) (8.2.3)\n",
      "Requirement already satisfied: tiktoken>=0.3.3 in /opt/tensorflow/lib/python3.10/site-packages (from llama-index-core>=0.10.7->llama-parse) (0.6.0)\n",
      "Requirement already satisfied: tqdm<5.0.0,>=4.66.1 in /opt/tensorflow/lib/python3.10/site-packages (from llama-index-core>=0.10.7->llama-parse) (4.66.2)\n",
      "Requirement already satisfied: typing-extensions>=4.5.0 in /opt/tensorflow/lib/python3.10/site-packages (from llama-index-core>=0.10.7->llama-parse) (4.9.0)\n",
      "Requirement already satisfied: typing-inspect>=0.8.0 in /opt/tensorflow/lib/python3.10/site-packages (from llama-index-core>=0.10.7->llama-parse) (0.9.0)\n",
      "Requirement already satisfied: aiosignal>=1.1.2 in /opt/tensorflow/lib/python3.10/site-packages (from aiohttp<4.0.0,>=3.8.6->llama-index-core>=0.10.7->llama-parse) (1.3.1)\n",
      "Requirement already satisfied: attrs>=17.3.0 in /opt/tensorflow/lib/python3.10/site-packages (from aiohttp<4.0.0,>=3.8.6->llama-index-core>=0.10.7->llama-parse) (23.2.0)\n",
      "Requirement already satisfied: frozenlist>=1.1.1 in /opt/tensorflow/lib/python3.10/site-packages (from aiohttp<4.0.0,>=3.8.6->llama-index-core>=0.10.7->llama-parse) (1.4.1)\n",
      "Requirement already satisfied: multidict<7.0,>=4.5 in /opt/tensorflow/lib/python3.10/site-packages (from aiohttp<4.0.0,>=3.8.6->llama-index-core>=0.10.7->llama-parse) (6.0.5)\n",
      "Requirement already satisfied: yarl<2.0,>=1.0 in /opt/tensorflow/lib/python3.10/site-packages (from aiohttp<4.0.0,>=3.8.6->llama-index-core>=0.10.7->llama-parse) (1.9.4)\n",
      "Requirement already satisfied: async-timeout<5.0,>=4.0 in /opt/tensorflow/lib/python3.10/site-packages (from aiohttp<4.0.0,>=3.8.6->llama-index-core>=0.10.7->llama-parse) (4.0.3)\n",
      "Requirement already satisfied: wrapt<2,>=1.10 in /opt/tensorflow/lib/python3.10/site-packages (from deprecated>=1.2.9.3->llama-index-core>=0.10.7->llama-parse) (1.16.0)\n",
      "Requirement already satisfied: pydantic>=1.10 in /opt/tensorflow/lib/python3.10/site-packages (from llamaindex-py-client<0.2.0,>=0.1.13->llama-index-core>=0.10.7->llama-parse) (2.6.4)\n",
      "Requirement already satisfied: anyio in /opt/tensorflow/lib/python3.10/site-packages (from httpx->llama-index-core>=0.10.7->llama-parse) (4.3.0)\n",
      "Requirement already satisfied: certifi in /opt/tensorflow/lib/python3.10/site-packages (from httpx->llama-index-core>=0.10.7->llama-parse) (2024.2.2)\n",
      "Requirement already satisfied: httpcore==1.* in /opt/tensorflow/lib/python3.10/site-packages (from httpx->llama-index-core>=0.10.7->llama-parse) (1.0.4)\n",
      "Requirement already satisfied: idna in /opt/tensorflow/lib/python3.10/site-packages (from httpx->llama-index-core>=0.10.7->llama-parse) (3.6)\n",
      "Requirement already satisfied: sniffio in /opt/tensorflow/lib/python3.10/site-packages (from httpx->llama-index-core>=0.10.7->llama-parse) (1.3.1)\n",
      "Requirement already satisfied: h11<0.15,>=0.13 in /opt/tensorflow/lib/python3.10/site-packages (from httpcore==1.*->httpx->llama-index-core>=0.10.7->llama-parse) (0.14.0)\n",
      "Requirement already satisfied: click in /opt/tensorflow/lib/python3.10/site-packages (from nltk<4.0.0,>=3.8.1->llama-index-core>=0.10.7->llama-parse) (8.1.7)\n",
      "Requirement already satisfied: joblib in /opt/tensorflow/lib/python3.10/site-packages (from nltk<4.0.0,>=3.8.1->llama-index-core>=0.10.7->llama-parse) (1.3.2)\n",
      "Requirement already satisfied: regex>=2021.8.3 in /opt/tensorflow/lib/python3.10/site-packages (from nltk<4.0.0,>=3.8.1->llama-index-core>=0.10.7->llama-parse) (2023.12.25)\n",
      "Requirement already satisfied: distro<2,>=1.7.0 in /opt/tensorflow/lib/python3.10/site-packages (from openai>=1.1.0->llama-index-core>=0.10.7->llama-parse) (1.9.0)\n",
      "Requirement already satisfied: charset-normalizer<4,>=2 in /opt/tensorflow/lib/python3.10/site-packages (from requests>=2.31.0->llama-index-core>=0.10.7->llama-parse) (3.3.2)\n",
      "Requirement already satisfied: urllib3<3,>=1.21.1 in /opt/tensorflow/lib/python3.10/site-packages (from requests>=2.31.0->llama-index-core>=0.10.7->llama-parse) (1.26.18)\n",
      "Requirement already satisfied: greenlet!=0.4.17 in /opt/tensorflow/lib/python3.10/site-packages (from SQLAlchemy>=1.4.49->SQLAlchemy[asyncio]>=1.4.49->llama-index-core>=0.10.7->llama-parse) (3.0.3)\n",
      "Requirement already satisfied: mypy-extensions>=0.3.0 in /opt/tensorflow/lib/python3.10/site-packages (from typing-inspect>=0.8.0->llama-index-core>=0.10.7->llama-parse) (1.0.0)\n",
      "Requirement already satisfied: marshmallow<4.0.0,>=3.18.0 in /opt/tensorflow/lib/python3.10/site-packages (from dataclasses-json->llama-index-core>=0.10.7->llama-parse) (3.20.2)\n",
      "Requirement already satisfied: python-dateutil>=2.8.2 in /opt/tensorflow/lib/python3.10/site-packages (from pandas->llama-index-core>=0.10.7->llama-parse) (2.8.2)\n",
      "Requirement already satisfied: pytz>=2020.1 in /opt/tensorflow/lib/python3.10/site-packages (from pandas->llama-index-core>=0.10.7->llama-parse) (2024.1)\n",
      "Requirement already satisfied: tzdata>=2022.7 in /opt/tensorflow/lib/python3.10/site-packages (from pandas->llama-index-core>=0.10.7->llama-parse) (2024.1)\n",
      "Requirement already satisfied: exceptiongroup>=1.0.2 in /opt/tensorflow/lib/python3.10/site-packages (from anyio->httpx->llama-index-core>=0.10.7->llama-parse) (1.2.0)\n",
      "Requirement already satisfied: packaging>=17.0 in /opt/tensorflow/lib/python3.10/site-packages (from marshmallow<4.0.0,>=3.18.0->dataclasses-json->llama-index-core>=0.10.7->llama-parse) (23.2)\n",
      "Requirement already satisfied: annotated-types>=0.4.0 in /opt/tensorflow/lib/python3.10/site-packages (from pydantic>=1.10->llamaindex-py-client<0.2.0,>=0.1.13->llama-index-core>=0.10.7->llama-parse) (0.6.0)\n",
      "Requirement already satisfied: pydantic-core==2.16.3 in /opt/tensorflow/lib/python3.10/site-packages (from pydantic>=1.10->llamaindex-py-client<0.2.0,>=0.1.13->llama-index-core>=0.10.7->llama-parse) (2.16.3)\n",
      "Requirement already satisfied: six>=1.5 in /opt/tensorflow/lib/python3.10/site-packages (from python-dateutil>=2.8.2->pandas->llama-index-core>=0.10.7->llama-parse) (1.16.0)\n"
     ]
    },
    {
     "name": "stdout",
     "output_type": "stream",
     "text": [
      "Downloading llama_parse-0.4.0-py3-none-any.whl (7.0 kB)\n",
      "\u001b[33mWARNING: Ignoring invalid distribution -ackaging (/opt/tensorflow/lib/python3.10/site-packages)\u001b[0m\u001b[33m\n",
      "\u001b[0mInstalling collected packages: llama-parse\n",
      "Successfully installed llama-parse-0.4.0\n"
     ]
    }
   ],
   "source": [
    "!pip install llama-parse"
   ]
  },
  {
   "cell_type": "code",
   "execution_count": 1,
   "id": "c3645c49",
   "metadata": {},
   "outputs": [],
   "source": [
    "import nest_asyncio\n",
    "nest_asyncio.apply()"
   ]
  },
  {
   "cell_type": "code",
   "execution_count": 2,
   "id": "f2b50d38",
   "metadata": {},
   "outputs": [],
   "source": [
    "from llama_parse import LlamaParse\n",
    "\n",
    "parser = LlamaParse(\n",
    "    # api_key=\"llx-*\",\n",
    "    result_type=\"markdown\",\n",
    "    num_workers=4,\n",
    "    verbose=True,\n",
    "    language=\"en\"\n",
    ")"
   ]
  },
  {
   "cell_type": "code",
   "execution_count": 3,
   "id": "64ac932e",
   "metadata": {},
   "outputs": [
    {
     "name": "stdout",
     "output_type": "stream",
     "text": [
      "Started parsing the file under job_id d82fc6fa-75c8-4cec-a0fa-a5d4ee8165db\n"
     ]
    }
   ],
   "source": [
    "documents = parser.load_data(\"./img/The-Almanack-of-Naval-Ravikant.pdf\")"
   ]
  },
  {
   "cell_type": "code",
   "execution_count": 4,
   "id": "db76c7b7",
   "metadata": {},
   "outputs": [
    {
     "name": "stdout",
     "output_type": "stream",
     "text": [
      "t.\n",
      "- Please verify phrasing with a primary source before citing Naval from this text.\n",
      "- Please interpret generously.\n",
      "\n",
      "By definition, everything in this book is taken out of context. Interpretations will change over time. Read and interpret generously.\n",
      "---\n",
      "erously. Understand the original intent may be different than your interpretation in a different time, medium, format, and context. In the process of creating this book, I may have mistakenly re-contextualized, misinterpreted, or misunderstood things. As content passed through time, space, and medium, some phrasing may have shifted in flight. Every effort has been made to maintain the original intent, but errors are (very) possible. Interviews have been transcribed, edited, rearranged, and re-edited for readability. I did my best to keep Naval’s ideas in his own words. All brilliance in this book is Naval’s; any mistakes are mine.\n",
      "\n",
      "TWEETS AND TWEETSTORMS Tweets are formatted like pull quotes but are unique content. I use them to summa\n"
     ]
    }
   ],
   "source": [
    "print(documents[0].text[3000:4000])"
   ]
  },
  {
   "cell_type": "code",
   "execution_count": 5,
   "id": "fb6601c9",
   "metadata": {},
   "outputs": [
    {
     "name": "stdout",
     "output_type": "stream",
     "text": [
      "Doc ID: e77f2f5f-b575-43a8-8170-267d7486b233\n",
      "Text: NO_CONTENT_HERE --- NO_CONTENT_HERE --- NO_CONTENT_HERE --- #\n",
      "The Almanack of Naval Ravikant  Copyright © 2020 Eric Jorgenson  All\n",
      "rights reserved.  # The Almanack of Naval Ravikant  A Guide to Wealth\n",
      "and Happiness  |ISBN|978-1-5445-1422-2|Hardcover| |---|---|---| |\n",
      "|978-1-5445-1421-5|Paperback| | |978-1-5445-1420-8|Ebook|  This book\n",
      "has been cr...\n"
     ]
    }
   ],
   "source": [
    "print(documents[0])"
   ]
  }
 ],
 "metadata": {
  "kernelspec": {
   "display_name": "Python 3 (ipykernel)",
   "language": "python",
   "name": "python3"
  },
  "language_info": {
   "codemirror_mode": {
    "name": "ipython",
    "version": 3
   },
   "file_extension": ".py",
   "mimetype": "text/x-python",
   "name": "python",
   "nbconvert_exporter": "python",
   "pygments_lexer": "ipython3",
   "version": "3.10.13"
  }
 },
 "nbformat": 4,
 "nbformat_minor": 5
}
