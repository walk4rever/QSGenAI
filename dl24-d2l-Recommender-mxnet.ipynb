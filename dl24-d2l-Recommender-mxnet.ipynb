{
 "cells": [
  {
   "cell_type": "markdown",
   "id": "cb5a18b1",
   "metadata": {},
   "source": [
    "# Chapter Recommender Systems"
   ]
  },
  {
   "cell_type": "markdown",
   "id": "2ae4347e",
   "metadata": {},
   "source": [
    "## Chapter 21.1 Overview of Recommender Systems"
   ]
  },
  {
   "cell_type": "markdown",
   "id": "758ceefa",
   "metadata": {},
   "source": [
    "* Recommender systems are important for individual users and industries. Collaborative filtering is a key concept in recommendation.\n",
    "\n",
    "* There are two types of feedbacks: implicit feedback and explicit feedback. A number of recommendation tasks have been explored during the last decade."
   ]
  },
  {
   "cell_type": "markdown",
   "id": "27e57f9f",
   "metadata": {},
   "source": [
    "## Chapter 21.2 The MovieLens Dataset"
   ]
  },
  {
   "cell_type": "code",
   "execution_count": 1,
   "id": "764b6fb2",
   "metadata": {},
   "outputs": [
    {
     "ename": "ModuleNotFoundError",
     "evalue": "No module named 'mxnet'",
     "output_type": "error",
     "traceback": [
      "\u001b[0;31m---------------------------------------------------------------------------\u001b[0m",
      "\u001b[0;31mModuleNotFoundError\u001b[0m                       Traceback (most recent call last)",
      "Cell \u001b[0;32mIn[1], line 3\u001b[0m\n\u001b[1;32m      1\u001b[0m \u001b[38;5;28;01mimport\u001b[39;00m \u001b[38;5;21;01mos\u001b[39;00m\n\u001b[1;32m      2\u001b[0m \u001b[38;5;28;01mimport\u001b[39;00m \u001b[38;5;21;01mpandas\u001b[39;00m \u001b[38;5;28;01mas\u001b[39;00m \u001b[38;5;21;01mpd\u001b[39;00m\n\u001b[0;32m----> 3\u001b[0m \u001b[38;5;28;01mfrom\u001b[39;00m \u001b[38;5;21;01mmxnet\u001b[39;00m \u001b[38;5;28;01mimport\u001b[39;00m gluon, np\n\u001b[1;32m      4\u001b[0m \u001b[38;5;28;01mfrom\u001b[39;00m \u001b[38;5;21;01md2l\u001b[39;00m \u001b[38;5;28;01mimport\u001b[39;00m mxnet \u001b[38;5;28;01mas\u001b[39;00m d2l\n",
      "\u001b[0;31mModuleNotFoundError\u001b[0m: No module named 'mxnet'"
     ]
    }
   ],
   "source": [
    "import os\n",
    "import pandas as pd\n",
    "from mxnet import gluon, np\n",
    "from d2l import mxnet as d2l"
   ]
  }
 ],
 "metadata": {
  "kernelspec": {
   "display_name": "conda_python3",
   "language": "python",
   "name": "conda_python3"
  },
  "language_info": {
   "codemirror_mode": {
    "name": "ipython",
    "version": 3
   },
   "file_extension": ".py",
   "mimetype": "text/x-python",
   "name": "python",
   "nbconvert_exporter": "python",
   "pygments_lexer": "ipython3",
   "version": "3.10.13"
  }
 },
 "nbformat": 4,
 "nbformat_minor": 5
}
