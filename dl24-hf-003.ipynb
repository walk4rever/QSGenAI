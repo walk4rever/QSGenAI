{
 "cells": [
  {
   "cell_type": "markdown",
   "id": "59214cfa",
   "metadata": {},
   "source": [
    "# A test example of Microsoft phi-2 model for text generation!"
   ]
  },
  {
   "cell_type": "code",
   "execution_count": null,
   "id": "ea94cb83",
   "metadata": {},
   "outputs": [],
   "source": [
    "# Install missing packages of flash_attn and einops\n",
    "\n",
    "! pip install flash_attn einops"
   ]
  },
  {
   "cell_type": "code",
   "execution_count": 2,
   "id": "adb7cbce",
   "metadata": {},
   "outputs": [
    {
     "name": "stderr",
     "output_type": "stream",
     "text": [
      "Explicitly passing a `revision` is encouraged when loading a configuration with custom code to ensure no malicious code has been contributed in a newer revision.\n",
      "Explicitly passing a `revision` is encouraged when loading a model with custom code to ensure no malicious code has been contributed in a newer revision.\n"
     ]
    },
    {
     "data": {
      "application/vnd.jupyter.widget-view+json": {
       "model_id": "32ff41904fad455883e6532aff058ee7",
       "version_major": 2,
       "version_minor": 0
      },
      "text/plain": [
       "Loading checkpoint shards:   0%|          | 0/2 [00:00<?, ?it/s]"
      ]
     },
     "metadata": {},
     "output_type": "display_data"
    },
    {
     "name": "stdout",
     "output_type": "stream",
     "text": [
      "What's your main capabilities?\n",
      "What are your main challenges?\n",
      "What are your main opportunities?\n",
      "What are your main threats?\n",
      "What are your main strengths?\n",
      "What are your main weaknesses?\n",
      "What are your main opportunities?\n",
      "What are your main threats?\n",
      "What are your main strengths?\n",
      "What are your main weaknesses?\n",
      "What are your main opportunities?\n",
      "What are your main threats?\n",
      "What are your main strengths?\n",
      "What are your main weaknesses?\n",
      "What are your main opportunities?\n",
      "What are your main threats?\n",
      "What are your main strengths?\n",
      "What are your main weaknesses?\n",
      "What are your main opportunities?\n",
      "What are your main threats?\n",
      "What are your main strengths?\n",
      "What are your main weaknesses?\n",
      "What are your main opportunities?\n",
      "What are your main threats?\n",
      "What are your main strengths?\n",
      "What are your main weaknesses?\n",
      "What are your main opportunities?\n",
      "What are your main threats?\n",
      "What are your main strengths?\n",
      "What are your main weaknesses?\n",
      "What are your main opportunities?\n",
      "What are your main threats?\n",
      "What are your main strengths?\n",
      "What are your main weaknesses?\n",
      "What are your main opportunities?\n",
      "What are your main threats?\n",
      "What are your main strengths?\n",
      "What are your main weaknesses?\n",
      "What are your main opportunities?\n",
      "What are your main threats?\n",
      "What are your main strengths?\n",
      "What are your main weaknesses?\n",
      "What are your main opportunities?\n",
      "What are your main threats?\n",
      "What are your main strengths?\n",
      "What are your main weaknesses?\n",
      "What are your main opportunities?\n",
      "What are your main threats?\n",
      "What are your main strengths?\n",
      "What are your main weaknesses?\n",
      "What are your main opportunities?\n",
      "What are your main threats?\n",
      "What are your main strengths?\n",
      "What are your main weaknesses?\n",
      "What are your main opportunities?\n",
      "What are your main threats?\n",
      "What are your main strengths?\n",
      "What are your main weaknesses?\n",
      "What are your main opportunities?\n",
      "What are your main threats?\n",
      "What are your main strengths?\n",
      "What are your main weaknesses?\n",
      "What are your main opportunities?\n",
      "What are your main threats?\n",
      "What are your main strengths?\n",
      "What are your main weaknesses?\n",
      "What are your main opportunities?\n",
      "What are your main threats?\n",
      "What are your main strengths?\n",
      "What are your main weaknesses?\n",
      "What are your main opportunities?\n",
      "What are your main threats?\n",
      "What are your main strengths?\n",
      "What\n"
     ]
    }
   ],
   "source": [
    "import torch\n",
    "from transformers import AutoModelForCausalLM, AutoTokenizer\n",
    "\n",
    "torch.set_default_device(\"cuda\")\n",
    "\n",
    "model = AutoModelForCausalLM.from_pretrained(\"microsoft/phi-2\", torch_dtype=\"auto\", trust_remote_code=True)\n",
    "\n",
    "tokenizer = AutoTokenizer.from_pretrained(\"microsoft/phi-2\", trust_remote_code=True)\n",
    "\n",
    "inputs = tokenizer(\"What's your main capabilities?\", return_tensors=\"pt\", return_attention_mask=False)\n",
    "\n",
    "outputs = model.generate(**inputs, max_length=512)\n",
    "\n",
    "text = tokenizer.batch_decode(outputs)[0]\n",
    "\n",
    "print(text)\n"
   ]
  },
  {
   "cell_type": "markdown",
   "id": "e30c4b07",
   "metadata": {},
   "source": [
    "Microsoft Phi-2 is a Transformer with 2.7 billion parameters. It was trained using the same data sources as Phi-1.5, augmented with a new data source that consists of various NLP synthetic texts and filtered websites (for safety and educational value). When assessed against benchmarks testing common sense, language understanding, and logical reasoning, Phi-2 showcased a nearly state-of-the-art performance among models with less than 13 billion parameters."
   ]
  }
 ],
 "metadata": {
  "kernelspec": {
   "display_name": "conda_pytorch_p310",
   "language": "python",
   "name": "conda_pytorch_p310"
  },
  "language_info": {
   "codemirror_mode": {
    "name": "ipython",
    "version": 3
   },
   "file_extension": ".py",
   "mimetype": "text/x-python",
   "name": "python",
   "nbconvert_exporter": "python",
   "pygments_lexer": "ipython3",
   "version": "3.10.13"
  }
 },
 "nbformat": 4,
 "nbformat_minor": 5
}
