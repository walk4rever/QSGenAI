{
 "cells": [
  {
   "cell_type": "markdown",
   "id": "f91b9a6c-83b3-4b50-8e47-eff28e640f9b",
   "metadata": {},
   "source": [
    "* edgartools is one of the nicest looking EDGAR libraries out there. It is also powerful and easy to use. You can query, filter and select any filing since 1994 and view the filing's html, text, xml or structured data."
   ]
  },
  {
   "cell_type": "code",
   "execution_count": 2,
   "id": "d15a2b00-8a12-46a9-b7ee-3b38a701bc7b",
   "metadata": {},
   "outputs": [
    {
     "name": "stdout",
     "output_type": "stream",
     "text": [
      "Requirement already satisfied: edgartools in /Users/yfzhu/opt/anaconda3/envs/py312/lib/python3.12/site-packages (2.16.1)\n",
      "Requirement already satisfied: beautifulsoup4>=4.10.0 in /Users/yfzhu/opt/anaconda3/envs/py312/lib/python3.12/site-packages (from edgartools) (4.12.3)\n",
      "Requirement already satisfied: charset-normalizer>=2.1.1 in /Users/yfzhu/opt/anaconda3/envs/py312/lib/python3.12/site-packages (from edgartools) (3.3.2)\n",
      "Requirement already satisfied: fastcore>=1.5.29 in /Users/yfzhu/opt/anaconda3/envs/py312/lib/python3.12/site-packages (from edgartools) (1.5.29)\n",
      "Requirement already satisfied: httpx>=0.25.0 in /Users/yfzhu/opt/anaconda3/envs/py312/lib/python3.12/site-packages (from edgartools) (0.27.0)\n",
      "Requirement already satisfied: humanize>=4.0.0 in /Users/yfzhu/opt/anaconda3/envs/py312/lib/python3.12/site-packages (from edgartools) (4.9.0)\n",
      "Requirement already satisfied: lxml>=4.4 in /Users/yfzhu/opt/anaconda3/envs/py312/lib/python3.12/site-packages (from edgartools) (5.1.0)\n",
      "Requirement already satisfied: markdownify>0.11.0 in /Users/yfzhu/opt/anaconda3/envs/py312/lib/python3.12/site-packages (from edgartools) (0.12.1)\n",
      "Requirement already satisfied: pandas>=2.0.0 in /Users/yfzhu/opt/anaconda3/envs/py312/lib/python3.12/site-packages (from edgartools) (2.1.2)\n",
      "Requirement already satisfied: pyarrow>=14.0.0 in /Users/yfzhu/opt/anaconda3/envs/py312/lib/python3.12/site-packages (from edgartools) (15.0.2)\n",
      "Requirement already satisfied: pydantic>=2.0.0 in /Users/yfzhu/opt/anaconda3/envs/py312/lib/python3.12/site-packages (from edgartools) (2.6.4)\n",
      "Requirement already satisfied: rank-bm25==0.2.1 in /Users/yfzhu/opt/anaconda3/envs/py312/lib/python3.12/site-packages (from edgartools) (0.2.1)\n",
      "Requirement already satisfied: retry>=0.9.2 in /Users/yfzhu/opt/anaconda3/envs/py312/lib/python3.12/site-packages (from edgartools) (0.9.2)\n",
      "Requirement already satisfied: rich>=13.0.0 in /Users/yfzhu/opt/anaconda3/envs/py312/lib/python3.12/site-packages (from edgartools) (13.7.1)\n",
      "Requirement already satisfied: textdistance>=4.5.0 in /Users/yfzhu/opt/anaconda3/envs/py312/lib/python3.12/site-packages (from edgartools) (4.6.1)\n",
      "Requirement already satisfied: numpy in /Users/yfzhu/opt/anaconda3/envs/py312/lib/python3.12/site-packages (from rank-bm25==0.2.1->edgartools) (1.26.1)\n",
      "Requirement already satisfied: soupsieve>1.2 in /Users/yfzhu/opt/anaconda3/envs/py312/lib/python3.12/site-packages (from beautifulsoup4>=4.10.0->edgartools) (2.5)\n",
      "Requirement already satisfied: pip in /Users/yfzhu/opt/anaconda3/envs/py312/lib/python3.12/site-packages (from fastcore>=1.5.29->edgartools) (23.3.1)\n",
      "Requirement already satisfied: packaging in /Users/yfzhu/opt/anaconda3/envs/py312/lib/python3.12/site-packages (from fastcore>=1.5.29->edgartools) (23.2)\n",
      "Requirement already satisfied: anyio in /Users/yfzhu/opt/anaconda3/envs/py312/lib/python3.12/site-packages (from httpx>=0.25.0->edgartools) (4.3.0)\n",
      "Requirement already satisfied: certifi in /Users/yfzhu/opt/anaconda3/envs/py312/lib/python3.12/site-packages (from httpx>=0.25.0->edgartools) (2024.2.2)\n",
      "Requirement already satisfied: httpcore==1.* in /Users/yfzhu/opt/anaconda3/envs/py312/lib/python3.12/site-packages (from httpx>=0.25.0->edgartools) (1.0.4)\n",
      "Requirement already satisfied: idna in /Users/yfzhu/opt/anaconda3/envs/py312/lib/python3.12/site-packages (from httpx>=0.25.0->edgartools) (3.6)\n",
      "Requirement already satisfied: sniffio in /Users/yfzhu/opt/anaconda3/envs/py312/lib/python3.12/site-packages (from httpx>=0.25.0->edgartools) (1.3.1)\n",
      "Requirement already satisfied: h11<0.15,>=0.13 in /Users/yfzhu/opt/anaconda3/envs/py312/lib/python3.12/site-packages (from httpcore==1.*->httpx>=0.25.0->edgartools) (0.14.0)\n",
      "Requirement already satisfied: six<2,>=1.15 in /Users/yfzhu/opt/anaconda3/envs/py312/lib/python3.12/site-packages (from markdownify>0.11.0->edgartools) (1.16.0)\n",
      "Requirement already satisfied: python-dateutil>=2.8.2 in /Users/yfzhu/opt/anaconda3/envs/py312/lib/python3.12/site-packages (from pandas>=2.0.0->edgartools) (2.9.0.post0)\n",
      "Requirement already satisfied: pytz>=2020.1 in /Users/yfzhu/opt/anaconda3/envs/py312/lib/python3.12/site-packages (from pandas>=2.0.0->edgartools) (2024.1)\n",
      "Requirement already satisfied: tzdata>=2022.1 in /Users/yfzhu/opt/anaconda3/envs/py312/lib/python3.12/site-packages (from pandas>=2.0.0->edgartools) (2024.1)\n",
      "Requirement already satisfied: annotated-types>=0.4.0 in /Users/yfzhu/opt/anaconda3/envs/py312/lib/python3.12/site-packages (from pydantic>=2.0.0->edgartools) (0.6.0)\n",
      "Requirement already satisfied: pydantic-core==2.16.3 in /Users/yfzhu/opt/anaconda3/envs/py312/lib/python3.12/site-packages (from pydantic>=2.0.0->edgartools) (2.16.3)\n",
      "Requirement already satisfied: typing-extensions>=4.6.1 in /Users/yfzhu/opt/anaconda3/envs/py312/lib/python3.12/site-packages (from pydantic>=2.0.0->edgartools) (4.10.0)\n",
      "Requirement already satisfied: decorator>=3.4.2 in /Users/yfzhu/opt/anaconda3/envs/py312/lib/python3.12/site-packages (from retry>=0.9.2->edgartools) (5.1.1)\n",
      "Requirement already satisfied: py<2.0.0,>=1.4.26 in /Users/yfzhu/opt/anaconda3/envs/py312/lib/python3.12/site-packages (from retry>=0.9.2->edgartools) (1.11.0)\n",
      "Requirement already satisfied: markdown-it-py>=2.2.0 in /Users/yfzhu/opt/anaconda3/envs/py312/lib/python3.12/site-packages (from rich>=13.0.0->edgartools) (3.0.0)\n",
      "Requirement already satisfied: pygments<3.0.0,>=2.13.0 in /Users/yfzhu/opt/anaconda3/envs/py312/lib/python3.12/site-packages (from rich>=13.0.0->edgartools) (2.17.2)\n",
      "Requirement already satisfied: mdurl~=0.1 in /Users/yfzhu/opt/anaconda3/envs/py312/lib/python3.12/site-packages (from markdown-it-py>=2.2.0->rich>=13.0.0->edgartools) (0.1.2)\n"
     ]
    }
   ],
   "source": [
    "!pip install edgartools"
   ]
  },
  {
   "cell_type": "code",
   "execution_count": 3,
   "id": "53c3e185-9e24-448c-9878-d4517a3e52bc",
   "metadata": {},
   "outputs": [
    {
     "data": {
      "text/html": [
       "<pre style=\"white-space:pre;overflow-x:auto;line-height:normal;font-family:Menlo,'DejaVu Sans Mono',consolas,'Courier New',monospace\"><span style=\"color: #7fbfbf; text-decoration-color: #7fbfbf\">[13:49:05] </span><span style=\"color: #000080; text-decoration-color: #000080\">INFO    </span> Identity of the Edgar REST client set to <span style=\"font-weight: bold\">[</span>Rafael ZHU walkklaw@gmail.com<span style=\"font-weight: bold\">]</span>            <a href=\"file:///Users/yfzhu/opt/anaconda3/envs/py312/lib/python3.12/site-packages/edgar/core.py\" target=\"_blank\"><span style=\"color: #7f7f7f; text-decoration-color: #7f7f7f\">core.py</span></a><span style=\"color: #7f7f7f; text-decoration-color: #7f7f7f\">:</span><a href=\"file:///Users/yfzhu/opt/anaconda3/envs/py312/lib/python3.12/site-packages/edgar/core.py#154\" target=\"_blank\"><span style=\"color: #7f7f7f; text-decoration-color: #7f7f7f\">154</span></a>\n",
       "</pre>\n"
      ],
      "text/plain": [
       "\u001b[2;36m[13:49:05]\u001b[0m\u001b[2;36m \u001b[0m\u001b[34mINFO    \u001b[0m Identity of the Edgar REST client set to \u001b[1m[\u001b[0mRafael ZHU walkklaw@gmail.com\u001b[1m]\u001b[0m            \u001b]8;id=501;file:///Users/yfzhu/opt/anaconda3/envs/py312/lib/python3.12/site-packages/edgar/core.py\u001b\\\u001b[2mcore.py\u001b[0m\u001b]8;;\u001b\\\u001b[2m:\u001b[0m\u001b]8;id=418074;file:///Users/yfzhu/opt/anaconda3/envs/py312/lib/python3.12/site-packages/edgar/core.py#154\u001b\\\u001b[2m154\u001b[0m\u001b]8;;\u001b\\\n"
      ]
     },
     "metadata": {},
     "output_type": "display_data"
    }
   ],
   "source": [
    "from edgar import *\n",
    "\n",
    "# Tell the SEC who you are\n",
    "\n",
    "set_identity(\"Rafael ZHU walkklaw@gmail.com\")"
   ]
  },
  {
   "cell_type": "code",
   "execution_count": 36,
   "id": "85c5f76c-87b0-4052-a56e-8613ca0e3c45",
   "metadata": {},
   "outputs": [],
   "source": [
    "amzn = Company(\"AMZN\")"
   ]
  },
  {
   "cell_type": "code",
   "execution_count": 33,
   "id": "e22e26e6-78a0-41fe-89e7-555cdf3c5fee",
   "metadata": {},
   "outputs": [
    {
     "data": {
      "text/html": [
       "<pre style=\"white-space:pre;overflow-x:auto;line-height:normal;font-family:Menlo,'DejaVu Sans Mono',consolas,'Courier New',monospace\"></pre>\n"
      ],
      "text/plain": []
     },
     "metadata": {},
     "output_type": "display_data"
    },
    {
     "data": {
      "text/plain": [
       "╭──────────────────────── 13F-HR Holding Report for AMAZON COM INC for period 2023-12-31 ─────────────────────────╮\n",
       "│                                                                                                                 │\n",
       "│  \u001b[1m               \u001b[0m \u001b[1m \u001b[0m\u001b[1mInvestment     \u001b[0m\u001b[1m \u001b[0m \u001b[1m                 \u001b[0m \u001b[1m          \u001b[0m \u001b[1m                \u001b[0m \u001b[1m \u001b[0m\u001b[1mAccession     \u001b[0m\u001b[1m \u001b[0m \u001b[1m            \u001b[0m  │\n",
       "│  \u001b[1m \u001b[0m\u001b[1mReport Period\u001b[0m\u001b[1m \u001b[0m \u001b[1m \u001b[0m\u001b[1mManager        \u001b[0m\u001b[1m \u001b[0m \u001b[1m \u001b[0m\u001b[1mSigned By      \u001b[0m\u001b[1m \u001b[0m \u001b[1m \u001b[0m\u001b[1mHoldings\u001b[0m\u001b[1m \u001b[0m \u001b[1m \u001b[0m\u001b[1mValue         \u001b[0m\u001b[1m \u001b[0m \u001b[1m \u001b[0m\u001b[1mNumber        \u001b[0m\u001b[1m \u001b[0m \u001b[1m \u001b[0m\u001b[1mFiled     \u001b[0m\u001b[1m \u001b[0m  │\n",
       "│  ─────────────────────────────────────────────────────────────────────────────────────────────────────────────  │\n",
       "│   2023-12-31     \u001b[1;38;5;39m \u001b[0m\u001b[1;38;5;39mAMAZON COM INC \u001b[0m\u001b[1;38;5;39m \u001b[0m  David A.          9          $4,142,925,845   0001104659-24…   2024-01-30   │\n",
       "│                  \u001b[1;38;5;39m                 \u001b[0m  Zapolsky                                                                    │\n",
       "│                                                                                                                 │\n",
       "│                                                                                                                 │\n",
       "│  \u001b[1m \u001b[0m\u001b[1m \u001b[0m\u001b[1m \u001b[0m \u001b[1m \u001b[0m\u001b[1mIssuer           \u001b[0m\u001b[1m \u001b[0m \u001b[1m \u001b[0m\u001b[1mClass   \u001b[0m\u001b[1m \u001b[0m \u001b[1m \u001b[0m\u001b[1mCusip    \u001b[0m\u001b[1m \u001b[0m \u001b[1m \u001b[0m\u001b[1mTicker\u001b[0m\u001b[1m \u001b[0m \u001b[1m \u001b[0m\u001b[1mValue         \u001b[0m\u001b[1m \u001b[0m \u001b[1m \u001b[0m\u001b[1mType  \u001b[0m\u001b[1m \u001b[0m \u001b[1m \u001b[0m\u001b[1mShares     \u001b[0m\u001b[1m \u001b[0m \u001b[1m \u001b[0m\u001b[1mVoting     \u001b[0m\u001b[1m \u001b[0m  │\n",
       "│  ─────────────────────────────────────────────────────────────────────────────────────────────────────────────  │\n",
       "│  \u001b[1m \u001b[0m\u001b[1m0\u001b[0m\u001b[1m \u001b[0m \u001b[1m \u001b[0m\u001b[1mRIVIAN AUTOMOTIVE\u001b[0m\u001b[1m \u001b[0m \u001b[1m \u001b[0m\u001b[1mCOM CL A\u001b[0m\u001b[1m \u001b[0m \u001b[1m \u001b[0m\u001b[1m76954A103\u001b[0m\u001b[1m \u001b[0m \u001b[1m \u001b[0m\u001b[1mRIVN  \u001b[0m\u001b[1m \u001b[0m \u001b[1m \u001b[0m\u001b[1m$3,715,215,546\u001b[0m\u001b[1m \u001b[0m \u001b[1m \u001b[0m\u001b[1mShares\u001b[0m\u001b[1m \u001b[0m \u001b[1m \u001b[0m\u001b[1m158,363,834\u001b[0m\u001b[1m \u001b[0m \u001b[1m \u001b[0m\u001b[1m158,363,834\u001b[0m\u001b[1m \u001b[0m  │\n",
       "│  \u001b[1m   \u001b[0m \u001b[1m \u001b[0m\u001b[1mINC              \u001b[0m\u001b[1m \u001b[0m \u001b[1m          \u001b[0m \u001b[1m           \u001b[0m \u001b[1m        \u001b[0m \u001b[1m                \u001b[0m \u001b[1m        \u001b[0m \u001b[1m             \u001b[0m \u001b[1m             \u001b[0m  │\n",
       "│   1   AIR TRANSPORT       COM        00922R105   ATSG     $224,376,846     Shares   12,741,445    12,741,445    │\n",
       "│       SERVICES GRP I                                                                                            │\n",
       "│  \u001b[1m \u001b[0m\u001b[1m2\u001b[0m\u001b[1m \u001b[0m \u001b[1m \u001b[0m\u001b[1mTWILIO INC       \u001b[0m\u001b[1m \u001b[0m \u001b[1m \u001b[0m\u001b[1mCL A    \u001b[0m\u001b[1m \u001b[0m \u001b[1m \u001b[0m\u001b[1m90138F102\u001b[0m\u001b[1m \u001b[0m \u001b[1m \u001b[0m\u001b[1mTWLO  \u001b[0m\u001b[1m \u001b[0m \u001b[1m \u001b[0m\u001b[1m$134,164,411  \u001b[0m\u001b[1m \u001b[0m \u001b[1m \u001b[0m\u001b[1mShares\u001b[0m\u001b[1m \u001b[0m \u001b[1m \u001b[0m\u001b[1m1,768,346  \u001b[0m\u001b[1m \u001b[0m \u001b[1m \u001b[0m\u001b[1m1,768,346  \u001b[0m\u001b[1m \u001b[0m  │\n",
       "│   3   VITAL FARMS INC     COM        92847W103   VITL     $25,154,679      Shares   1,603,230     0             │\n",
       "│  \u001b[1m \u001b[0m\u001b[1m4\u001b[0m\u001b[1m \u001b[0m \u001b[1m \u001b[0m\u001b[1mIONQ INC         \u001b[0m\u001b[1m \u001b[0m \u001b[1m \u001b[0m\u001b[1mCOM     \u001b[0m\u001b[1m \u001b[0m \u001b[1m \u001b[0m\u001b[1m46222L108\u001b[0m\u001b[1m \u001b[0m \u001b[1m \u001b[0m\u001b[1mIONQ  \u001b[0m\u001b[1m \u001b[0m \u001b[1m \u001b[0m\u001b[1m$23,876,286   \u001b[0m\u001b[1m \u001b[0m \u001b[1m \u001b[0m\u001b[1mShares\u001b[0m\u001b[1m \u001b[0m \u001b[1m \u001b[0m\u001b[1m1,927,061  \u001b[0m\u001b[1m \u001b[0m \u001b[1m \u001b[0m\u001b[1m1,927,061  \u001b[0m\u001b[1m \u001b[0m  │\n",
       "│   5   MARVELL             COM        573874104   MRVL     $13,595,563      Shares   225,428       225,428       │\n",
       "│       TECHNOLOGY INC                                                                                            │\n",
       "│  \u001b[1m \u001b[0m\u001b[1m6\u001b[0m\u001b[1m \u001b[0m \u001b[1m \u001b[0m\u001b[1mNAUTILUS         \u001b[0m\u001b[1m \u001b[0m \u001b[1m \u001b[0m\u001b[1mCOM     \u001b[0m\u001b[1m \u001b[0m \u001b[1m \u001b[0m\u001b[1m63909J108\u001b[0m\u001b[1m \u001b[0m \u001b[1m \u001b[0m\u001b[1mNAUT  \u001b[0m\u001b[1m \u001b[0m \u001b[1m \u001b[0m\u001b[1m$4,356,594    \u001b[0m\u001b[1m \u001b[0m \u001b[1m \u001b[0m\u001b[1mShares\u001b[0m\u001b[1m \u001b[0m \u001b[1m \u001b[0m\u001b[1m1,457,055  \u001b[0m\u001b[1m \u001b[0m \u001b[1m \u001b[0m\u001b[1m1,457,055  \u001b[0m\u001b[1m \u001b[0m  │\n",
       "│  \u001b[1m   \u001b[0m \u001b[1m \u001b[0m\u001b[1mBIOTECHNOLOGY INC\u001b[0m\u001b[1m \u001b[0m \u001b[1m          \u001b[0m \u001b[1m           \u001b[0m \u001b[1m        \u001b[0m \u001b[1m                \u001b[0m \u001b[1m        \u001b[0m \u001b[1m             \u001b[0m \u001b[1m             \u001b[0m  │\n",
       "│   7   SMARTRENT INC       COM CL A   83193G107   SMRT     $1,999,789       Shares   626,893       626,893       │\n",
       "│  \u001b[1m \u001b[0m\u001b[1m8\u001b[0m\u001b[1m \u001b[0m \u001b[1m \u001b[0m\u001b[1mOWLET INC        \u001b[0m\u001b[1m \u001b[0m \u001b[1m \u001b[0m\u001b[1mCL A NEW\u001b[0m\u001b[1m \u001b[0m \u001b[1m \u001b[0m\u001b[1m69120X206\u001b[0m\u001b[1m \u001b[0m \u001b[1m \u001b[0m\u001b[1mOWLT  \u001b[0m\u001b[1m \u001b[0m \u001b[1m \u001b[0m\u001b[1m$186,131      \u001b[0m\u001b[1m \u001b[0m \u001b[1m \u001b[0m\u001b[1mShares\u001b[0m\u001b[1m \u001b[0m \u001b[1m \u001b[0m\u001b[1m35,252     \u001b[0m\u001b[1m \u001b[0m \u001b[1m \u001b[0m\u001b[1m35,252     \u001b[0m\u001b[1m \u001b[0m  │\n",
       "│                                                                                                                 │\n",
       "╰──────────────────────── 13F-HR Holding Report for AMAZON COM INC for period 2023-12-31 ─────────────────────────╯"
      ]
     },
     "execution_count": 33,
     "metadata": {},
     "output_type": "execute_result"
    }
   ],
   "source": [
    "afiles_13f= amzn.get_filings(form=\"13F-HR\")\n",
    "file = afiles_13f[0].obj()\n",
    "file"
   ]
  },
  {
   "cell_type": "code",
   "execution_count": 37,
   "id": "3eeaa398-75a1-4d57-974f-fae4f41d8a1a",
   "metadata": {},
   "outputs": [
    {
     "data": {
      "text/html": [
       "<pre style=\"white-space:pre;overflow-x:auto;line-height:normal;font-family:Menlo,'DejaVu Sans Mono',consolas,'Courier New',monospace\"></pre>\n"
      ],
      "text/plain": []
     },
     "metadata": {},
     "output_type": "display_data"
    },
    {
     "data": {
      "text/plain": [
       "╭─────────────────────────────────────── 10-K 📊 filing for MICROSOFT CORP ───────────────────────────────────────╮\n",
       "│                                                                                                                 │\n",
       "│  \u001b[1m \u001b[0m\u001b[1mAccession Number    \u001b[0m\u001b[1m \u001b[0m \u001b[1m \u001b[0m\u001b[1mFiling Date\u001b[0m\u001b[1m \u001b[0m \u001b[1m \u001b[0m\u001b[1mCompany       \u001b[0m\u001b[1m \u001b[0m \u001b[1m \u001b[0m\u001b[1mCIK   \u001b[0m\u001b[1m \u001b[0m                                                 │\n",
       "│  ──────────────────────────────────────────────────────────────                                                 │\n",
       "│  \u001b[1m \u001b[0m\u001b[1m0000950170-23-035122\u001b[0m\u001b[1m \u001b[0m  2023-07-27    MICROSOFT CORP   789019                                                  │\n",
       "│                                                                                                                 │\n",
       "│                                                                                                                 │\n",
       "│  \u001b[1m \u001b[0m\u001b[1mLinks\u001b[0m\u001b[1m: 🏠 Homepage 📄 Primary Document 📜 Full Submission Text                           \u001b[0m\u001b[1m \u001b[0m                    │\n",
       "│  ───────────────────────────────────────────────────────────────────────────────────────────                    │\n",
       "│   🏠 https://sec.gov/Archives/edgar/data/789019/0000950170-23-035122-index.html                                 │\n",
       "│   📄 https://sec.gov/Archives/edgar/data/789019/000095017023035122/msft-20230630.htm                            │\n",
       "│   📜 https://sec.gov/Archives/edgar/data/789019/000095017023035122/0000950170-23-035122.txt                     │\n",
       "│                                                                                                                 │\n",
       "╰─────────────────────────────────────────────────────────────────────────────────────────────────────────────────╯"
      ]
     },
     "execution_count": 37,
     "metadata": {},
     "output_type": "execute_result"
    }
   ],
   "source": [
    "msft = Company(\"MSFT\")\n",
    "mfiles_10k = msft.get_filings(form=\"10-K\")\n",
    "mfiles_10k[0]"
   ]
  },
  {
   "cell_type": "code",
   "execution_count": 38,
   "id": "e877c2d2-a54d-4158-aee0-b9dc45f96b49",
   "metadata": {},
   "outputs": [
    {
     "data": {
      "text/html": [
       "<pre style=\"white-space:pre;overflow-x:auto;line-height:normal;font-family:Menlo,'DejaVu Sans Mono',consolas,'Courier New',monospace\"></pre>\n"
      ],
      "text/plain": []
     },
     "metadata": {},
     "output_type": "display_data"
    },
    {
     "data": {
      "text/plain": [
       "╭─────────────────────────────────────────────────────────────────────────────────────────────────────────────────╮\n",
       "│ ╭───────────────────────────────────── 10-K 📊 filing for MICROSOFT CORP ─────────────────────────────────────╮ │\n",
       "│ │                                                                                                             │ │\n",
       "│ │  \u001b[1m \u001b[0m\u001b[1mAccession Number    \u001b[0m\u001b[1m \u001b[0m \u001b[1m \u001b[0m\u001b[1mFiling Date\u001b[0m\u001b[1m \u001b[0m \u001b[1m \u001b[0m\u001b[1mCompany       \u001b[0m\u001b[1m \u001b[0m \u001b[1m \u001b[0m\u001b[1mCIK   \u001b[0m\u001b[1m \u001b[0m                                             │ │\n",
       "│ │  ──────────────────────────────────────────────────────────────                                             │ │\n",
       "│ │  \u001b[1m \u001b[0m\u001b[1m0000950170-23-035122\u001b[0m\u001b[1m \u001b[0m  2023-07-27    MICROSOFT CORP   789019                                              │ │\n",
       "│ │                                                                                                             │ │\n",
       "│ │                                                                                                             │ │\n",
       "│ │  \u001b[1m \u001b[0m\u001b[1mLinks\u001b[0m\u001b[1m: 🏠 Homepage 📄 Primary Document 📜 Full Submission Text                           \u001b[0m\u001b[1m \u001b[0m                │ │\n",
       "│ │  ───────────────────────────────────────────────────────────────────────────────────────────                │ │\n",
       "│ │   🏠 https://sec.gov/Archives/edgar/data/789019/0000950170-23-035122-index.html                             │ │\n",
       "│ │   📄 https://sec.gov/Archives/edgar/data/789019/000095017023035122/msft-20230630.htm                        │ │\n",
       "│ │   📜 https://sec.gov/Archives/edgar/data/789019/000095017023035122/0000950170-23-035122.txt                 │ │\n",
       "│ │                                                                                                             │ │\n",
       "│ ╰─────────────────────────────────────────────────────────────────────────────────────────────────────────────╯ │\n",
       "│                                                                                                                 │\n",
       "│   \u001b[3m                         Balance Sheet                          \u001b[0m                                              │\n",
       "│                                                                                                                 │\n",
       "│    \u001b[1m \u001b[0m\u001b[1m                                          \u001b[0m\u001b[1m \u001b[0m \u001b[1m \u001b[0m\u001b[1m     2023-06-30\u001b[0m\u001b[1m \u001b[0m                                               │\n",
       "│    ━━━━━━━━━━━━━━━━━━━━━━━━━━━━━━━━━━━━━━━━━━━━━━━━━━━━━━━━━━━━━━                                               │\n",
       "│     ASSETS:                                                                                                     │\n",
       "│     CURRENT ASSETS:                                                                                             │\n",
       "│       Cash and Cash Equivalents                   34,704,000,000                                                │\n",
       "│       Short-term Investments                      76,558,000,000                                                │\n",
       "│       Other Current Assets                        21,807,000,000                                                │\n",
       "│    \u001b[1;38;5;39m \u001b[0m\u001b[1;38;5;39m  Current Assets                          \u001b[0m\u001b[1;38;5;39m \u001b[0m \u001b[1;38;5;39m \u001b[0m\u001b[1;38;5;39m184,257,000,000\u001b[0m\u001b[1;38;5;39m \u001b[0m                                               │\n",
       "│                                                                                                                 │\n",
       "│     NONCURRENT ASSETS:                                                                                          │\n",
       "│       Property, Plant and Equipment               95,641,000,000                                                │\n",
       "│       Other Noncurrent Assets                     30,601,000,000                                                │\n",
       "│    \u001b[1;38;5;39m \u001b[0m\u001b[1;38;5;39mTotal Assets                              \u001b[0m\u001b[1;38;5;39m \u001b[0m \u001b[1;38;5;39m \u001b[0m\u001b[1;38;5;39m411,976,000,000\u001b[0m\u001b[1;38;5;39m \u001b[0m                                               │\n",
       "│                                                                                                                 │\n",
       "│     LIABILITIES AND STOCKHOLDERS' EQUITY:                                                                       │\n",
       "│     CURRENT LIABILITIES:                                                                                        │\n",
       "│       Accounts Payable                            18,095,000,000                                                │\n",
       "│       Other Current Liabilities                   14,745,000,000                                                │\n",
       "│       Deferred Revenue                            50,901,000,000                                                │\n",
       "│       Term Debt                                    5,247,000,000                                                │\n",
       "│    \u001b[1;38;5;39m \u001b[0m\u001b[1;38;5;39m  Total Current Liabilities               \u001b[0m\u001b[1;38;5;39m \u001b[0m \u001b[1;38;5;39m \u001b[0m\u001b[1;38;5;39m104,149,000,000\u001b[0m\u001b[1;38;5;39m \u001b[0m                                               │\n",
       "│                                                                                                                 │\n",
       "│     NONCURRENT LIABILITIES:                                                                                     │\n",
       "│       Non-current Long Term Debt                  41,990,000,000                                                │\n",
       "│       Other Noncurrent Liabilities                17,981,000,000                                                │\n",
       "│    \u001b[1;38;5;39m \u001b[0m\u001b[1;38;5;39mTotal Liabilities                         \u001b[0m\u001b[1;38;5;39m \u001b[0m \u001b[1;38;5;39m \u001b[0m\u001b[1;38;5;39m205,753,000,000\u001b[0m\u001b[1;38;5;39m \u001b[0m                                               │\n",
       "│                                                                                                                 │\n",
       "│     STOCKHOLDERS' EQUITY:                                                                                       │\n",
       "│       Common Stock and paid-in Capital            93,718,000,000                                                │\n",
       "│       Retained Earnings                          118,848,000,000                                                │\n",
       "│       Accumulated Other Comprehensive Income      -6,343,000,000                                                │\n",
       "│    \u001b[1;38;5;39m \u001b[0m\u001b[1;38;5;39m  Total Stockholders' Equity              \u001b[0m\u001b[1;38;5;39m \u001b[0m \u001b[1;38;5;39m \u001b[0m\u001b[1;38;5;39m206,223,000,000\u001b[0m\u001b[1;38;5;39m \u001b[0m                                               │\n",
       "│                                                                                                                 │\n",
       "│    \u001b[1;38;5;39m \u001b[0m\u001b[1;38;5;39mTotal Liabilities and Stockholders' Equity\u001b[0m\u001b[1;38;5;39m \u001b[0m \u001b[1;38;5;39m \u001b[0m\u001b[1;38;5;39m411,976,000,000\u001b[0m\u001b[1;38;5;39m \u001b[0m                                               │\n",
       "│                                                                                                                 │\n",
       "│   \u001b[3m                            Cashflow Statement                             \u001b[0m                                   │\n",
       "│                                                                                                                 │\n",
       "│    \u001b[1m \u001b[0m\u001b[1m                                                     \u001b[0m\u001b[1m \u001b[0m \u001b[1m \u001b[0m\u001b[1m     2023-06-30\u001b[0m\u001b[1m \u001b[0m                                    │\n",
       "│    ━━━━━━━━━━━━━━━━━━━━━━━━━━━━━━━━━━━━━━━━━━━━━━━━━━━━━━━━━━━━━━━━━━━━━━━━━                                    │\n",
       "│     OPERATING ACTIVITIES:                                                                                       │\n",
       "│       Net Income                                             72,361,000,000                                     │\n",
       "│       Stock-based Compensation                                9,611,000,000                                     │\n",
       "│       Foreign Currency Transaction Gain/Loss                    181,000,000                                     │\n",
       "│       Changes in Other Current Assets                         1,991,000,000                                     │\n",
       "│       Changes in Accounts Payable                            -2,721,000,000                                     │\n",
       "│       Changes in Inventories                                 -1,242,000,000                                     │\n",
       "│       Changes in Deferred Revenue                             5,535,000,000                                     │\n",
       "│    \u001b[1;38;5;39m \u001b[0m\u001b[1;38;5;39m  Net Cash Provided by Operating Activities          \u001b[0m\u001b[1;38;5;39m \u001b[0m \u001b[1;38;5;39m \u001b[0m\u001b[1;38;5;39m 87,582,000,000\u001b[0m\u001b[1;38;5;39m \u001b[0m                                    │\n",
       "│                                                                                                                 │\n",
       "│     INVESTING ACTIVITIES:                                                                                       │\n",
       "│       Proceeds from Maturities of Marketable Securities      33,510,000,000                                     │\n",
       "│       Purchases of Property, Plant and Equipment             28,107,000,000                                     │\n",
       "│       Payments to Acquire Investments                        37,651,000,000                                     │\n",
       "│       Deferred Revenue                                        5,535,000,000                                     │\n",
       "│       Other Investing Activities                              3,116,000,000                                     │\n",
       "│    \u001b[1;38;5;39m \u001b[0m\u001b[1;38;5;39m  Net Cash Provided by Investing Activities          \u001b[0m\u001b[1;38;5;39m \u001b[0m \u001b[1;38;5;39m \u001b[0m\u001b[1;38;5;39m-22,680,000,000\u001b[0m\u001b[1;38;5;39m \u001b[0m                                    │\n",
       "│                                                                                                                 │\n",
       "│     FINANCING ACTIVITIES:                                                                                       │\n",
       "│       Payments of Tax for Share-based Compensation            3,800,000,000                                     │\n",
       "│       Repurchases of Common Stock                            22,245,000,000                                     │\n",
       "│       Proceeds from Issuance of Common Stock                  1,866,000,000                                     │\n",
       "│    \u001b[1;38;5;39m \u001b[0m\u001b[1;38;5;39m  Net Cash Provided by Financing Activities          \u001b[0m\u001b[1;38;5;39m \u001b[0m \u001b[1;38;5;39m \u001b[0m\u001b[1;38;5;39m-43,935,000,000\u001b[0m\u001b[1;38;5;39m \u001b[0m                                    │\n",
       "│                                                                                                                 │\n",
       "│     Changes in Cash, cash equivalents and restricted cash    20,773,000,000                                     │\n",
       "│    \u001b[1;38;5;39m \u001b[0m\u001b[1;38;5;39mCash, cash equivalents and restricted cash           \u001b[0m\u001b[1;38;5;39m \u001b[0m \u001b[1;38;5;39m \u001b[0m\u001b[1;38;5;39m 34,704,000,000\u001b[0m\u001b[1;38;5;39m \u001b[0m                                    │\n",
       "│                                                                                                                 │\n",
       "│   \u001b[3m           Consolidated Statement of Operations            \u001b[0m                                                   │\n",
       "│                                                                                                                 │\n",
       "│    \u001b[1m \u001b[0m\u001b[1m                                     \u001b[0m\u001b[1m \u001b[0m \u001b[1m \u001b[0m\u001b[1m     2023-06-30\u001b[0m\u001b[1m \u001b[0m                                                    │\n",
       "│    ━━━━━━━━━━━━━━━━━━━━━━━━━━━━━━━━━━━━━━━━━━━━━━━━━━━━━━━━━                                                    │\n",
       "│    \u001b[1;38;5;39m \u001b[0m\u001b[1;38;5;39mTotal Net Sales                      \u001b[0m\u001b[1;38;5;39m \u001b[0m \u001b[1;38;5;39m \u001b[0m\u001b[1;38;5;39m211,915,000,000\u001b[0m\u001b[1;38;5;39m \u001b[0m                                                    │\n",
       "│                                                                                                                 │\n",
       "│     COST OF SALES:                                                                                              │\n",
       "│    \u001b[1;38;5;39m \u001b[0m\u001b[1;38;5;39mCost Goods and Services Sold         \u001b[0m\u001b[1;38;5;39m \u001b[0m \u001b[1;38;5;39m \u001b[0m\u001b[1;38;5;39m 65,863,000,000\u001b[0m\u001b[1;38;5;39m \u001b[0m                                                    │\n",
       "│                                                                                                                 │\n",
       "│    \u001b[1;38;5;39m \u001b[0m\u001b[1;38;5;39mGross Profit                         \u001b[0m\u001b[1;38;5;39m \u001b[0m \u001b[1;38;5;39m \u001b[0m\u001b[1;38;5;39m146,052,000,000\u001b[0m\u001b[1;38;5;39m \u001b[0m                                                    │\n",
       "│                                                                                                                 │\n",
       "│     OPERATING EXPENSES:                                                                                         │\n",
       "│       Research and Development Expenses      27,195,000,000                                                     │\n",
       "│       General and Administrative Expenses     7,575,000,000                                                     │\n",
       "│    \u001b[1;38;5;39m \u001b[0m\u001b[1;38;5;39mOperating Income                     \u001b[0m\u001b[1;38;5;39m \u001b[0m \u001b[1;38;5;39m \u001b[0m\u001b[1;38;5;39m 88,523,000,000\u001b[0m\u001b[1;38;5;39m \u001b[0m                                                    │\n",
       "│                                                                                                                 │\n",
       "│     OTHER INCOME/EXPENSE:                                                                                       │\n",
       "│       Interest Expense                        1,968,000,000                                                     │\n",
       "│       Nonoperating Income                       788,000,000                                                     │\n",
       "│    \u001b[1;38;5;39m \u001b[0m\u001b[1;38;5;39mIncome Before Taxes                  \u001b[0m\u001b[1;38;5;39m \u001b[0m \u001b[1;38;5;39m \u001b[0m\u001b[1;38;5;39m 89,311,000,000\u001b[0m\u001b[1;38;5;39m \u001b[0m                                                    │\n",
       "│                                                                                                                 │\n",
       "│     Income Tax Expense                       16,950,000,000                                                     │\n",
       "│    \u001b[1;38;5;39m \u001b[0m\u001b[1;38;5;39mNet Income                           \u001b[0m\u001b[1;38;5;39m \u001b[0m \u001b[1;38;5;39m \u001b[0m\u001b[1;38;5;39m 72,361,000,000\u001b[0m\u001b[1;38;5;39m \u001b[0m                                                    │\n",
       "│                                                                                                                 │\n",
       "│     EARNINGS PER SHARE:                                                                                         │\n",
       "│       Basic                                            9.72                                                     │\n",
       "│       Diluted                                          9.68                                                     │\n",
       "│     WEIGHTED AVERAGE SHARES OUTSTANDING:                                                                        │\n",
       "│       Basic                                   7,446,000,000                                                     │\n",
       "│       Diluted                                 7,472,000,000                                                     │\n",
       "│                                                                                                                 │\n",
       "│                                                                                                                 │\n",
       "╰─────────────────────────────────────────────────────────────────────────────────────────────────────────────────╯"
      ]
     },
     "execution_count": 38,
     "metadata": {},
     "output_type": "execute_result"
    }
   ],
   "source": [
    "mfiles_10k[0].obj()"
   ]
  }
 ],
 "metadata": {
  "kernelspec": {
   "display_name": "Python 3 (ipykernel)",
   "language": "python",
   "name": "python3"
  },
  "language_info": {
   "codemirror_mode": {
    "name": "ipython",
    "version": 3
   },
   "file_extension": ".py",
   "mimetype": "text/x-python",
   "name": "python",
   "nbconvert_exporter": "python",
   "pygments_lexer": "ipython3",
   "version": "3.12.2"
  }
 },
 "nbformat": 4,
 "nbformat_minor": 5
}
