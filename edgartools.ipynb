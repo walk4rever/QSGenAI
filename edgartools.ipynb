{
 "cells": [
  {
   "cell_type": "markdown",
   "id": "f91b9a6c-83b3-4b50-8e47-eff28e640f9b",
   "metadata": {},
   "source": [
    "* edgartools is one of the nicest looking EDGAR libraries out there. It is also powerful and easy to use. You can query, filter and select any filing since 1994 and view the filing's html, text, xml or structured data."
   ]
  },
  {
   "cell_type": "code",
   "execution_count": 2,
   "id": "d15a2b00-8a12-46a9-b7ee-3b38a701bc7b",
   "metadata": {},
   "outputs": [
    {
     "name": "stdout",
     "output_type": "stream",
     "text": [
      "Requirement already satisfied: edgartools in /Users/yfzhu/opt/anaconda3/envs/py312/lib/python3.12/site-packages (2.16.1)\n",
      "Requirement already satisfied: beautifulsoup4>=4.10.0 in /Users/yfzhu/opt/anaconda3/envs/py312/lib/python3.12/site-packages (from edgartools) (4.12.3)\n",
      "Requirement already satisfied: charset-normalizer>=2.1.1 in /Users/yfzhu/opt/anaconda3/envs/py312/lib/python3.12/site-packages (from edgartools) (3.3.2)\n",
      "Requirement already satisfied: fastcore>=1.5.29 in /Users/yfzhu/opt/anaconda3/envs/py312/lib/python3.12/site-packages (from edgartools) (1.5.29)\n",
      "Requirement already satisfied: httpx>=0.25.0 in /Users/yfzhu/opt/anaconda3/envs/py312/lib/python3.12/site-packages (from edgartools) (0.27.0)\n",
      "Requirement already satisfied: humanize>=4.0.0 in /Users/yfzhu/opt/anaconda3/envs/py312/lib/python3.12/site-packages (from edgartools) (4.9.0)\n",
      "Requirement already satisfied: lxml>=4.4 in /Users/yfzhu/opt/anaconda3/envs/py312/lib/python3.12/site-packages (from edgartools) (5.1.0)\n",
      "Requirement already satisfied: markdownify>0.11.0 in /Users/yfzhu/opt/anaconda3/envs/py312/lib/python3.12/site-packages (from edgartools) (0.12.1)\n",
      "Requirement already satisfied: pandas>=2.0.0 in /Users/yfzhu/opt/anaconda3/envs/py312/lib/python3.12/site-packages (from edgartools) (2.1.2)\n",
      "Requirement already satisfied: pyarrow>=14.0.0 in /Users/yfzhu/opt/anaconda3/envs/py312/lib/python3.12/site-packages (from edgartools) (15.0.2)\n",
      "Requirement already satisfied: pydantic>=2.0.0 in /Users/yfzhu/opt/anaconda3/envs/py312/lib/python3.12/site-packages (from edgartools) (2.6.4)\n",
      "Requirement already satisfied: rank-bm25==0.2.1 in /Users/yfzhu/opt/anaconda3/envs/py312/lib/python3.12/site-packages (from edgartools) (0.2.1)\n",
      "Requirement already satisfied: retry>=0.9.2 in /Users/yfzhu/opt/anaconda3/envs/py312/lib/python3.12/site-packages (from edgartools) (0.9.2)\n",
      "Requirement already satisfied: rich>=13.0.0 in /Users/yfzhu/opt/anaconda3/envs/py312/lib/python3.12/site-packages (from edgartools) (13.7.1)\n",
      "Requirement already satisfied: textdistance>=4.5.0 in /Users/yfzhu/opt/anaconda3/envs/py312/lib/python3.12/site-packages (from edgartools) (4.6.1)\n",
      "Requirement already satisfied: numpy in /Users/yfzhu/opt/anaconda3/envs/py312/lib/python3.12/site-packages (from rank-bm25==0.2.1->edgartools) (1.26.1)\n",
      "Requirement already satisfied: soupsieve>1.2 in /Users/yfzhu/opt/anaconda3/envs/py312/lib/python3.12/site-packages (from beautifulsoup4>=4.10.0->edgartools) (2.5)\n",
      "Requirement already satisfied: pip in /Users/yfzhu/opt/anaconda3/envs/py312/lib/python3.12/site-packages (from fastcore>=1.5.29->edgartools) (23.3.1)\n",
      "Requirement already satisfied: packaging in /Users/yfzhu/opt/anaconda3/envs/py312/lib/python3.12/site-packages (from fastcore>=1.5.29->edgartools) (23.2)\n",
      "Requirement already satisfied: anyio in /Users/yfzhu/opt/anaconda3/envs/py312/lib/python3.12/site-packages (from httpx>=0.25.0->edgartools) (4.3.0)\n",
      "Requirement already satisfied: certifi in /Users/yfzhu/opt/anaconda3/envs/py312/lib/python3.12/site-packages (from httpx>=0.25.0->edgartools) (2024.2.2)\n",
      "Requirement already satisfied: httpcore==1.* in /Users/yfzhu/opt/anaconda3/envs/py312/lib/python3.12/site-packages (from httpx>=0.25.0->edgartools) (1.0.4)\n",
      "Requirement already satisfied: idna in /Users/yfzhu/opt/anaconda3/envs/py312/lib/python3.12/site-packages (from httpx>=0.25.0->edgartools) (3.6)\n",
      "Requirement already satisfied: sniffio in /Users/yfzhu/opt/anaconda3/envs/py312/lib/python3.12/site-packages (from httpx>=0.25.0->edgartools) (1.3.1)\n",
      "Requirement already satisfied: h11<0.15,>=0.13 in /Users/yfzhu/opt/anaconda3/envs/py312/lib/python3.12/site-packages (from httpcore==1.*->httpx>=0.25.0->edgartools) (0.14.0)\n",
      "Requirement already satisfied: six<2,>=1.15 in /Users/yfzhu/opt/anaconda3/envs/py312/lib/python3.12/site-packages (from markdownify>0.11.0->edgartools) (1.16.0)\n",
      "Requirement already satisfied: python-dateutil>=2.8.2 in /Users/yfzhu/opt/anaconda3/envs/py312/lib/python3.12/site-packages (from pandas>=2.0.0->edgartools) (2.9.0.post0)\n",
      "Requirement already satisfied: pytz>=2020.1 in /Users/yfzhu/opt/anaconda3/envs/py312/lib/python3.12/site-packages (from pandas>=2.0.0->edgartools) (2024.1)\n",
      "Requirement already satisfied: tzdata>=2022.1 in /Users/yfzhu/opt/anaconda3/envs/py312/lib/python3.12/site-packages (from pandas>=2.0.0->edgartools) (2024.1)\n",
      "Requirement already satisfied: annotated-types>=0.4.0 in /Users/yfzhu/opt/anaconda3/envs/py312/lib/python3.12/site-packages (from pydantic>=2.0.0->edgartools) (0.6.0)\n",
      "Requirement already satisfied: pydantic-core==2.16.3 in /Users/yfzhu/opt/anaconda3/envs/py312/lib/python3.12/site-packages (from pydantic>=2.0.0->edgartools) (2.16.3)\n",
      "Requirement already satisfied: typing-extensions>=4.6.1 in /Users/yfzhu/opt/anaconda3/envs/py312/lib/python3.12/site-packages (from pydantic>=2.0.0->edgartools) (4.10.0)\n",
      "Requirement already satisfied: decorator>=3.4.2 in /Users/yfzhu/opt/anaconda3/envs/py312/lib/python3.12/site-packages (from retry>=0.9.2->edgartools) (5.1.1)\n",
      "Requirement already satisfied: py<2.0.0,>=1.4.26 in /Users/yfzhu/opt/anaconda3/envs/py312/lib/python3.12/site-packages (from retry>=0.9.2->edgartools) (1.11.0)\n",
      "Requirement already satisfied: markdown-it-py>=2.2.0 in /Users/yfzhu/opt/anaconda3/envs/py312/lib/python3.12/site-packages (from rich>=13.0.0->edgartools) (3.0.0)\n",
      "Requirement already satisfied: pygments<3.0.0,>=2.13.0 in /Users/yfzhu/opt/anaconda3/envs/py312/lib/python3.12/site-packages (from rich>=13.0.0->edgartools) (2.17.2)\n",
      "Requirement already satisfied: mdurl~=0.1 in /Users/yfzhu/opt/anaconda3/envs/py312/lib/python3.12/site-packages (from markdown-it-py>=2.2.0->rich>=13.0.0->edgartools) (0.1.2)\n"
     ]
    }
   ],
   "source": [
    "!pip install edgartools"
   ]
  },
  {
   "cell_type": "code",
   "execution_count": 2,
   "id": "53c3e185-9e24-448c-9878-d4517a3e52bc",
   "metadata": {},
   "outputs": [
    {
     "data": {
      "text/html": [
       "<pre style=\"white-space:pre;overflow-x:auto;line-height:normal;font-family:Menlo,'DejaVu Sans Mono',consolas,'Courier New',monospace\"><span style=\"color: #7fbfbf; text-decoration-color: #7fbfbf\">[21:08:29] </span><span style=\"color: #000080; text-decoration-color: #000080\">INFO    </span> Identity of the Edgar REST client set to <span style=\"font-weight: bold\">[</span>Rafael ZHU walkklaw@gmail.com<span style=\"font-weight: bold\">]</span>            <a href=\"file:///Users/yfzhu/opt/anaconda3/envs/py312/lib/python3.12/site-packages/edgar/core.py\" target=\"_blank\"><span style=\"color: #7f7f7f; text-decoration-color: #7f7f7f\">core.py</span></a><span style=\"color: #7f7f7f; text-decoration-color: #7f7f7f\">:</span><a href=\"file:///Users/yfzhu/opt/anaconda3/envs/py312/lib/python3.12/site-packages/edgar/core.py#154\" target=\"_blank\"><span style=\"color: #7f7f7f; text-decoration-color: #7f7f7f\">154</span></a>\n",
       "</pre>\n"
      ],
      "text/plain": [
       "\u001b[2;36m[21:08:29]\u001b[0m\u001b[2;36m \u001b[0m\u001b[34mINFO    \u001b[0m Identity of the Edgar REST client set to \u001b[1m[\u001b[0mRafael ZHU walkklaw@gmail.com\u001b[1m]\u001b[0m            \u001b]8;id=241393;file:///Users/yfzhu/opt/anaconda3/envs/py312/lib/python3.12/site-packages/edgar/core.py\u001b\\\u001b[2mcore.py\u001b[0m\u001b]8;;\u001b\\\u001b[2m:\u001b[0m\u001b]8;id=103766;file:///Users/yfzhu/opt/anaconda3/envs/py312/lib/python3.12/site-packages/edgar/core.py#154\u001b\\\u001b[2m154\u001b[0m\u001b]8;;\u001b\\\n"
      ]
     },
     "metadata": {},
     "output_type": "display_data"
    }
   ],
   "source": [
    "from edgar import *\n",
    "\n",
    "# Tell the SEC who you are\n",
    "\n",
    "set_identity(\"Rafael ZHU walkklaw@gmail.com\")"
   ]
  },
  {
   "cell_type": "code",
   "execution_count": 36,
   "id": "85c5f76c-87b0-4052-a56e-8613ca0e3c45",
   "metadata": {},
   "outputs": [],
   "source": [
    "amzn = Company(\"AMZN\")"
   ]
  },
  {
   "cell_type": "code",
   "execution_count": 33,
   "id": "e22e26e6-78a0-41fe-89e7-555cdf3c5fee",
   "metadata": {},
   "outputs": [
    {
     "data": {
      "text/html": [
       "<pre style=\"white-space:pre;overflow-x:auto;line-height:normal;font-family:Menlo,'DejaVu Sans Mono',consolas,'Courier New',monospace\"></pre>\n"
      ],
      "text/plain": []
     },
     "metadata": {},
     "output_type": "display_data"
    },
    {
     "data": {
      "text/plain": [
       "╭──────────────────────── 13F-HR Holding Report for AMAZON COM INC for period 2023-12-31 ─────────────────────────╮\n",
       "│                                                                                                                 │\n",
       "│  \u001b[1m               \u001b[0m \u001b[1m \u001b[0m\u001b[1mInvestment     \u001b[0m\u001b[1m \u001b[0m \u001b[1m                 \u001b[0m \u001b[1m          \u001b[0m \u001b[1m                \u001b[0m \u001b[1m \u001b[0m\u001b[1mAccession     \u001b[0m\u001b[1m \u001b[0m \u001b[1m            \u001b[0m  │\n",
       "│  \u001b[1m \u001b[0m\u001b[1mReport Period\u001b[0m\u001b[1m \u001b[0m \u001b[1m \u001b[0m\u001b[1mManager        \u001b[0m\u001b[1m \u001b[0m \u001b[1m \u001b[0m\u001b[1mSigned By      \u001b[0m\u001b[1m \u001b[0m \u001b[1m \u001b[0m\u001b[1mHoldings\u001b[0m\u001b[1m \u001b[0m \u001b[1m \u001b[0m\u001b[1mValue         \u001b[0m\u001b[1m \u001b[0m \u001b[1m \u001b[0m\u001b[1mNumber        \u001b[0m\u001b[1m \u001b[0m \u001b[1m \u001b[0m\u001b[1mFiled     \u001b[0m\u001b[1m \u001b[0m  │\n",
       "│  ─────────────────────────────────────────────────────────────────────────────────────────────────────────────  │\n",
       "│   2023-12-31     \u001b[1;38;5;39m \u001b[0m\u001b[1;38;5;39mAMAZON COM INC \u001b[0m\u001b[1;38;5;39m \u001b[0m  David A.          9          $4,142,925,845   0001104659-24…   2024-01-30   │\n",
       "│                  \u001b[1;38;5;39m                 \u001b[0m  Zapolsky                                                                    │\n",
       "│                                                                                                                 │\n",
       "│                                                                                                                 │\n",
       "│  \u001b[1m \u001b[0m\u001b[1m \u001b[0m\u001b[1m \u001b[0m \u001b[1m \u001b[0m\u001b[1mIssuer           \u001b[0m\u001b[1m \u001b[0m \u001b[1m \u001b[0m\u001b[1mClass   \u001b[0m\u001b[1m \u001b[0m \u001b[1m \u001b[0m\u001b[1mCusip    \u001b[0m\u001b[1m \u001b[0m \u001b[1m \u001b[0m\u001b[1mTicker\u001b[0m\u001b[1m \u001b[0m \u001b[1m \u001b[0m\u001b[1mValue         \u001b[0m\u001b[1m \u001b[0m \u001b[1m \u001b[0m\u001b[1mType  \u001b[0m\u001b[1m \u001b[0m \u001b[1m \u001b[0m\u001b[1mShares     \u001b[0m\u001b[1m \u001b[0m \u001b[1m \u001b[0m\u001b[1mVoting     \u001b[0m\u001b[1m \u001b[0m  │\n",
       "│  ─────────────────────────────────────────────────────────────────────────────────────────────────────────────  │\n",
       "│  \u001b[1m \u001b[0m\u001b[1m0\u001b[0m\u001b[1m \u001b[0m \u001b[1m \u001b[0m\u001b[1mRIVIAN AUTOMOTIVE\u001b[0m\u001b[1m \u001b[0m \u001b[1m \u001b[0m\u001b[1mCOM CL A\u001b[0m\u001b[1m \u001b[0m \u001b[1m \u001b[0m\u001b[1m76954A103\u001b[0m\u001b[1m \u001b[0m \u001b[1m \u001b[0m\u001b[1mRIVN  \u001b[0m\u001b[1m \u001b[0m \u001b[1m \u001b[0m\u001b[1m$3,715,215,546\u001b[0m\u001b[1m \u001b[0m \u001b[1m \u001b[0m\u001b[1mShares\u001b[0m\u001b[1m \u001b[0m \u001b[1m \u001b[0m\u001b[1m158,363,834\u001b[0m\u001b[1m \u001b[0m \u001b[1m \u001b[0m\u001b[1m158,363,834\u001b[0m\u001b[1m \u001b[0m  │\n",
       "│  \u001b[1m   \u001b[0m \u001b[1m \u001b[0m\u001b[1mINC              \u001b[0m\u001b[1m \u001b[0m \u001b[1m          \u001b[0m \u001b[1m           \u001b[0m \u001b[1m        \u001b[0m \u001b[1m                \u001b[0m \u001b[1m        \u001b[0m \u001b[1m             \u001b[0m \u001b[1m             \u001b[0m  │\n",
       "│   1   AIR TRANSPORT       COM        00922R105   ATSG     $224,376,846     Shares   12,741,445    12,741,445    │\n",
       "│       SERVICES GRP I                                                                                            │\n",
       "│  \u001b[1m \u001b[0m\u001b[1m2\u001b[0m\u001b[1m \u001b[0m \u001b[1m \u001b[0m\u001b[1mTWILIO INC       \u001b[0m\u001b[1m \u001b[0m \u001b[1m \u001b[0m\u001b[1mCL A    \u001b[0m\u001b[1m \u001b[0m \u001b[1m \u001b[0m\u001b[1m90138F102\u001b[0m\u001b[1m \u001b[0m \u001b[1m \u001b[0m\u001b[1mTWLO  \u001b[0m\u001b[1m \u001b[0m \u001b[1m \u001b[0m\u001b[1m$134,164,411  \u001b[0m\u001b[1m \u001b[0m \u001b[1m \u001b[0m\u001b[1mShares\u001b[0m\u001b[1m \u001b[0m \u001b[1m \u001b[0m\u001b[1m1,768,346  \u001b[0m\u001b[1m \u001b[0m \u001b[1m \u001b[0m\u001b[1m1,768,346  \u001b[0m\u001b[1m \u001b[0m  │\n",
       "│   3   VITAL FARMS INC     COM        92847W103   VITL     $25,154,679      Shares   1,603,230     0             │\n",
       "│  \u001b[1m \u001b[0m\u001b[1m4\u001b[0m\u001b[1m \u001b[0m \u001b[1m \u001b[0m\u001b[1mIONQ INC         \u001b[0m\u001b[1m \u001b[0m \u001b[1m \u001b[0m\u001b[1mCOM     \u001b[0m\u001b[1m \u001b[0m \u001b[1m \u001b[0m\u001b[1m46222L108\u001b[0m\u001b[1m \u001b[0m \u001b[1m \u001b[0m\u001b[1mIONQ  \u001b[0m\u001b[1m \u001b[0m \u001b[1m \u001b[0m\u001b[1m$23,876,286   \u001b[0m\u001b[1m \u001b[0m \u001b[1m \u001b[0m\u001b[1mShares\u001b[0m\u001b[1m \u001b[0m \u001b[1m \u001b[0m\u001b[1m1,927,061  \u001b[0m\u001b[1m \u001b[0m \u001b[1m \u001b[0m\u001b[1m1,927,061  \u001b[0m\u001b[1m \u001b[0m  │\n",
       "│   5   MARVELL             COM        573874104   MRVL     $13,595,563      Shares   225,428       225,428       │\n",
       "│       TECHNOLOGY INC                                                                                            │\n",
       "│  \u001b[1m \u001b[0m\u001b[1m6\u001b[0m\u001b[1m \u001b[0m \u001b[1m \u001b[0m\u001b[1mNAUTILUS         \u001b[0m\u001b[1m \u001b[0m \u001b[1m \u001b[0m\u001b[1mCOM     \u001b[0m\u001b[1m \u001b[0m \u001b[1m \u001b[0m\u001b[1m63909J108\u001b[0m\u001b[1m \u001b[0m \u001b[1m \u001b[0m\u001b[1mNAUT  \u001b[0m\u001b[1m \u001b[0m \u001b[1m \u001b[0m\u001b[1m$4,356,594    \u001b[0m\u001b[1m \u001b[0m \u001b[1m \u001b[0m\u001b[1mShares\u001b[0m\u001b[1m \u001b[0m \u001b[1m \u001b[0m\u001b[1m1,457,055  \u001b[0m\u001b[1m \u001b[0m \u001b[1m \u001b[0m\u001b[1m1,457,055  \u001b[0m\u001b[1m \u001b[0m  │\n",
       "│  \u001b[1m   \u001b[0m \u001b[1m \u001b[0m\u001b[1mBIOTECHNOLOGY INC\u001b[0m\u001b[1m \u001b[0m \u001b[1m          \u001b[0m \u001b[1m           \u001b[0m \u001b[1m        \u001b[0m \u001b[1m                \u001b[0m \u001b[1m        \u001b[0m \u001b[1m             \u001b[0m \u001b[1m             \u001b[0m  │\n",
       "│   7   SMARTRENT INC       COM CL A   83193G107   SMRT     $1,999,789       Shares   626,893       626,893       │\n",
       "│  \u001b[1m \u001b[0m\u001b[1m8\u001b[0m\u001b[1m \u001b[0m \u001b[1m \u001b[0m\u001b[1mOWLET INC        \u001b[0m\u001b[1m \u001b[0m \u001b[1m \u001b[0m\u001b[1mCL A NEW\u001b[0m\u001b[1m \u001b[0m \u001b[1m \u001b[0m\u001b[1m69120X206\u001b[0m\u001b[1m \u001b[0m \u001b[1m \u001b[0m\u001b[1mOWLT  \u001b[0m\u001b[1m \u001b[0m \u001b[1m \u001b[0m\u001b[1m$186,131      \u001b[0m\u001b[1m \u001b[0m \u001b[1m \u001b[0m\u001b[1mShares\u001b[0m\u001b[1m \u001b[0m \u001b[1m \u001b[0m\u001b[1m35,252     \u001b[0m\u001b[1m \u001b[0m \u001b[1m \u001b[0m\u001b[1m35,252     \u001b[0m\u001b[1m \u001b[0m  │\n",
       "│                                                                                                                 │\n",
       "╰──────────────────────── 13F-HR Holding Report for AMAZON COM INC for period 2023-12-31 ─────────────────────────╯"
      ]
     },
     "execution_count": 33,
     "metadata": {},
     "output_type": "execute_result"
    }
   ],
   "source": [
    "afiles_13f= amzn.get_filings(form=\"13F-HR\")\n",
    "file = afiles_13f[0].obj()\n",
    "file"
   ]
  },
  {
   "cell_type": "code",
   "execution_count": 37,
   "id": "3eeaa398-75a1-4d57-974f-fae4f41d8a1a",
   "metadata": {},
   "outputs": [
    {
     "data": {
      "text/html": [
       "<pre style=\"white-space:pre;overflow-x:auto;line-height:normal;font-family:Menlo,'DejaVu Sans Mono',consolas,'Courier New',monospace\"></pre>\n"
      ],
      "text/plain": []
     },
     "metadata": {},
     "output_type": "display_data"
    },
    {
     "data": {
      "text/plain": [
       "╭─────────────────────────────────────── 10-K 📊 filing for MICROSOFT CORP ───────────────────────────────────────╮\n",
       "│                                                                                                                 │\n",
       "│  \u001b[1m \u001b[0m\u001b[1mAccession Number    \u001b[0m\u001b[1m \u001b[0m \u001b[1m \u001b[0m\u001b[1mFiling Date\u001b[0m\u001b[1m \u001b[0m \u001b[1m \u001b[0m\u001b[1mCompany       \u001b[0m\u001b[1m \u001b[0m \u001b[1m \u001b[0m\u001b[1mCIK   \u001b[0m\u001b[1m \u001b[0m                                                 │\n",
       "│  ──────────────────────────────────────────────────────────────                                                 │\n",
       "│  \u001b[1m \u001b[0m\u001b[1m0000950170-23-035122\u001b[0m\u001b[1m \u001b[0m  2023-07-27    MICROSOFT CORP   789019                                                  │\n",
       "│                                                                                                                 │\n",
       "│                                                                                                                 │\n",
       "│  \u001b[1m \u001b[0m\u001b[1mLinks\u001b[0m\u001b[1m: 🏠 Homepage 📄 Primary Document 📜 Full Submission Text                           \u001b[0m\u001b[1m \u001b[0m                    │\n",
       "│  ───────────────────────────────────────────────────────────────────────────────────────────                    │\n",
       "│   🏠 https://sec.gov/Archives/edgar/data/789019/0000950170-23-035122-index.html                                 │\n",
       "│   📄 https://sec.gov/Archives/edgar/data/789019/000095017023035122/msft-20230630.htm                            │\n",
       "│   📜 https://sec.gov/Archives/edgar/data/789019/000095017023035122/0000950170-23-035122.txt                     │\n",
       "│                                                                                                                 │\n",
       "╰─────────────────────────────────────────────────────────────────────────────────────────────────────────────────╯"
      ]
     },
     "execution_count": 37,
     "metadata": {},
     "output_type": "execute_result"
    }
   ],
   "source": [
    "msft = Company(\"MSFT\")\n",
    "mfiles_10k = msft.get_filings(form=\"10-K\")\n",
    "mfiles_10k[0]"
   ]
  },
  {
   "cell_type": "code",
   "execution_count": 38,
   "id": "e877c2d2-a54d-4158-aee0-b9dc45f96b49",
   "metadata": {},
   "outputs": [
    {
     "data": {
      "text/html": [
       "<pre style=\"white-space:pre;overflow-x:auto;line-height:normal;font-family:Menlo,'DejaVu Sans Mono',consolas,'Courier New',monospace\"></pre>\n"
      ],
      "text/plain": []
     },
     "metadata": {},
     "output_type": "display_data"
    },
    {
     "data": {
      "text/plain": [
       "╭─────────────────────────────────────────────────────────────────────────────────────────────────────────────────╮\n",
       "│ ╭───────────────────────────────────── 10-K 📊 filing for MICROSOFT CORP ─────────────────────────────────────╮ │\n",
       "│ │                                                                                                             │ │\n",
       "│ │  \u001b[1m \u001b[0m\u001b[1mAccession Number    \u001b[0m\u001b[1m \u001b[0m \u001b[1m \u001b[0m\u001b[1mFiling Date\u001b[0m\u001b[1m \u001b[0m \u001b[1m \u001b[0m\u001b[1mCompany       \u001b[0m\u001b[1m \u001b[0m \u001b[1m \u001b[0m\u001b[1mCIK   \u001b[0m\u001b[1m \u001b[0m                                             │ │\n",
       "│ │  ──────────────────────────────────────────────────────────────                                             │ │\n",
       "│ │  \u001b[1m \u001b[0m\u001b[1m0000950170-23-035122\u001b[0m\u001b[1m \u001b[0m  2023-07-27    MICROSOFT CORP   789019                                              │ │\n",
       "│ │                                                                                                             │ │\n",
       "│ │                                                                                                             │ │\n",
       "│ │  \u001b[1m \u001b[0m\u001b[1mLinks\u001b[0m\u001b[1m: 🏠 Homepage 📄 Primary Document 📜 Full Submission Text                           \u001b[0m\u001b[1m \u001b[0m                │ │\n",
       "│ │  ───────────────────────────────────────────────────────────────────────────────────────────                │ │\n",
       "│ │   🏠 https://sec.gov/Archives/edgar/data/789019/0000950170-23-035122-index.html                             │ │\n",
       "│ │   📄 https://sec.gov/Archives/edgar/data/789019/000095017023035122/msft-20230630.htm                        │ │\n",
       "│ │   📜 https://sec.gov/Archives/edgar/data/789019/000095017023035122/0000950170-23-035122.txt                 │ │\n",
       "│ │                                                                                                             │ │\n",
       "│ ╰─────────────────────────────────────────────────────────────────────────────────────────────────────────────╯ │\n",
       "│                                                                                                                 │\n",
       "│   \u001b[3m                         Balance Sheet                          \u001b[0m                                              │\n",
       "│                                                                                                                 │\n",
       "│    \u001b[1m \u001b[0m\u001b[1m                                          \u001b[0m\u001b[1m \u001b[0m \u001b[1m \u001b[0m\u001b[1m     2023-06-30\u001b[0m\u001b[1m \u001b[0m                                               │\n",
       "│    ━━━━━━━━━━━━━━━━━━━━━━━━━━━━━━━━━━━━━━━━━━━━━━━━━━━━━━━━━━━━━━                                               │\n",
       "│     ASSETS:                                                                                                     │\n",
       "│     CURRENT ASSETS:                                                                                             │\n",
       "│       Cash and Cash Equivalents                   34,704,000,000                                                │\n",
       "│       Short-term Investments                      76,558,000,000                                                │\n",
       "│       Other Current Assets                        21,807,000,000                                                │\n",
       "│    \u001b[1;38;5;39m \u001b[0m\u001b[1;38;5;39m  Current Assets                          \u001b[0m\u001b[1;38;5;39m \u001b[0m \u001b[1;38;5;39m \u001b[0m\u001b[1;38;5;39m184,257,000,000\u001b[0m\u001b[1;38;5;39m \u001b[0m                                               │\n",
       "│                                                                                                                 │\n",
       "│     NONCURRENT ASSETS:                                                                                          │\n",
       "│       Property, Plant and Equipment               95,641,000,000                                                │\n",
       "│       Other Noncurrent Assets                     30,601,000,000                                                │\n",
       "│    \u001b[1;38;5;39m \u001b[0m\u001b[1;38;5;39mTotal Assets                              \u001b[0m\u001b[1;38;5;39m \u001b[0m \u001b[1;38;5;39m \u001b[0m\u001b[1;38;5;39m411,976,000,000\u001b[0m\u001b[1;38;5;39m \u001b[0m                                               │\n",
       "│                                                                                                                 │\n",
       "│     LIABILITIES AND STOCKHOLDERS' EQUITY:                                                                       │\n",
       "│     CURRENT LIABILITIES:                                                                                        │\n",
       "│       Accounts Payable                            18,095,000,000                                                │\n",
       "│       Other Current Liabilities                   14,745,000,000                                                │\n",
       "│       Deferred Revenue                            50,901,000,000                                                │\n",
       "│       Term Debt                                    5,247,000,000                                                │\n",
       "│    \u001b[1;38;5;39m \u001b[0m\u001b[1;38;5;39m  Total Current Liabilities               \u001b[0m\u001b[1;38;5;39m \u001b[0m \u001b[1;38;5;39m \u001b[0m\u001b[1;38;5;39m104,149,000,000\u001b[0m\u001b[1;38;5;39m \u001b[0m                                               │\n",
       "│                                                                                                                 │\n",
       "│     NONCURRENT LIABILITIES:                                                                                     │\n",
       "│       Non-current Long Term Debt                  41,990,000,000                                                │\n",
       "│       Other Noncurrent Liabilities                17,981,000,000                                                │\n",
       "│    \u001b[1;38;5;39m \u001b[0m\u001b[1;38;5;39mTotal Liabilities                         \u001b[0m\u001b[1;38;5;39m \u001b[0m \u001b[1;38;5;39m \u001b[0m\u001b[1;38;5;39m205,753,000,000\u001b[0m\u001b[1;38;5;39m \u001b[0m                                               │\n",
       "│                                                                                                                 │\n",
       "│     STOCKHOLDERS' EQUITY:                                                                                       │\n",
       "│       Common Stock and paid-in Capital            93,718,000,000                                                │\n",
       "│       Retained Earnings                          118,848,000,000                                                │\n",
       "│       Accumulated Other Comprehensive Income      -6,343,000,000                                                │\n",
       "│    \u001b[1;38;5;39m \u001b[0m\u001b[1;38;5;39m  Total Stockholders' Equity              \u001b[0m\u001b[1;38;5;39m \u001b[0m \u001b[1;38;5;39m \u001b[0m\u001b[1;38;5;39m206,223,000,000\u001b[0m\u001b[1;38;5;39m \u001b[0m                                               │\n",
       "│                                                                                                                 │\n",
       "│    \u001b[1;38;5;39m \u001b[0m\u001b[1;38;5;39mTotal Liabilities and Stockholders' Equity\u001b[0m\u001b[1;38;5;39m \u001b[0m \u001b[1;38;5;39m \u001b[0m\u001b[1;38;5;39m411,976,000,000\u001b[0m\u001b[1;38;5;39m \u001b[0m                                               │\n",
       "│                                                                                                                 │\n",
       "│   \u001b[3m                            Cashflow Statement                             \u001b[0m                                   │\n",
       "│                                                                                                                 │\n",
       "│    \u001b[1m \u001b[0m\u001b[1m                                                     \u001b[0m\u001b[1m \u001b[0m \u001b[1m \u001b[0m\u001b[1m     2023-06-30\u001b[0m\u001b[1m \u001b[0m                                    │\n",
       "│    ━━━━━━━━━━━━━━━━━━━━━━━━━━━━━━━━━━━━━━━━━━━━━━━━━━━━━━━━━━━━━━━━━━━━━━━━━                                    │\n",
       "│     OPERATING ACTIVITIES:                                                                                       │\n",
       "│       Net Income                                             72,361,000,000                                     │\n",
       "│       Stock-based Compensation                                9,611,000,000                                     │\n",
       "│       Foreign Currency Transaction Gain/Loss                    181,000,000                                     │\n",
       "│       Changes in Other Current Assets                         1,991,000,000                                     │\n",
       "│       Changes in Accounts Payable                            -2,721,000,000                                     │\n",
       "│       Changes in Inventories                                 -1,242,000,000                                     │\n",
       "│       Changes in Deferred Revenue                             5,535,000,000                                     │\n",
       "│    \u001b[1;38;5;39m \u001b[0m\u001b[1;38;5;39m  Net Cash Provided by Operating Activities          \u001b[0m\u001b[1;38;5;39m \u001b[0m \u001b[1;38;5;39m \u001b[0m\u001b[1;38;5;39m 87,582,000,000\u001b[0m\u001b[1;38;5;39m \u001b[0m                                    │\n",
       "│                                                                                                                 │\n",
       "│     INVESTING ACTIVITIES:                                                                                       │\n",
       "│       Proceeds from Maturities of Marketable Securities      33,510,000,000                                     │\n",
       "│       Purchases of Property, Plant and Equipment             28,107,000,000                                     │\n",
       "│       Payments to Acquire Investments                        37,651,000,000                                     │\n",
       "│       Deferred Revenue                                        5,535,000,000                                     │\n",
       "│       Other Investing Activities                              3,116,000,000                                     │\n",
       "│    \u001b[1;38;5;39m \u001b[0m\u001b[1;38;5;39m  Net Cash Provided by Investing Activities          \u001b[0m\u001b[1;38;5;39m \u001b[0m \u001b[1;38;5;39m \u001b[0m\u001b[1;38;5;39m-22,680,000,000\u001b[0m\u001b[1;38;5;39m \u001b[0m                                    │\n",
       "│                                                                                                                 │\n",
       "│     FINANCING ACTIVITIES:                                                                                       │\n",
       "│       Payments of Tax for Share-based Compensation            3,800,000,000                                     │\n",
       "│       Repurchases of Common Stock                            22,245,000,000                                     │\n",
       "│       Proceeds from Issuance of Common Stock                  1,866,000,000                                     │\n",
       "│    \u001b[1;38;5;39m \u001b[0m\u001b[1;38;5;39m  Net Cash Provided by Financing Activities          \u001b[0m\u001b[1;38;5;39m \u001b[0m \u001b[1;38;5;39m \u001b[0m\u001b[1;38;5;39m-43,935,000,000\u001b[0m\u001b[1;38;5;39m \u001b[0m                                    │\n",
       "│                                                                                                                 │\n",
       "│     Changes in Cash, cash equivalents and restricted cash    20,773,000,000                                     │\n",
       "│    \u001b[1;38;5;39m \u001b[0m\u001b[1;38;5;39mCash, cash equivalents and restricted cash           \u001b[0m\u001b[1;38;5;39m \u001b[0m \u001b[1;38;5;39m \u001b[0m\u001b[1;38;5;39m 34,704,000,000\u001b[0m\u001b[1;38;5;39m \u001b[0m                                    │\n",
       "│                                                                                                                 │\n",
       "│   \u001b[3m           Consolidated Statement of Operations            \u001b[0m                                                   │\n",
       "│                                                                                                                 │\n",
       "│    \u001b[1m \u001b[0m\u001b[1m                                     \u001b[0m\u001b[1m \u001b[0m \u001b[1m \u001b[0m\u001b[1m     2023-06-30\u001b[0m\u001b[1m \u001b[0m                                                    │\n",
       "│    ━━━━━━━━━━━━━━━━━━━━━━━━━━━━━━━━━━━━━━━━━━━━━━━━━━━━━━━━━                                                    │\n",
       "│    \u001b[1;38;5;39m \u001b[0m\u001b[1;38;5;39mTotal Net Sales                      \u001b[0m\u001b[1;38;5;39m \u001b[0m \u001b[1;38;5;39m \u001b[0m\u001b[1;38;5;39m211,915,000,000\u001b[0m\u001b[1;38;5;39m \u001b[0m                                                    │\n",
       "│                                                                                                                 │\n",
       "│     COST OF SALES:                                                                                              │\n",
       "│    \u001b[1;38;5;39m \u001b[0m\u001b[1;38;5;39mCost Goods and Services Sold         \u001b[0m\u001b[1;38;5;39m \u001b[0m \u001b[1;38;5;39m \u001b[0m\u001b[1;38;5;39m 65,863,000,000\u001b[0m\u001b[1;38;5;39m \u001b[0m                                                    │\n",
       "│                                                                                                                 │\n",
       "│    \u001b[1;38;5;39m \u001b[0m\u001b[1;38;5;39mGross Profit                         \u001b[0m\u001b[1;38;5;39m \u001b[0m \u001b[1;38;5;39m \u001b[0m\u001b[1;38;5;39m146,052,000,000\u001b[0m\u001b[1;38;5;39m \u001b[0m                                                    │\n",
       "│                                                                                                                 │\n",
       "│     OPERATING EXPENSES:                                                                                         │\n",
       "│       Research and Development Expenses      27,195,000,000                                                     │\n",
       "│       General and Administrative Expenses     7,575,000,000                                                     │\n",
       "│    \u001b[1;38;5;39m \u001b[0m\u001b[1;38;5;39mOperating Income                     \u001b[0m\u001b[1;38;5;39m \u001b[0m \u001b[1;38;5;39m \u001b[0m\u001b[1;38;5;39m 88,523,000,000\u001b[0m\u001b[1;38;5;39m \u001b[0m                                                    │\n",
       "│                                                                                                                 │\n",
       "│     OTHER INCOME/EXPENSE:                                                                                       │\n",
       "│       Interest Expense                        1,968,000,000                                                     │\n",
       "│       Nonoperating Income                       788,000,000                                                     │\n",
       "│    \u001b[1;38;5;39m \u001b[0m\u001b[1;38;5;39mIncome Before Taxes                  \u001b[0m\u001b[1;38;5;39m \u001b[0m \u001b[1;38;5;39m \u001b[0m\u001b[1;38;5;39m 89,311,000,000\u001b[0m\u001b[1;38;5;39m \u001b[0m                                                    │\n",
       "│                                                                                                                 │\n",
       "│     Income Tax Expense                       16,950,000,000                                                     │\n",
       "│    \u001b[1;38;5;39m \u001b[0m\u001b[1;38;5;39mNet Income                           \u001b[0m\u001b[1;38;5;39m \u001b[0m \u001b[1;38;5;39m \u001b[0m\u001b[1;38;5;39m 72,361,000,000\u001b[0m\u001b[1;38;5;39m \u001b[0m                                                    │\n",
       "│                                                                                                                 │\n",
       "│     EARNINGS PER SHARE:                                                                                         │\n",
       "│       Basic                                            9.72                                                     │\n",
       "│       Diluted                                          9.68                                                     │\n",
       "│     WEIGHTED AVERAGE SHARES OUTSTANDING:                                                                        │\n",
       "│       Basic                                   7,446,000,000                                                     │\n",
       "│       Diluted                                 7,472,000,000                                                     │\n",
       "│                                                                                                                 │\n",
       "│                                                                                                                 │\n",
       "╰─────────────────────────────────────────────────────────────────────────────────────────────────────────────────╯"
      ]
     },
     "execution_count": 38,
     "metadata": {},
     "output_type": "execute_result"
    }
   ],
   "source": [
    "mfiles_10k[0].obj()"
   ]
  },
  {
   "cell_type": "code",
   "execution_count": 3,
   "id": "8b947fc5-7b26-4d94-9824-4d4d552752f3",
   "metadata": {},
   "outputs": [],
   "source": [
    "filings = get_filings(form=\"10-K\")"
   ]
  },
  {
   "cell_type": "code",
   "execution_count": 4,
   "id": "06142feb-c60f-4236-b1db-914ec5113830",
   "metadata": {},
   "outputs": [
    {
     "data": {
      "text/html": [
       "<pre style=\"white-space:pre;overflow-x:auto;line-height:normal;font-family:Menlo,'DejaVu Sans Mono',consolas,'Courier New',monospace\"></pre>\n"
      ],
      "text/plain": []
     },
     "metadata": {},
     "output_type": "display_data"
    },
    {
     "data": {
      "text/plain": [
       "╭──────────────────────────────────────────────────── Filings ────────────────────────────────────────────────────╮\n",
       "│                                                                                                                 │\n",
       "│  \u001b[1m \u001b[0m\u001b[1m \u001b[0m\u001b[1m \u001b[0m \u001b[1;38;5;71m \u001b[0m\u001b[1;38;5;71mform\u001b[0m\u001b[1;38;5;71m \u001b[0m \u001b[1m \u001b[0m\u001b[1mcompany                           \u001b[0m\u001b[1m \u001b[0m \u001b[1m \u001b[0m\u001b[1mcik    \u001b[0m\u001b[1m \u001b[0m \u001b[1;38;5;39m \u001b[0m\u001b[1;38;5;39mfiling_date\u001b[0m\u001b[1;38;5;39m \u001b[0m \u001b[1m \u001b[0m\u001b[1maccession_number    \u001b[0m\u001b[1m \u001b[0m                 │\n",
       "│  ──────────────────────────────────────────────────────────────────────────────────────────────                 │\n",
       "│  \u001b[1m \u001b[0m\u001b[1m0\u001b[0m\u001b[1m \u001b[0m \u001b[1;38;5;71m \u001b[0m\u001b[1;38;5;71m10-K\u001b[0m\u001b[1;38;5;71m \u001b[0m \u001b[1m \u001b[0m\u001b[1mAiXin Life International, Inc.    \u001b[0m\u001b[1m \u001b[0m \u001b[1m \u001b[0m\u001b[1m835662 \u001b[0m\u001b[1m \u001b[0m \u001b[1;38;5;39m \u001b[0m\u001b[1;38;5;39m2024-04-08 \u001b[0m\u001b[1;38;5;39m \u001b[0m \u001b[1m \u001b[0m\u001b[1m0001493152-24-013947\u001b[0m\u001b[1m \u001b[0m                 │\n",
       "│   1  \u001b[38;5;71m \u001b[0m\u001b[38;5;71m10-K\u001b[0m\u001b[38;5;71m \u001b[0m  Better Home & Finance Holding Co     1835856  \u001b[38;5;39m \u001b[0m\u001b[38;5;39m2024-04-08 \u001b[0m\u001b[38;5;39m \u001b[0m  0001628280-24-015134                  │\n",
       "│  \u001b[1m \u001b[0m\u001b[1m2\u001b[0m\u001b[1m \u001b[0m \u001b[1;38;5;71m \u001b[0m\u001b[1;38;5;71m10-K\u001b[0m\u001b[1;38;5;71m \u001b[0m \u001b[1m \u001b[0m\u001b[1mCOMMUNITY WEST BANCSHARES /       \u001b[0m\u001b[1m \u001b[0m \u001b[1m \u001b[0m\u001b[1m1051343\u001b[0m\u001b[1m \u001b[0m \u001b[1;38;5;39m \u001b[0m\u001b[1;38;5;39m2024-04-08 \u001b[0m\u001b[1;38;5;39m \u001b[0m \u001b[1m \u001b[0m\u001b[1m0001140361-24-018439\u001b[0m\u001b[1m \u001b[0m                 │\n",
       "│   3  \u001b[38;5;71m \u001b[0m\u001b[38;5;71m10-K\u001b[0m\u001b[38;5;71m \u001b[0m  CPI AEROSTRUCTURES INC               889348   \u001b[38;5;39m \u001b[0m\u001b[38;5;39m2024-04-08 \u001b[0m\u001b[38;5;39m \u001b[0m  0001999371-24-004537                  │\n",
       "│  \u001b[1m \u001b[0m\u001b[1m4\u001b[0m\u001b[1m \u001b[0m \u001b[1;38;5;71m \u001b[0m\u001b[1;38;5;71m10-K\u001b[0m\u001b[1;38;5;71m \u001b[0m \u001b[1m \u001b[0m\u001b[1mEiger BioPharmaceuticals, Inc.    \u001b[0m\u001b[1m \u001b[0m \u001b[1m \u001b[0m\u001b[1m1305253\u001b[0m\u001b[1m \u001b[0m \u001b[1;38;5;39m \u001b[0m\u001b[1;38;5;39m2024-04-08 \u001b[0m\u001b[1;38;5;39m \u001b[0m \u001b[1m \u001b[0m\u001b[1m0001628280-24-015297\u001b[0m\u001b[1m \u001b[0m                 │\n",
       "│   5  \u001b[38;5;71m \u001b[0m\u001b[38;5;71m10-K\u001b[0m\u001b[38;5;71m \u001b[0m  Ezagoo Ltd                           1752372  \u001b[38;5;39m \u001b[0m\u001b[38;5;39m2024-04-08 \u001b[0m\u001b[38;5;39m \u001b[0m  0001493152-24-013755                  │\n",
       "│  \u001b[1m \u001b[0m\u001b[1m6\u001b[0m\u001b[1m \u001b[0m \u001b[1;38;5;71m \u001b[0m\u001b[1;38;5;71m10-K\u001b[0m\u001b[1;38;5;71m \u001b[0m \u001b[1m \u001b[0m\u001b[1mFLEXPOINT SENSOR SYSTEMS INC      \u001b[0m\u001b[1m \u001b[0m \u001b[1m \u001b[0m\u001b[1m925660 \u001b[0m\u001b[1m \u001b[0m \u001b[1;38;5;39m \u001b[0m\u001b[1;38;5;39m2024-04-08 \u001b[0m\u001b[1;38;5;39m \u001b[0m \u001b[1m \u001b[0m\u001b[1m0001548123-24-000046\u001b[0m\u001b[1m \u001b[0m                 │\n",
       "│   7  \u001b[38;5;71m \u001b[0m\u001b[38;5;71m10-K\u001b[0m\u001b[38;5;71m \u001b[0m  Focus Impact Acquisition Corp.       1854480  \u001b[38;5;39m \u001b[0m\u001b[38;5;39m2024-04-08 \u001b[0m\u001b[38;5;39m \u001b[0m  0001140361-24-018430                  │\n",
       "│  \u001b[1m \u001b[0m\u001b[1m8\u001b[0m\u001b[1m \u001b[0m \u001b[1;38;5;71m \u001b[0m\u001b[1;38;5;71m10-K\u001b[0m\u001b[1;38;5;71m \u001b[0m \u001b[1m \u001b[0m\u001b[1mGENERATION INCOME PROPERTIES, INC.\u001b[0m\u001b[1m \u001b[0m \u001b[1m \u001b[0m\u001b[1m1651721\u001b[0m\u001b[1m \u001b[0m \u001b[1;38;5;39m \u001b[0m\u001b[1;38;5;39m2024-04-08 \u001b[0m\u001b[1;38;5;39m \u001b[0m \u001b[1m \u001b[0m\u001b[1m0000950170-24-042640\u001b[0m\u001b[1m \u001b[0m                 │\n",
       "│   9  \u001b[38;5;71m \u001b[0m\u001b[38;5;71m10-K\u001b[0m\u001b[38;5;71m \u001b[0m  INNSUITES HOSPITALITY TRUST          82473    \u001b[38;5;39m \u001b[0m\u001b[38;5;39m2024-04-08 \u001b[0m\u001b[38;5;39m \u001b[0m  0001493152-24-013409                  │\n",
       "│                                                                                                                 │\n",
       "│ Showing 10 of 10 filings                                                                                        │\n",
       "╰─────────────────────────────────────────────────────────────────────────────────────────────────────────────────╯"
      ]
     },
     "execution_count": 4,
     "metadata": {},
     "output_type": "execute_result"
    }
   ],
   "source": [
    "filings.head(10)"
   ]
  },
  {
   "cell_type": "code",
   "execution_count": 5,
   "id": "5e827dbc-2c21-4272-a0f6-30ff5ff21d6f",
   "metadata": {},
   "outputs": [
    {
     "data": {
      "text/html": [
       "<pre style=\"white-space:pre;overflow-x:auto;line-height:normal;font-family:Menlo,'DejaVu Sans Mono',consolas,'Courier New',monospace\"></pre>\n"
      ],
      "text/plain": []
     },
     "metadata": {},
     "output_type": "display_data"
    },
    {
     "data": {
      "text/plain": [
       "╭──────────────────────────────────────────────────── Filings ────────────────────────────────────────────────────╮\n",
       "│                                                                                                                 │\n",
       "│  \u001b[1m \u001b[0m\u001b[1m \u001b[0m\u001b[1m \u001b[0m \u001b[1;38;5;71m \u001b[0m\u001b[1;38;5;71mform  \u001b[0m\u001b[1;38;5;71m \u001b[0m \u001b[1m \u001b[0m\u001b[1mcompany                           \u001b[0m\u001b[1m \u001b[0m \u001b[1m \u001b[0m\u001b[1mcik    \u001b[0m\u001b[1m \u001b[0m \u001b[1;38;5;39m \u001b[0m\u001b[1;38;5;39mfiling_date\u001b[0m\u001b[1;38;5;39m \u001b[0m \u001b[1m \u001b[0m\u001b[1maccession_number    \u001b[0m\u001b[1m \u001b[0m               │\n",
       "│  ────────────────────────────────────────────────────────────────────────────────────────────────               │\n",
       "│  \u001b[1m \u001b[0m\u001b[1m0\u001b[0m\u001b[1m \u001b[0m \u001b[1;38;5;71m \u001b[0m\u001b[1;38;5;71m10-K  \u001b[0m\u001b[1;38;5;71m \u001b[0m \u001b[1m \u001b[0m\u001b[1mARVANA INC                        \u001b[0m\u001b[1m \u001b[0m \u001b[1m \u001b[0m\u001b[1m1113313\u001b[0m\u001b[1m \u001b[0m \u001b[1;38;5;39m \u001b[0m\u001b[1;38;5;39m2024-04-05 \u001b[0m\u001b[1;38;5;39m \u001b[0m \u001b[1m \u001b[0m\u001b[1m0001607062-24-000118\u001b[0m\u001b[1m \u001b[0m               │\n",
       "│   1  \u001b[38;5;71m \u001b[0m\u001b[38;5;71m10-K  \u001b[0m\u001b[38;5;71m \u001b[0m  99 Acquisition Group Inc.            1950429  \u001b[38;5;39m \u001b[0m\u001b[38;5;39m2024-04-05 \u001b[0m\u001b[38;5;39m \u001b[0m  0001213900-24-030594                │\n",
       "│  \u001b[1m \u001b[0m\u001b[1m2\u001b[0m\u001b[1m \u001b[0m \u001b[1;38;5;71m \u001b[0m\u001b[1;38;5;71m10-K/A\u001b[0m\u001b[1;38;5;71m \u001b[0m \u001b[1m \u001b[0m\u001b[1mCyber App Solutions Corp.         \u001b[0m\u001b[1m \u001b[0m \u001b[1m \u001b[0m\u001b[1m1851048\u001b[0m\u001b[1m \u001b[0m \u001b[1;38;5;39m \u001b[0m\u001b[1;38;5;39m2024-04-02 \u001b[0m\u001b[1;38;5;39m \u001b[0m \u001b[1m \u001b[0m\u001b[1m0001213900-24-029190\u001b[0m\u001b[1m \u001b[0m               │\n",
       "│   3  \u001b[38;5;71m \u001b[0m\u001b[38;5;71m10-K  \u001b[0m\u001b[38;5;71m \u001b[0m  VACCINEX, INC.                       1205922  \u001b[38;5;39m \u001b[0m\u001b[38;5;39m2024-04-02 \u001b[0m\u001b[38;5;39m \u001b[0m  0000950170-24-039700                │\n",
       "│  \u001b[1m \u001b[0m\u001b[1m4\u001b[0m\u001b[1m \u001b[0m \u001b[1;38;5;71m \u001b[0m\u001b[1;38;5;71m10-K  \u001b[0m\u001b[1;38;5;71m \u001b[0m \u001b[1m \u001b[0m\u001b[1mSOBR Safe, Inc.                   \u001b[0m\u001b[1m \u001b[0m \u001b[1m \u001b[0m\u001b[1m1425627\u001b[0m\u001b[1m \u001b[0m \u001b[1;38;5;39m \u001b[0m\u001b[1;38;5;39m2024-04-01 \u001b[0m\u001b[1;38;5;39m \u001b[0m \u001b[1m \u001b[0m\u001b[1m0001477932-24-001629\u001b[0m\u001b[1m \u001b[0m               │\n",
       "│   5  \u001b[38;5;71m \u001b[0m\u001b[38;5;71m10-K  \u001b[0m\u001b[38;5;71m \u001b[0m  Quarta-Rad, Inc.                     1549631  \u001b[38;5;39m \u001b[0m\u001b[38;5;39m2024-04-01 \u001b[0m\u001b[38;5;39m \u001b[0m  0001493152-24-012312                │\n",
       "│  \u001b[1m \u001b[0m\u001b[1m6\u001b[0m\u001b[1m \u001b[0m \u001b[1;38;5;71m \u001b[0m\u001b[1;38;5;71m10-K/A\u001b[0m\u001b[1;38;5;71m \u001b[0m \u001b[1m \u001b[0m\u001b[1mArcadium Lithium plc              \u001b[0m\u001b[1m \u001b[0m \u001b[1m \u001b[0m\u001b[1m1977303\u001b[0m\u001b[1m \u001b[0m \u001b[1;38;5;39m \u001b[0m\u001b[1;38;5;39m2024-04-01 \u001b[0m\u001b[1;38;5;39m \u001b[0m \u001b[1m \u001b[0m\u001b[1m0001977303-24-000018\u001b[0m\u001b[1m \u001b[0m               │\n",
       "│   7  \u001b[38;5;71m \u001b[0m\u001b[38;5;71m10-K  \u001b[0m\u001b[38;5;71m \u001b[0m  Lightstone Value Plus REIT I, Inc.   1296884  \u001b[38;5;39m \u001b[0m\u001b[38;5;39m2024-04-01 \u001b[0m\u001b[38;5;39m \u001b[0m  0001829126-24-002092                │\n",
       "│  \u001b[1m \u001b[0m\u001b[1m8\u001b[0m\u001b[1m \u001b[0m \u001b[1;38;5;71m \u001b[0m\u001b[1;38;5;71m10-K  \u001b[0m\u001b[1;38;5;71m \u001b[0m \u001b[1m \u001b[0m\u001b[1mBranchOut Food Inc.               \u001b[0m\u001b[1m \u001b[0m \u001b[1m \u001b[0m\u001b[1m1962481\u001b[0m\u001b[1m \u001b[0m \u001b[1;38;5;39m \u001b[0m\u001b[1;38;5;39m2024-04-01 \u001b[0m\u001b[1;38;5;39m \u001b[0m \u001b[1m \u001b[0m\u001b[1m0001493152-24-012492\u001b[0m\u001b[1m \u001b[0m               │\n",
       "│   9  \u001b[38;5;71m \u001b[0m\u001b[38;5;71m10-K  \u001b[0m\u001b[38;5;71m \u001b[0m  New York REIT Liquidating LLC        1474464  \u001b[38;5;39m \u001b[0m\u001b[38;5;39m2024-04-01 \u001b[0m\u001b[38;5;39m \u001b[0m  0000950170-24-039443                │\n",
       "│                                                                                                                 │\n",
       "│ Showing 10 of 10 filings                                                                                        │\n",
       "╰─────────────────────────────────────────────────────────────────────────────────────────────────────────────────╯"
      ]
     },
     "execution_count": 5,
     "metadata": {},
     "output_type": "execute_result"
    }
   ],
   "source": [
    "filings.sample(10)"
   ]
  },
  {
   "cell_type": "code",
   "execution_count": 7,
   "id": "0038d050-ae40-424c-bd96-48230fcde3d7",
   "metadata": {},
   "outputs": [],
   "source": [
    "filings = get_filings(form=[\"10-K\", \"10-Q\"])"
   ]
  },
  {
   "cell_type": "code",
   "execution_count": 13,
   "id": "f81657f3-63d3-4a90-8f13-e2a3e9c60d59",
   "metadata": {},
   "outputs": [
    {
     "data": {
      "text/html": [
       "<pre style=\"white-space:pre;overflow-x:auto;line-height:normal;font-family:Menlo,'DejaVu Sans Mono',consolas,'Courier New',monospace\"></pre>\n"
      ],
      "text/plain": []
     },
     "metadata": {},
     "output_type": "display_data"
    },
    {
     "data": {
      "text/plain": [
       "╭──────────────────────────────────────────────────── Filings ────────────────────────────────────────────────────╮\n",
       "│                                                                                                                 │\n",
       "│  \u001b[1m \u001b[0m\u001b[1m  \u001b[0m\u001b[1m \u001b[0m \u001b[1;38;5;71m \u001b[0m\u001b[1;38;5;71mform  \u001b[0m\u001b[1;38;5;71m \u001b[0m \u001b[1m \u001b[0m\u001b[1mcompany                                       \u001b[0m\u001b[1m \u001b[0m \u001b[1m \u001b[0m\u001b[1mcik    \u001b[0m\u001b[1m \u001b[0m \u001b[1;38;5;39m \u001b[0m\u001b[1;38;5;39mfiling_date\u001b[0m\u001b[1;38;5;39m \u001b[0m \u001b[1m \u001b[0m\u001b[1maccession_number    \u001b[0m\u001b[1m \u001b[0m  │\n",
       "│  ─────────────────────────────────────────────────────────────────────────────────────────────────────────────  │\n",
       "│  \u001b[1m \u001b[0m\u001b[1m0 \u001b[0m\u001b[1m \u001b[0m \u001b[1;38;5;71m \u001b[0m\u001b[1;38;5;71m10-K  \u001b[0m\u001b[1;38;5;71m \u001b[0m \u001b[1m \u001b[0m\u001b[1mGENERATION INCOME PROPERTIES, INC.            \u001b[0m\u001b[1m \u001b[0m \u001b[1m \u001b[0m\u001b[1m1651721\u001b[0m\u001b[1m \u001b[0m \u001b[1;38;5;39m \u001b[0m\u001b[1;38;5;39m2024-04-08 \u001b[0m\u001b[1;38;5;39m \u001b[0m \u001b[1m \u001b[0m\u001b[1m0000950170-24-042640\u001b[0m\u001b[1m \u001b[0m  │\n",
       "│   1   \u001b[38;5;71m \u001b[0m\u001b[38;5;71m10-Q  \u001b[0m\u001b[38;5;71m \u001b[0m  Jefferies Financial Group Inc.                   96223    \u001b[38;5;39m \u001b[0m\u001b[38;5;39m2024-04-05 \u001b[0m\u001b[38;5;39m \u001b[0m  0000096223-24-000015   │\n",
       "│  \u001b[1m \u001b[0m\u001b[1m2 \u001b[0m\u001b[1m \u001b[0m \u001b[1;38;5;71m \u001b[0m\u001b[1;38;5;71m10-K  \u001b[0m\u001b[1;38;5;71m \u001b[0m \u001b[1m \u001b[0m\u001b[1mARVANA INC                                    \u001b[0m\u001b[1m \u001b[0m \u001b[1m \u001b[0m\u001b[1m1113313\u001b[0m\u001b[1m \u001b[0m \u001b[1;38;5;39m \u001b[0m\u001b[1;38;5;39m2024-04-05 \u001b[0m\u001b[1;38;5;39m \u001b[0m \u001b[1m \u001b[0m\u001b[1m0001607062-24-000118\u001b[0m\u001b[1m \u001b[0m  │\n",
       "│   3   \u001b[38;5;71m \u001b[0m\u001b[38;5;71m10-K/A\u001b[0m\u001b[38;5;71m \u001b[0m  Embecta Corp.                                    1872789  \u001b[38;5;39m \u001b[0m\u001b[38;5;39m2024-04-05 \u001b[0m\u001b[38;5;39m \u001b[0m  0001872789-24-000013   │\n",
       "│  \u001b[1m \u001b[0m\u001b[1m4 \u001b[0m\u001b[1m \u001b[0m \u001b[1;38;5;71m \u001b[0m\u001b[1;38;5;71m10-K  \u001b[0m\u001b[1;38;5;71m \u001b[0m \u001b[1m \u001b[0m\u001b[1mSPORTSMAN'S WAREHOUSE HOLDINGS, INC.          \u001b[0m\u001b[1m \u001b[0m \u001b[1m \u001b[0m\u001b[1m1132105\u001b[0m\u001b[1m \u001b[0m \u001b[1;38;5;39m \u001b[0m\u001b[1;38;5;39m2024-04-04 \u001b[0m\u001b[1;38;5;39m \u001b[0m \u001b[1m \u001b[0m\u001b[1m0000950170-24-041618\u001b[0m\u001b[1m \u001b[0m  │\n",
       "│   5   \u001b[38;5;71m \u001b[0m\u001b[38;5;71m10-K/A\u001b[0m\u001b[38;5;71m \u001b[0m  HOUSTON AMERICAN ENERGY CORP                     1156041  \u001b[38;5;39m \u001b[0m\u001b[38;5;39m2024-04-04 \u001b[0m\u001b[38;5;39m \u001b[0m  0001493152-24-013202   │\n",
       "│  \u001b[1m \u001b[0m\u001b[1m6 \u001b[0m\u001b[1m \u001b[0m \u001b[1;38;5;71m \u001b[0m\u001b[1;38;5;71m10-K  \u001b[0m\u001b[1;38;5;71m \u001b[0m \u001b[1m \u001b[0m\u001b[1mSunstock, Inc.                                \u001b[0m\u001b[1m \u001b[0m \u001b[1m \u001b[0m\u001b[1m1559157\u001b[0m\u001b[1m \u001b[0m \u001b[1;38;5;39m \u001b[0m\u001b[1;38;5;39m2024-04-03 \u001b[0m\u001b[1;38;5;39m \u001b[0m \u001b[1m \u001b[0m\u001b[1m0001493152-24-012940\u001b[0m\u001b[1m \u001b[0m  │\n",
       "│   7   \u001b[38;5;71m \u001b[0m\u001b[38;5;71m10-K/A\u001b[0m\u001b[38;5;71m \u001b[0m  FlexShopper, Inc.                                1397047  \u001b[38;5;39m \u001b[0m\u001b[38;5;39m2024-04-03 \u001b[0m\u001b[38;5;39m \u001b[0m  0001213900-24-029807   │\n",
       "│  \u001b[1m \u001b[0m\u001b[1m8 \u001b[0m\u001b[1m \u001b[0m \u001b[1;38;5;71m \u001b[0m\u001b[1;38;5;71m10-Q  \u001b[0m\u001b[1;38;5;71m \u001b[0m \u001b[1m \u001b[0m\u001b[1mPAYCHEX INC                                   \u001b[0m\u001b[1m \u001b[0m \u001b[1m \u001b[0m\u001b[1m723531 \u001b[0m\u001b[1m \u001b[0m \u001b[1;38;5;39m \u001b[0m\u001b[1;38;5;39m2024-04-02 \u001b[0m\u001b[1;38;5;39m \u001b[0m \u001b[1m \u001b[0m\u001b[1m0000950170-24-040129\u001b[0m\u001b[1m \u001b[0m  │\n",
       "│   9   \u001b[38;5;71m \u001b[0m\u001b[38;5;71m10-Q/A\u001b[0m\u001b[38;5;71m \u001b[0m  WETRADE GROUP INC.                               1784970  \u001b[38;5;39m \u001b[0m\u001b[38;5;39m2024-04-02 \u001b[0m\u001b[38;5;39m \u001b[0m  0001099910-24-000152   │\n",
       "│  \u001b[1m \u001b[0m\u001b[1m10\u001b[0m\u001b[1m \u001b[0m \u001b[1;38;5;71m \u001b[0m\u001b[1;38;5;71m10-K  \u001b[0m\u001b[1;38;5;71m \u001b[0m \u001b[1m \u001b[0m\u001b[1mTorrid Holdings Inc.                          \u001b[0m\u001b[1m \u001b[0m \u001b[1m \u001b[0m\u001b[1m1792781\u001b[0m\u001b[1m \u001b[0m \u001b[1;38;5;39m \u001b[0m\u001b[1;38;5;39m2024-04-02 \u001b[0m\u001b[1;38;5;39m \u001b[0m \u001b[1m \u001b[0m\u001b[1m0001628280-24-014351\u001b[0m\u001b[1m \u001b[0m  │\n",
       "│   11  \u001b[38;5;71m \u001b[0m\u001b[38;5;71m10-K  \u001b[0m\u001b[38;5;71m \u001b[0m  VASO Corp                                        839087   \u001b[38;5;39m \u001b[0m\u001b[38;5;39m2024-04-01 \u001b[0m\u001b[38;5;39m \u001b[0m  0001213900-24-028734   │\n",
       "│  \u001b[1m \u001b[0m\u001b[1m12\u001b[0m\u001b[1m \u001b[0m \u001b[1;38;5;71m \u001b[0m\u001b[1;38;5;71m10-K  \u001b[0m\u001b[1;38;5;71m \u001b[0m \u001b[1m \u001b[0m\u001b[1mNovelStem International Corp.                 \u001b[0m\u001b[1m \u001b[0m \u001b[1m \u001b[0m\u001b[1m912544 \u001b[0m\u001b[1m \u001b[0m \u001b[1;38;5;39m \u001b[0m\u001b[1;38;5;39m2024-04-01 \u001b[0m\u001b[1;38;5;39m \u001b[0m \u001b[1m \u001b[0m\u001b[1m0001493152-24-012323\u001b[0m\u001b[1m \u001b[0m  │\n",
       "│   13  \u001b[38;5;71m \u001b[0m\u001b[38;5;71m10-K  \u001b[0m\u001b[38;5;71m \u001b[0m  CNS Pharmaceuticals, Inc.                        1729427  \u001b[38;5;39m \u001b[0m\u001b[38;5;39m2024-04-01 \u001b[0m\u001b[38;5;39m \u001b[0m  0001683168-24-002032   │\n",
       "│  \u001b[1m \u001b[0m\u001b[1m14\u001b[0m\u001b[1m \u001b[0m \u001b[1;38;5;71m \u001b[0m\u001b[1;38;5;71m10-K/A\u001b[0m\u001b[1;38;5;71m \u001b[0m \u001b[1m \u001b[0m\u001b[1mPG&E Wildfire Recovery Funding LLC            \u001b[0m\u001b[1m \u001b[0m \u001b[1m \u001b[0m\u001b[1m1918072\u001b[0m\u001b[1m \u001b[0m \u001b[1;38;5;39m \u001b[0m\u001b[1;38;5;39m2024-04-01 \u001b[0m\u001b[1;38;5;39m \u001b[0m \u001b[1m \u001b[0m\u001b[1m0001918072-24-000006\u001b[0m\u001b[1m \u001b[0m  │\n",
       "│   15  \u001b[38;5;71m \u001b[0m\u001b[38;5;71m10-K  \u001b[0m\u001b[38;5;71m \u001b[0m  OneMeta Inc.                                     1388295  \u001b[38;5;39m \u001b[0m\u001b[38;5;39m2024-04-01 \u001b[0m\u001b[38;5;39m \u001b[0m  0001493152-24-012247   │\n",
       "│  \u001b[1m \u001b[0m\u001b[1m16\u001b[0m\u001b[1m \u001b[0m \u001b[1;38;5;71m \u001b[0m\u001b[1;38;5;71m10-K  \u001b[0m\u001b[1;38;5;71m \u001b[0m \u001b[1m \u001b[0m\u001b[1mHapi Metaverse Inc.                           \u001b[0m\u001b[1m \u001b[0m \u001b[1m \u001b[0m\u001b[1m1600347\u001b[0m\u001b[1m \u001b[0m \u001b[1;38;5;39m \u001b[0m\u001b[1;38;5;39m2024-04-01 \u001b[0m\u001b[1;38;5;39m \u001b[0m \u001b[1m \u001b[0m\u001b[1m0001493152-24-012424\u001b[0m\u001b[1m \u001b[0m  │\n",
       "│   17  \u001b[38;5;71m \u001b[0m\u001b[38;5;71m10-K  \u001b[0m\u001b[38;5;71m \u001b[0m  Tonix Pharmaceuticals Holding Corp.              1430306  \u001b[38;5;39m \u001b[0m\u001b[38;5;39m2024-04-01 \u001b[0m\u001b[38;5;39m \u001b[0m  0001999371-24-004297   │\n",
       "│  \u001b[1m \u001b[0m\u001b[1m18\u001b[0m\u001b[1m \u001b[0m \u001b[1;38;5;71m \u001b[0m\u001b[1;38;5;71m10-K  \u001b[0m\u001b[1;38;5;71m \u001b[0m \u001b[1m \u001b[0m\u001b[1mCrown Electrokinetics Corp.                   \u001b[0m\u001b[1m \u001b[0m \u001b[1m \u001b[0m\u001b[1m1761696\u001b[0m\u001b[1m \u001b[0m \u001b[1;38;5;39m \u001b[0m\u001b[1;38;5;39m2024-04-01 \u001b[0m\u001b[1;38;5;39m \u001b[0m \u001b[1m \u001b[0m\u001b[1m0001213900-24-028775\u001b[0m\u001b[1m \u001b[0m  │\n",
       "│   19  \u001b[38;5;71m \u001b[0m\u001b[38;5;71m10-K  \u001b[0m\u001b[38;5;71m \u001b[0m  Xtant Medical Holdings, Inc.                     1453593  \u001b[38;5;39m \u001b[0m\u001b[38;5;39m2024-04-01 \u001b[0m\u001b[38;5;39m \u001b[0m  0001493152-24-012145   │\n",
       "│  \u001b[1m \u001b[0m\u001b[1m20\u001b[0m\u001b[1m \u001b[0m \u001b[1;38;5;71m \u001b[0m\u001b[1;38;5;71m10-K  \u001b[0m\u001b[1;38;5;71m \u001b[0m \u001b[1m \u001b[0m\u001b[1mVersus Systems Inc.                           \u001b[0m\u001b[1m \u001b[0m \u001b[1m \u001b[0m\u001b[1m1701963\u001b[0m\u001b[1m \u001b[0m \u001b[1;38;5;39m \u001b[0m\u001b[1;38;5;39m2024-04-01 \u001b[0m\u001b[1;38;5;39m \u001b[0m \u001b[1m \u001b[0m\u001b[1m0001213900-24-028552\u001b[0m\u001b[1m \u001b[0m  │\n",
       "│   21  \u001b[38;5;71m \u001b[0m\u001b[38;5;71m10-K  \u001b[0m\u001b[38;5;71m \u001b[0m  REGIONAL HEALTH PROPERTIES, INC                  1004724  \u001b[38;5;39m \u001b[0m\u001b[38;5;39m2024-04-01 \u001b[0m\u001b[38;5;39m \u001b[0m  0000950170-24-039414   │\n",
       "│  \u001b[1m \u001b[0m\u001b[1m22\u001b[0m\u001b[1m \u001b[0m \u001b[1;38;5;71m \u001b[0m\u001b[1;38;5;71m10-K  \u001b[0m\u001b[1;38;5;71m \u001b[0m \u001b[1m \u001b[0m\u001b[1mArena Group Holdings, Inc.                    \u001b[0m\u001b[1m \u001b[0m \u001b[1m \u001b[0m\u001b[1m894871 \u001b[0m\u001b[1m \u001b[0m \u001b[1;38;5;39m \u001b[0m\u001b[1;38;5;39m2024-04-01 \u001b[0m\u001b[1;38;5;39m \u001b[0m \u001b[1m \u001b[0m\u001b[1m0001493152-24-012368\u001b[0m\u001b[1m \u001b[0m  │\n",
       "│   23  \u001b[38;5;71m \u001b[0m\u001b[38;5;71m10-K  \u001b[0m\u001b[38;5;71m \u001b[0m  Horizon Space Acquisition I Corp.                1946021  \u001b[38;5;39m \u001b[0m\u001b[38;5;39m2024-04-01 \u001b[0m\u001b[38;5;39m \u001b[0m  0001929980-24-000075   │\n",
       "│  \u001b[1m \u001b[0m\u001b[1m24\u001b[0m\u001b[1m \u001b[0m \u001b[1;38;5;71m \u001b[0m\u001b[1;38;5;71m10-K/A\u001b[0m\u001b[1;38;5;71m \u001b[0m \u001b[1m \u001b[0m\u001b[1mENGLOBAL CORP                                 \u001b[0m\u001b[1m \u001b[0m \u001b[1m \u001b[0m\u001b[1m933738 \u001b[0m\u001b[1m \u001b[0m \u001b[1;38;5;39m \u001b[0m\u001b[1;38;5;39m2024-04-01 \u001b[0m\u001b[1;38;5;39m \u001b[0m \u001b[1m \u001b[0m\u001b[1m0001654954-24-004061\u001b[0m\u001b[1m \u001b[0m  │\n",
       "│   25  \u001b[38;5;71m \u001b[0m\u001b[38;5;71m10-K  \u001b[0m\u001b[38;5;71m \u001b[0m  AQUABOUNTY TECHNOLOGIES INC                      1603978  \u001b[38;5;39m \u001b[0m\u001b[38;5;39m2024-04-01 \u001b[0m\u001b[38;5;39m \u001b[0m  0001603978-24-000013   │\n",
       "│  \u001b[1m \u001b[0m\u001b[1m26\u001b[0m\u001b[1m \u001b[0m \u001b[1;38;5;71m \u001b[0m\u001b[1;38;5;71m10-K  \u001b[0m\u001b[1;38;5;71m \u001b[0m \u001b[1m \u001b[0m\u001b[1mLifeloc Technologies, Inc                     \u001b[0m\u001b[1m \u001b[0m \u001b[1m \u001b[0m\u001b[1m1493137\u001b[0m\u001b[1m \u001b[0m \u001b[1;38;5;39m \u001b[0m\u001b[1;38;5;39m2024-04-01 \u001b[0m\u001b[1;38;5;39m \u001b[0m \u001b[1m \u001b[0m\u001b[1m0001079973-24-000474\u001b[0m\u001b[1m \u001b[0m  │\n",
       "│   27  \u001b[38;5;71m \u001b[0m\u001b[38;5;71m10-K  \u001b[0m\u001b[38;5;71m \u001b[0m  LENDWAY, INC.                                    875355   \u001b[38;5;39m \u001b[0m\u001b[38;5;39m2024-04-01 \u001b[0m\u001b[38;5;39m \u001b[0m  0001654954-24-004013   │\n",
       "│  \u001b[1m \u001b[0m\u001b[1m28\u001b[0m\u001b[1m \u001b[0m \u001b[1;38;5;71m \u001b[0m\u001b[1;38;5;71m10-K/A\u001b[0m\u001b[1;38;5;71m \u001b[0m \u001b[1m \u001b[0m\u001b[1mCellectar Biosciences, Inc.                   \u001b[0m\u001b[1m \u001b[0m \u001b[1m \u001b[0m\u001b[1m1279704\u001b[0m\u001b[1m \u001b[0m \u001b[1;38;5;39m \u001b[0m\u001b[1;38;5;39m2024-04-01 \u001b[0m\u001b[1;38;5;39m \u001b[0m \u001b[1m \u001b[0m\u001b[1m0001104659-24-041930\u001b[0m\u001b[1m \u001b[0m  │\n",
       "│   29  \u001b[38;5;71m \u001b[0m\u001b[38;5;71m10-K  \u001b[0m\u001b[38;5;71m \u001b[0m  Saker Aviation Services, Inc.                    1128281  \u001b[38;5;39m \u001b[0m\u001b[38;5;39m2024-04-01 \u001b[0m\u001b[38;5;39m \u001b[0m  0001437749-24-010272   │\n",
       "│  \u001b[1m \u001b[0m\u001b[1m30\u001b[0m\u001b[1m \u001b[0m \u001b[1;38;5;71m \u001b[0m\u001b[1;38;5;71m10-K  \u001b[0m\u001b[1;38;5;71m \u001b[0m \u001b[1m \u001b[0m\u001b[1mMediaco Holding Inc.                          \u001b[0m\u001b[1m \u001b[0m \u001b[1m \u001b[0m\u001b[1m1784254\u001b[0m\u001b[1m \u001b[0m \u001b[1;38;5;39m \u001b[0m\u001b[1;38;5;39m2024-04-01 \u001b[0m\u001b[1;38;5;39m \u001b[0m \u001b[1m \u001b[0m\u001b[1m0001784254-24-000003\u001b[0m\u001b[1m \u001b[0m  │\n",
       "│   31  \u001b[38;5;71m \u001b[0m\u001b[38;5;71m10-K  \u001b[0m\u001b[38;5;71m \u001b[0m  INTERPACE BIOSCIENCES, INC.                      1054102  \u001b[38;5;39m \u001b[0m\u001b[38;5;39m2024-04-01 \u001b[0m\u001b[38;5;39m \u001b[0m  0001493152-24-012464   │\n",
       "│  \u001b[1m \u001b[0m\u001b[1m32\u001b[0m\u001b[1m \u001b[0m \u001b[1;38;5;71m \u001b[0m\u001b[1;38;5;71m10-K  \u001b[0m\u001b[1;38;5;71m \u001b[0m \u001b[1m \u001b[0m\u001b[1mDominari Holdings Inc.                        \u001b[0m\u001b[1m \u001b[0m \u001b[1m \u001b[0m\u001b[1m12239  \u001b[0m\u001b[1m \u001b[0m \u001b[1;38;5;39m \u001b[0m\u001b[1;38;5;39m2024-04-01 \u001b[0m\u001b[1;38;5;39m \u001b[0m \u001b[1m \u001b[0m\u001b[1m0001213900-24-028218\u001b[0m\u001b[1m \u001b[0m  │\n",
       "│   33  \u001b[38;5;71m \u001b[0m\u001b[38;5;71m10-K  \u001b[0m\u001b[38;5;71m \u001b[0m  Sachem Capital Corp.                             1682220  \u001b[38;5;39m \u001b[0m\u001b[38;5;39m2024-04-01 \u001b[0m\u001b[38;5;39m \u001b[0m  0001410578-24-000381   │\n",
       "│  \u001b[1m \u001b[0m\u001b[1m34\u001b[0m\u001b[1m \u001b[0m \u001b[1;38;5;71m \u001b[0m\u001b[1;38;5;71m10-K  \u001b[0m\u001b[1;38;5;71m \u001b[0m \u001b[1m \u001b[0m\u001b[1mFULLNET COMMUNICATIONS INC                    \u001b[0m\u001b[1m \u001b[0m \u001b[1m \u001b[0m\u001b[1m1092570\u001b[0m\u001b[1m \u001b[0m \u001b[1;38;5;39m \u001b[0m\u001b[1;38;5;39m2024-04-01 \u001b[0m\u001b[1;38;5;39m \u001b[0m \u001b[1m \u001b[0m\u001b[1m0001376474-24-000151\u001b[0m\u001b[1m \u001b[0m  │\n",
       "│   35  \u001b[38;5;71m \u001b[0m\u001b[38;5;71m10-K  \u001b[0m\u001b[38;5;71m \u001b[0m  HealthLynked Corp                                1680139  \u001b[38;5;39m \u001b[0m\u001b[38;5;39m2024-04-01 \u001b[0m\u001b[38;5;39m \u001b[0m  0001213900-24-028696   │\n",
       "│  \u001b[1m \u001b[0m\u001b[1m36\u001b[0m\u001b[1m \u001b[0m \u001b[1;38;5;71m \u001b[0m\u001b[1;38;5;71m10-K  \u001b[0m\u001b[1;38;5;71m \u001b[0m \u001b[1m \u001b[0m\u001b[1mEzFill Holdings Inc                           \u001b[0m\u001b[1m \u001b[0m \u001b[1m \u001b[0m\u001b[1m1817004\u001b[0m\u001b[1m \u001b[0m \u001b[1;38;5;39m \u001b[0m\u001b[1;38;5;39m2024-04-01 \u001b[0m\u001b[1;38;5;39m \u001b[0m \u001b[1m \u001b[0m\u001b[1m0001493152-24-012378\u001b[0m\u001b[1m \u001b[0m  │\n",
       "│   37  \u001b[38;5;71m \u001b[0m\u001b[38;5;71m10-K  \u001b[0m\u001b[38;5;71m \u001b[0m  Quantum Computing Inc.                           1758009  \u001b[38;5;39m \u001b[0m\u001b[38;5;39m2024-04-01 \u001b[0m\u001b[38;5;39m \u001b[0m  0001213900-24-028799   │\n",
       "│  \u001b[1m \u001b[0m\u001b[1m38\u001b[0m\u001b[1m \u001b[0m \u001b[1;38;5;71m \u001b[0m\u001b[1;38;5;71m10-K  \u001b[0m\u001b[1;38;5;71m \u001b[0m \u001b[1m \u001b[0m\u001b[1mNew York REIT Liquidating LLC                 \u001b[0m\u001b[1m \u001b[0m \u001b[1m \u001b[0m\u001b[1m1474464\u001b[0m\u001b[1m \u001b[0m \u001b[1;38;5;39m \u001b[0m\u001b[1;38;5;39m2024-04-01 \u001b[0m\u001b[1;38;5;39m \u001b[0m \u001b[1m \u001b[0m\u001b[1m0000950170-24-039443\u001b[0m\u001b[1m \u001b[0m  │\n",
       "│   39  \u001b[38;5;71m \u001b[0m\u001b[38;5;71m10-K  \u001b[0m\u001b[38;5;71m \u001b[0m  Compass Digital Acquisition Corp.                1851909  \u001b[38;5;39m \u001b[0m\u001b[38;5;39m2024-04-01 \u001b[0m\u001b[38;5;39m \u001b[0m  0001493152-24-012485   │\n",
       "│  \u001b[1m \u001b[0m\u001b[1m40\u001b[0m\u001b[1m \u001b[0m \u001b[1;38;5;71m \u001b[0m\u001b[1;38;5;71m10-K  \u001b[0m\u001b[1;38;5;71m \u001b[0m \u001b[1m \u001b[0m\u001b[1mSOBR Safe, Inc.                               \u001b[0m\u001b[1m \u001b[0m \u001b[1m \u001b[0m\u001b[1m1425627\u001b[0m\u001b[1m \u001b[0m \u001b[1;38;5;39m \u001b[0m\u001b[1;38;5;39m2024-04-01 \u001b[0m\u001b[1;38;5;39m \u001b[0m \u001b[1m \u001b[0m\u001b[1m0001477932-24-001629\u001b[0m\u001b[1m \u001b[0m  │\n",
       "│   41  \u001b[38;5;71m \u001b[0m\u001b[38;5;71m10-K  \u001b[0m\u001b[38;5;71m \u001b[0m  AB Commercial Real Estate Private Debt Fund,     1876255  \u001b[38;5;39m \u001b[0m\u001b[38;5;39m2024-04-01 \u001b[0m\u001b[38;5;39m \u001b[0m  0001193125-24-083290   │\n",
       "│       \u001b[38;5;71m        \u001b[0m  LLC                                                       \u001b[38;5;39m             \u001b[0m                         │\n",
       "│  \u001b[1m \u001b[0m\u001b[1m42\u001b[0m\u001b[1m \u001b[0m \u001b[1;38;5;71m \u001b[0m\u001b[1;38;5;71m10-K  \u001b[0m\u001b[1;38;5;71m \u001b[0m \u001b[1m \u001b[0m\u001b[1mCITIGROUP COMMERCIAL MORTGAGE TRUST 2017-B1   \u001b[0m\u001b[1m \u001b[0m \u001b[1m \u001b[0m\u001b[1m1713393\u001b[0m\u001b[1m \u001b[0m \u001b[1;38;5;39m \u001b[0m\u001b[1;38;5;39m2024-04-01 \u001b[0m\u001b[1;38;5;39m \u001b[0m \u001b[1m \u001b[0m\u001b[1m0000950170-24-038796\u001b[0m\u001b[1m \u001b[0m  │\n",
       "│   43  \u001b[38;5;71m \u001b[0m\u001b[38;5;71m10-K  \u001b[0m\u001b[38;5;71m \u001b[0m  OMNIQ Corp.                                      278165   \u001b[38;5;39m \u001b[0m\u001b[38;5;39m2024-04-01 \u001b[0m\u001b[38;5;39m \u001b[0m  0001493152-24-012457   │\n",
       "│  \u001b[1m \u001b[0m\u001b[1m44\u001b[0m\u001b[1m \u001b[0m \u001b[1;38;5;71m \u001b[0m\u001b[1;38;5;71m10-K  \u001b[0m\u001b[1;38;5;71m \u001b[0m \u001b[1m \u001b[0m\u001b[1mJet.AI Inc.                                   \u001b[0m\u001b[1m \u001b[0m \u001b[1m \u001b[0m\u001b[1m1861622\u001b[0m\u001b[1m \u001b[0m \u001b[1;38;5;39m \u001b[0m\u001b[1;38;5;39m2024-04-01 \u001b[0m\u001b[1;38;5;39m \u001b[0m \u001b[1m \u001b[0m\u001b[1m0001493152-24-012382\u001b[0m\u001b[1m \u001b[0m  │\n",
       "│   45  \u001b[38;5;71m \u001b[0m\u001b[38;5;71m10-K  \u001b[0m\u001b[38;5;71m \u001b[0m  Freeze Tag, Inc.                                 1485074  \u001b[38;5;39m \u001b[0m\u001b[38;5;39m2024-04-01 \u001b[0m\u001b[38;5;39m \u001b[0m  0001477932-24-001717   │\n",
       "│  \u001b[1m \u001b[0m\u001b[1m46\u001b[0m\u001b[1m \u001b[0m \u001b[1;38;5;71m \u001b[0m\u001b[1;38;5;71m10-K  \u001b[0m\u001b[1;38;5;71m \u001b[0m \u001b[1m \u001b[0m\u001b[1mCHESAPEAKE GRANITE WASH TRUST                 \u001b[0m\u001b[1m \u001b[0m \u001b[1m \u001b[0m\u001b[1m1524769\u001b[0m\u001b[1m \u001b[0m \u001b[1;38;5;39m \u001b[0m\u001b[1;38;5;39m2024-04-01 \u001b[0m\u001b[1;38;5;39m \u001b[0m \u001b[1m \u001b[0m\u001b[1m0001524769-24-000005\u001b[0m\u001b[1m \u001b[0m  │\n",
       "│   47  \u001b[38;5;71m \u001b[0m\u001b[38;5;71m10-K  \u001b[0m\u001b[38;5;71m \u001b[0m  Kraig Biocraft Laboratories, Inc                 1413119  \u001b[38;5;39m \u001b[0m\u001b[38;5;39m2024-04-01 \u001b[0m\u001b[38;5;39m \u001b[0m  0001493152-24-012404   │\n",
       "│  \u001b[1m \u001b[0m\u001b[1m48\u001b[0m\u001b[1m \u001b[0m \u001b[1;38;5;71m \u001b[0m\u001b[1;38;5;71m10-K  \u001b[0m\u001b[1;38;5;71m \u001b[0m \u001b[1m \u001b[0m\u001b[1mTREVENA INC                                   \u001b[0m\u001b[1m \u001b[0m \u001b[1m \u001b[0m\u001b[1m1429560\u001b[0m\u001b[1m \u001b[0m \u001b[1;38;5;39m \u001b[0m\u001b[1;38;5;39m2024-04-01 \u001b[0m\u001b[1;38;5;39m \u001b[0m \u001b[1m \u001b[0m\u001b[1m0001558370-24-004445\u001b[0m\u001b[1m \u001b[0m  │\n",
       "│   49  \u001b[38;5;71m \u001b[0m\u001b[38;5;71m10-K  \u001b[0m\u001b[38;5;71m \u001b[0m  NIKA PHARMACEUTICALS, INC                        1145604  \u001b[38;5;39m \u001b[0m\u001b[38;5;39m2024-04-01 \u001b[0m\u001b[38;5;39m \u001b[0m  0001826466-24-000041   │\n",
       "│                                                                                                                 │\n",
       "│ Showing 50 of 50 filings                                                                                        │\n",
       "╰─────────────────────────────────────────────────────────────────────────────────────────────────────────────────╯"
      ]
     },
     "execution_count": 13,
     "metadata": {},
     "output_type": "execute_result"
    }
   ],
   "source": [
    "filings.sample(50)"
   ]
  }
 ],
 "metadata": {
  "kernelspec": {
   "display_name": "Python 3 (ipykernel)",
   "language": "python",
   "name": "python3"
  },
  "language_info": {
   "codemirror_mode": {
    "name": "ipython",
    "version": 3
   },
   "file_extension": ".py",
   "mimetype": "text/x-python",
   "name": "python",
   "nbconvert_exporter": "python",
   "pygments_lexer": "ipython3",
   "version": "3.12.2"
  }
 },
 "nbformat": 4,
 "nbformat_minor": 5
}
