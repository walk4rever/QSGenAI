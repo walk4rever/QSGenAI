{
 "cells": [
  {
   "cell_type": "markdown",
   "id": "f91b9a6c-83b3-4b50-8e47-eff28e640f9b",
   "metadata": {},
   "source": [
    "* edgartools is one of the nicest looking EDGAR libraries out there. It is also powerful and easy to use. You can query, filter and select any filing since 1994 and view the filing's html, text, xml or structured data."
   ]
  },
  {
   "cell_type": "code",
   "execution_count": 2,
   "id": "d15a2b00-8a12-46a9-b7ee-3b38a701bc7b",
   "metadata": {},
   "outputs": [
    {
     "name": "stdout",
     "output_type": "stream",
     "text": [
      "Requirement already satisfied: edgartools in /Users/yfzhu/opt/anaconda3/envs/py312/lib/python3.12/site-packages (2.16.1)\n",
      "Requirement already satisfied: beautifulsoup4>=4.10.0 in /Users/yfzhu/opt/anaconda3/envs/py312/lib/python3.12/site-packages (from edgartools) (4.12.3)\n",
      "Requirement already satisfied: charset-normalizer>=2.1.1 in /Users/yfzhu/opt/anaconda3/envs/py312/lib/python3.12/site-packages (from edgartools) (3.3.2)\n",
      "Requirement already satisfied: fastcore>=1.5.29 in /Users/yfzhu/opt/anaconda3/envs/py312/lib/python3.12/site-packages (from edgartools) (1.5.29)\n",
      "Requirement already satisfied: httpx>=0.25.0 in /Users/yfzhu/opt/anaconda3/envs/py312/lib/python3.12/site-packages (from edgartools) (0.27.0)\n",
      "Requirement already satisfied: humanize>=4.0.0 in /Users/yfzhu/opt/anaconda3/envs/py312/lib/python3.12/site-packages (from edgartools) (4.9.0)\n",
      "Requirement already satisfied: lxml>=4.4 in /Users/yfzhu/opt/anaconda3/envs/py312/lib/python3.12/site-packages (from edgartools) (5.1.0)\n",
      "Requirement already satisfied: markdownify>0.11.0 in /Users/yfzhu/opt/anaconda3/envs/py312/lib/python3.12/site-packages (from edgartools) (0.12.1)\n",
      "Requirement already satisfied: pandas>=2.0.0 in /Users/yfzhu/opt/anaconda3/envs/py312/lib/python3.12/site-packages (from edgartools) (2.1.2)\n",
      "Requirement already satisfied: pyarrow>=14.0.0 in /Users/yfzhu/opt/anaconda3/envs/py312/lib/python3.12/site-packages (from edgartools) (15.0.2)\n",
      "Requirement already satisfied: pydantic>=2.0.0 in /Users/yfzhu/opt/anaconda3/envs/py312/lib/python3.12/site-packages (from edgartools) (2.6.4)\n",
      "Requirement already satisfied: rank-bm25==0.2.1 in /Users/yfzhu/opt/anaconda3/envs/py312/lib/python3.12/site-packages (from edgartools) (0.2.1)\n",
      "Requirement already satisfied: retry>=0.9.2 in /Users/yfzhu/opt/anaconda3/envs/py312/lib/python3.12/site-packages (from edgartools) (0.9.2)\n",
      "Requirement already satisfied: rich>=13.0.0 in /Users/yfzhu/opt/anaconda3/envs/py312/lib/python3.12/site-packages (from edgartools) (13.7.1)\n",
      "Requirement already satisfied: textdistance>=4.5.0 in /Users/yfzhu/opt/anaconda3/envs/py312/lib/python3.12/site-packages (from edgartools) (4.6.1)\n",
      "Requirement already satisfied: numpy in /Users/yfzhu/opt/anaconda3/envs/py312/lib/python3.12/site-packages (from rank-bm25==0.2.1->edgartools) (1.26.1)\n",
      "Requirement already satisfied: soupsieve>1.2 in /Users/yfzhu/opt/anaconda3/envs/py312/lib/python3.12/site-packages (from beautifulsoup4>=4.10.0->edgartools) (2.5)\n",
      "Requirement already satisfied: pip in /Users/yfzhu/opt/anaconda3/envs/py312/lib/python3.12/site-packages (from fastcore>=1.5.29->edgartools) (23.3.1)\n",
      "Requirement already satisfied: packaging in /Users/yfzhu/opt/anaconda3/envs/py312/lib/python3.12/site-packages (from fastcore>=1.5.29->edgartools) (23.2)\n",
      "Requirement already satisfied: anyio in /Users/yfzhu/opt/anaconda3/envs/py312/lib/python3.12/site-packages (from httpx>=0.25.0->edgartools) (4.3.0)\n",
      "Requirement already satisfied: certifi in /Users/yfzhu/opt/anaconda3/envs/py312/lib/python3.12/site-packages (from httpx>=0.25.0->edgartools) (2024.2.2)\n",
      "Requirement already satisfied: httpcore==1.* in /Users/yfzhu/opt/anaconda3/envs/py312/lib/python3.12/site-packages (from httpx>=0.25.0->edgartools) (1.0.4)\n",
      "Requirement already satisfied: idna in /Users/yfzhu/opt/anaconda3/envs/py312/lib/python3.12/site-packages (from httpx>=0.25.0->edgartools) (3.6)\n",
      "Requirement already satisfied: sniffio in /Users/yfzhu/opt/anaconda3/envs/py312/lib/python3.12/site-packages (from httpx>=0.25.0->edgartools) (1.3.1)\n",
      "Requirement already satisfied: h11<0.15,>=0.13 in /Users/yfzhu/opt/anaconda3/envs/py312/lib/python3.12/site-packages (from httpcore==1.*->httpx>=0.25.0->edgartools) (0.14.0)\n",
      "Requirement already satisfied: six<2,>=1.15 in /Users/yfzhu/opt/anaconda3/envs/py312/lib/python3.12/site-packages (from markdownify>0.11.0->edgartools) (1.16.0)\n",
      "Requirement already satisfied: python-dateutil>=2.8.2 in /Users/yfzhu/opt/anaconda3/envs/py312/lib/python3.12/site-packages (from pandas>=2.0.0->edgartools) (2.9.0.post0)\n",
      "Requirement already satisfied: pytz>=2020.1 in /Users/yfzhu/opt/anaconda3/envs/py312/lib/python3.12/site-packages (from pandas>=2.0.0->edgartools) (2024.1)\n",
      "Requirement already satisfied: tzdata>=2022.1 in /Users/yfzhu/opt/anaconda3/envs/py312/lib/python3.12/site-packages (from pandas>=2.0.0->edgartools) (2024.1)\n",
      "Requirement already satisfied: annotated-types>=0.4.0 in /Users/yfzhu/opt/anaconda3/envs/py312/lib/python3.12/site-packages (from pydantic>=2.0.0->edgartools) (0.6.0)\n",
      "Requirement already satisfied: pydantic-core==2.16.3 in /Users/yfzhu/opt/anaconda3/envs/py312/lib/python3.12/site-packages (from pydantic>=2.0.0->edgartools) (2.16.3)\n",
      "Requirement already satisfied: typing-extensions>=4.6.1 in /Users/yfzhu/opt/anaconda3/envs/py312/lib/python3.12/site-packages (from pydantic>=2.0.0->edgartools) (4.10.0)\n",
      "Requirement already satisfied: decorator>=3.4.2 in /Users/yfzhu/opt/anaconda3/envs/py312/lib/python3.12/site-packages (from retry>=0.9.2->edgartools) (5.1.1)\n",
      "Requirement already satisfied: py<2.0.0,>=1.4.26 in /Users/yfzhu/opt/anaconda3/envs/py312/lib/python3.12/site-packages (from retry>=0.9.2->edgartools) (1.11.0)\n",
      "Requirement already satisfied: markdown-it-py>=2.2.0 in /Users/yfzhu/opt/anaconda3/envs/py312/lib/python3.12/site-packages (from rich>=13.0.0->edgartools) (3.0.0)\n",
      "Requirement already satisfied: pygments<3.0.0,>=2.13.0 in /Users/yfzhu/opt/anaconda3/envs/py312/lib/python3.12/site-packages (from rich>=13.0.0->edgartools) (2.17.2)\n",
      "Requirement already satisfied: mdurl~=0.1 in /Users/yfzhu/opt/anaconda3/envs/py312/lib/python3.12/site-packages (from markdown-it-py>=2.2.0->rich>=13.0.0->edgartools) (0.1.2)\n"
     ]
    }
   ],
   "source": [
    "!pip install edgartools"
   ]
  },
  {
   "cell_type": "code",
   "execution_count": 2,
   "id": "53c3e185-9e24-448c-9878-d4517a3e52bc",
   "metadata": {},
   "outputs": [
    {
     "data": {
      "text/html": [
       "<pre style=\"white-space:pre;overflow-x:auto;line-height:normal;font-family:Menlo,'DejaVu Sans Mono',consolas,'Courier New',monospace\"><span style=\"color: #7fbfbf; text-decoration-color: #7fbfbf\">[21:23:24] </span><span style=\"color: #000080; text-decoration-color: #000080\">INFO    </span> Identity of the Edgar REST client set to <span style=\"font-weight: bold\">[</span>Rafael ZHU walkklaw@gmail.com<span style=\"font-weight: bold\">]</span>            <a href=\"file:///Users/yfzhu/opt/anaconda3/envs/py312/lib/python3.12/site-packages/edgar/core.py\" target=\"_blank\"><span style=\"color: #7f7f7f; text-decoration-color: #7f7f7f\">core.py</span></a><span style=\"color: #7f7f7f; text-decoration-color: #7f7f7f\">:</span><a href=\"file:///Users/yfzhu/opt/anaconda3/envs/py312/lib/python3.12/site-packages/edgar/core.py#154\" target=\"_blank\"><span style=\"color: #7f7f7f; text-decoration-color: #7f7f7f\">154</span></a>\n",
       "</pre>\n"
      ],
      "text/plain": [
       "\u001b[2;36m[21:23:24]\u001b[0m\u001b[2;36m \u001b[0m\u001b[34mINFO    \u001b[0m Identity of the Edgar REST client set to \u001b[1m[\u001b[0mRafael ZHU walkklaw@gmail.com\u001b[1m]\u001b[0m            \u001b]8;id=480894;file:///Users/yfzhu/opt/anaconda3/envs/py312/lib/python3.12/site-packages/edgar/core.py\u001b\\\u001b[2mcore.py\u001b[0m\u001b]8;;\u001b\\\u001b[2m:\u001b[0m\u001b]8;id=973173;file:///Users/yfzhu/opt/anaconda3/envs/py312/lib/python3.12/site-packages/edgar/core.py#154\u001b\\\u001b[2m154\u001b[0m\u001b]8;;\u001b\\\n"
      ]
     },
     "metadata": {},
     "output_type": "display_data"
    }
   ],
   "source": [
    "from edgar import *\n",
    "\n",
    "# Tell the SEC who you are\n",
    "\n",
    "set_identity(\"Rafael ZHU walkklaw@gmail.com\")"
   ]
  },
  {
   "cell_type": "code",
   "execution_count": 36,
   "id": "85c5f76c-87b0-4052-a56e-8613ca0e3c45",
   "metadata": {},
   "outputs": [],
   "source": [
    "amzn = Company(\"AMZN\")"
   ]
  },
  {
   "cell_type": "code",
   "execution_count": 33,
   "id": "e22e26e6-78a0-41fe-89e7-555cdf3c5fee",
   "metadata": {},
   "outputs": [
    {
     "data": {
      "text/html": [
       "<pre style=\"white-space:pre;overflow-x:auto;line-height:normal;font-family:Menlo,'DejaVu Sans Mono',consolas,'Courier New',monospace\"></pre>\n"
      ],
      "text/plain": []
     },
     "metadata": {},
     "output_type": "display_data"
    },
    {
     "data": {
      "text/plain": [
       "╭──────────────────────── 13F-HR Holding Report for AMAZON COM INC for period 2023-12-31 ─────────────────────────╮\n",
       "│                                                                                                                 │\n",
       "│  \u001b[1m               \u001b[0m \u001b[1m \u001b[0m\u001b[1mInvestment     \u001b[0m\u001b[1m \u001b[0m \u001b[1m                 \u001b[0m \u001b[1m          \u001b[0m \u001b[1m                \u001b[0m \u001b[1m \u001b[0m\u001b[1mAccession     \u001b[0m\u001b[1m \u001b[0m \u001b[1m            \u001b[0m  │\n",
       "│  \u001b[1m \u001b[0m\u001b[1mReport Period\u001b[0m\u001b[1m \u001b[0m \u001b[1m \u001b[0m\u001b[1mManager        \u001b[0m\u001b[1m \u001b[0m \u001b[1m \u001b[0m\u001b[1mSigned By      \u001b[0m\u001b[1m \u001b[0m \u001b[1m \u001b[0m\u001b[1mHoldings\u001b[0m\u001b[1m \u001b[0m \u001b[1m \u001b[0m\u001b[1mValue         \u001b[0m\u001b[1m \u001b[0m \u001b[1m \u001b[0m\u001b[1mNumber        \u001b[0m\u001b[1m \u001b[0m \u001b[1m \u001b[0m\u001b[1mFiled     \u001b[0m\u001b[1m \u001b[0m  │\n",
       "│  ─────────────────────────────────────────────────────────────────────────────────────────────────────────────  │\n",
       "│   2023-12-31     \u001b[1;38;5;39m \u001b[0m\u001b[1;38;5;39mAMAZON COM INC \u001b[0m\u001b[1;38;5;39m \u001b[0m  David A.          9          $4,142,925,845   0001104659-24…   2024-01-30   │\n",
       "│                  \u001b[1;38;5;39m                 \u001b[0m  Zapolsky                                                                    │\n",
       "│                                                                                                                 │\n",
       "│                                                                                                                 │\n",
       "│  \u001b[1m \u001b[0m\u001b[1m \u001b[0m\u001b[1m \u001b[0m \u001b[1m \u001b[0m\u001b[1mIssuer           \u001b[0m\u001b[1m \u001b[0m \u001b[1m \u001b[0m\u001b[1mClass   \u001b[0m\u001b[1m \u001b[0m \u001b[1m \u001b[0m\u001b[1mCusip    \u001b[0m\u001b[1m \u001b[0m \u001b[1m \u001b[0m\u001b[1mTicker\u001b[0m\u001b[1m \u001b[0m \u001b[1m \u001b[0m\u001b[1mValue         \u001b[0m\u001b[1m \u001b[0m \u001b[1m \u001b[0m\u001b[1mType  \u001b[0m\u001b[1m \u001b[0m \u001b[1m \u001b[0m\u001b[1mShares     \u001b[0m\u001b[1m \u001b[0m \u001b[1m \u001b[0m\u001b[1mVoting     \u001b[0m\u001b[1m \u001b[0m  │\n",
       "│  ─────────────────────────────────────────────────────────────────────────────────────────────────────────────  │\n",
       "│  \u001b[1m \u001b[0m\u001b[1m0\u001b[0m\u001b[1m \u001b[0m \u001b[1m \u001b[0m\u001b[1mRIVIAN AUTOMOTIVE\u001b[0m\u001b[1m \u001b[0m \u001b[1m \u001b[0m\u001b[1mCOM CL A\u001b[0m\u001b[1m \u001b[0m \u001b[1m \u001b[0m\u001b[1m76954A103\u001b[0m\u001b[1m \u001b[0m \u001b[1m \u001b[0m\u001b[1mRIVN  \u001b[0m\u001b[1m \u001b[0m \u001b[1m \u001b[0m\u001b[1m$3,715,215,546\u001b[0m\u001b[1m \u001b[0m \u001b[1m \u001b[0m\u001b[1mShares\u001b[0m\u001b[1m \u001b[0m \u001b[1m \u001b[0m\u001b[1m158,363,834\u001b[0m\u001b[1m \u001b[0m \u001b[1m \u001b[0m\u001b[1m158,363,834\u001b[0m\u001b[1m \u001b[0m  │\n",
       "│  \u001b[1m   \u001b[0m \u001b[1m \u001b[0m\u001b[1mINC              \u001b[0m\u001b[1m \u001b[0m \u001b[1m          \u001b[0m \u001b[1m           \u001b[0m \u001b[1m        \u001b[0m \u001b[1m                \u001b[0m \u001b[1m        \u001b[0m \u001b[1m             \u001b[0m \u001b[1m             \u001b[0m  │\n",
       "│   1   AIR TRANSPORT       COM        00922R105   ATSG     $224,376,846     Shares   12,741,445    12,741,445    │\n",
       "│       SERVICES GRP I                                                                                            │\n",
       "│  \u001b[1m \u001b[0m\u001b[1m2\u001b[0m\u001b[1m \u001b[0m \u001b[1m \u001b[0m\u001b[1mTWILIO INC       \u001b[0m\u001b[1m \u001b[0m \u001b[1m \u001b[0m\u001b[1mCL A    \u001b[0m\u001b[1m \u001b[0m \u001b[1m \u001b[0m\u001b[1m90138F102\u001b[0m\u001b[1m \u001b[0m \u001b[1m \u001b[0m\u001b[1mTWLO  \u001b[0m\u001b[1m \u001b[0m \u001b[1m \u001b[0m\u001b[1m$134,164,411  \u001b[0m\u001b[1m \u001b[0m \u001b[1m \u001b[0m\u001b[1mShares\u001b[0m\u001b[1m \u001b[0m \u001b[1m \u001b[0m\u001b[1m1,768,346  \u001b[0m\u001b[1m \u001b[0m \u001b[1m \u001b[0m\u001b[1m1,768,346  \u001b[0m\u001b[1m \u001b[0m  │\n",
       "│   3   VITAL FARMS INC     COM        92847W103   VITL     $25,154,679      Shares   1,603,230     0             │\n",
       "│  \u001b[1m \u001b[0m\u001b[1m4\u001b[0m\u001b[1m \u001b[0m \u001b[1m \u001b[0m\u001b[1mIONQ INC         \u001b[0m\u001b[1m \u001b[0m \u001b[1m \u001b[0m\u001b[1mCOM     \u001b[0m\u001b[1m \u001b[0m \u001b[1m \u001b[0m\u001b[1m46222L108\u001b[0m\u001b[1m \u001b[0m \u001b[1m \u001b[0m\u001b[1mIONQ  \u001b[0m\u001b[1m \u001b[0m \u001b[1m \u001b[0m\u001b[1m$23,876,286   \u001b[0m\u001b[1m \u001b[0m \u001b[1m \u001b[0m\u001b[1mShares\u001b[0m\u001b[1m \u001b[0m \u001b[1m \u001b[0m\u001b[1m1,927,061  \u001b[0m\u001b[1m \u001b[0m \u001b[1m \u001b[0m\u001b[1m1,927,061  \u001b[0m\u001b[1m \u001b[0m  │\n",
       "│   5   MARVELL             COM        573874104   MRVL     $13,595,563      Shares   225,428       225,428       │\n",
       "│       TECHNOLOGY INC                                                                                            │\n",
       "│  \u001b[1m \u001b[0m\u001b[1m6\u001b[0m\u001b[1m \u001b[0m \u001b[1m \u001b[0m\u001b[1mNAUTILUS         \u001b[0m\u001b[1m \u001b[0m \u001b[1m \u001b[0m\u001b[1mCOM     \u001b[0m\u001b[1m \u001b[0m \u001b[1m \u001b[0m\u001b[1m63909J108\u001b[0m\u001b[1m \u001b[0m \u001b[1m \u001b[0m\u001b[1mNAUT  \u001b[0m\u001b[1m \u001b[0m \u001b[1m \u001b[0m\u001b[1m$4,356,594    \u001b[0m\u001b[1m \u001b[0m \u001b[1m \u001b[0m\u001b[1mShares\u001b[0m\u001b[1m \u001b[0m \u001b[1m \u001b[0m\u001b[1m1,457,055  \u001b[0m\u001b[1m \u001b[0m \u001b[1m \u001b[0m\u001b[1m1,457,055  \u001b[0m\u001b[1m \u001b[0m  │\n",
       "│  \u001b[1m   \u001b[0m \u001b[1m \u001b[0m\u001b[1mBIOTECHNOLOGY INC\u001b[0m\u001b[1m \u001b[0m \u001b[1m          \u001b[0m \u001b[1m           \u001b[0m \u001b[1m        \u001b[0m \u001b[1m                \u001b[0m \u001b[1m        \u001b[0m \u001b[1m             \u001b[0m \u001b[1m             \u001b[0m  │\n",
       "│   7   SMARTRENT INC       COM CL A   83193G107   SMRT     $1,999,789       Shares   626,893       626,893       │\n",
       "│  \u001b[1m \u001b[0m\u001b[1m8\u001b[0m\u001b[1m \u001b[0m \u001b[1m \u001b[0m\u001b[1mOWLET INC        \u001b[0m\u001b[1m \u001b[0m \u001b[1m \u001b[0m\u001b[1mCL A NEW\u001b[0m\u001b[1m \u001b[0m \u001b[1m \u001b[0m\u001b[1m69120X206\u001b[0m\u001b[1m \u001b[0m \u001b[1m \u001b[0m\u001b[1mOWLT  \u001b[0m\u001b[1m \u001b[0m \u001b[1m \u001b[0m\u001b[1m$186,131      \u001b[0m\u001b[1m \u001b[0m \u001b[1m \u001b[0m\u001b[1mShares\u001b[0m\u001b[1m \u001b[0m \u001b[1m \u001b[0m\u001b[1m35,252     \u001b[0m\u001b[1m \u001b[0m \u001b[1m \u001b[0m\u001b[1m35,252     \u001b[0m\u001b[1m \u001b[0m  │\n",
       "│                                                                                                                 │\n",
       "╰──────────────────────── 13F-HR Holding Report for AMAZON COM INC for period 2023-12-31 ─────────────────────────╯"
      ]
     },
     "execution_count": 33,
     "metadata": {},
     "output_type": "execute_result"
    }
   ],
   "source": [
    "afiles_13f= amzn.get_filings(form=\"13F-HR\")\n",
    "file = afiles_13f[0].obj()\n",
    "file"
   ]
  },
  {
   "cell_type": "code",
   "execution_count": 37,
   "id": "3eeaa398-75a1-4d57-974f-fae4f41d8a1a",
   "metadata": {},
   "outputs": [
    {
     "data": {
      "text/html": [
       "<pre style=\"white-space:pre;overflow-x:auto;line-height:normal;font-family:Menlo,'DejaVu Sans Mono',consolas,'Courier New',monospace\"></pre>\n"
      ],
      "text/plain": []
     },
     "metadata": {},
     "output_type": "display_data"
    },
    {
     "data": {
      "text/plain": [
       "╭─────────────────────────────────────── 10-K 📊 filing for MICROSOFT CORP ───────────────────────────────────────╮\n",
       "│                                                                                                                 │\n",
       "│  \u001b[1m \u001b[0m\u001b[1mAccession Number    \u001b[0m\u001b[1m \u001b[0m \u001b[1m \u001b[0m\u001b[1mFiling Date\u001b[0m\u001b[1m \u001b[0m \u001b[1m \u001b[0m\u001b[1mCompany       \u001b[0m\u001b[1m \u001b[0m \u001b[1m \u001b[0m\u001b[1mCIK   \u001b[0m\u001b[1m \u001b[0m                                                 │\n",
       "│  ──────────────────────────────────────────────────────────────                                                 │\n",
       "│  \u001b[1m \u001b[0m\u001b[1m0000950170-23-035122\u001b[0m\u001b[1m \u001b[0m  2023-07-27    MICROSOFT CORP   789019                                                  │\n",
       "│                                                                                                                 │\n",
       "│                                                                                                                 │\n",
       "│  \u001b[1m \u001b[0m\u001b[1mLinks\u001b[0m\u001b[1m: 🏠 Homepage 📄 Primary Document 📜 Full Submission Text                           \u001b[0m\u001b[1m \u001b[0m                    │\n",
       "│  ───────────────────────────────────────────────────────────────────────────────────────────                    │\n",
       "│   🏠 https://sec.gov/Archives/edgar/data/789019/0000950170-23-035122-index.html                                 │\n",
       "│   📄 https://sec.gov/Archives/edgar/data/789019/000095017023035122/msft-20230630.htm                            │\n",
       "│   📜 https://sec.gov/Archives/edgar/data/789019/000095017023035122/0000950170-23-035122.txt                     │\n",
       "│                                                                                                                 │\n",
       "╰─────────────────────────────────────────────────────────────────────────────────────────────────────────────────╯"
      ]
     },
     "execution_count": 37,
     "metadata": {},
     "output_type": "execute_result"
    }
   ],
   "source": [
    "msft = Company(\"MSFT\")\n",
    "mfiles_10k = msft.get_filings(form=\"10-K\")\n",
    "mfiles_10k[0]"
   ]
  },
  {
   "cell_type": "code",
   "execution_count": 38,
   "id": "e877c2d2-a54d-4158-aee0-b9dc45f96b49",
   "metadata": {},
   "outputs": [
    {
     "data": {
      "text/html": [
       "<pre style=\"white-space:pre;overflow-x:auto;line-height:normal;font-family:Menlo,'DejaVu Sans Mono',consolas,'Courier New',monospace\"></pre>\n"
      ],
      "text/plain": []
     },
     "metadata": {},
     "output_type": "display_data"
    },
    {
     "data": {
      "text/plain": [
       "╭─────────────────────────────────────────────────────────────────────────────────────────────────────────────────╮\n",
       "│ ╭───────────────────────────────────── 10-K 📊 filing for MICROSOFT CORP ─────────────────────────────────────╮ │\n",
       "│ │                                                                                                             │ │\n",
       "│ │  \u001b[1m \u001b[0m\u001b[1mAccession Number    \u001b[0m\u001b[1m \u001b[0m \u001b[1m \u001b[0m\u001b[1mFiling Date\u001b[0m\u001b[1m \u001b[0m \u001b[1m \u001b[0m\u001b[1mCompany       \u001b[0m\u001b[1m \u001b[0m \u001b[1m \u001b[0m\u001b[1mCIK   \u001b[0m\u001b[1m \u001b[0m                                             │ │\n",
       "│ │  ──────────────────────────────────────────────────────────────                                             │ │\n",
       "│ │  \u001b[1m \u001b[0m\u001b[1m0000950170-23-035122\u001b[0m\u001b[1m \u001b[0m  2023-07-27    MICROSOFT CORP   789019                                              │ │\n",
       "│ │                                                                                                             │ │\n",
       "│ │                                                                                                             │ │\n",
       "│ │  \u001b[1m \u001b[0m\u001b[1mLinks\u001b[0m\u001b[1m: 🏠 Homepage 📄 Primary Document 📜 Full Submission Text                           \u001b[0m\u001b[1m \u001b[0m                │ │\n",
       "│ │  ───────────────────────────────────────────────────────────────────────────────────────────                │ │\n",
       "│ │   🏠 https://sec.gov/Archives/edgar/data/789019/0000950170-23-035122-index.html                             │ │\n",
       "│ │   📄 https://sec.gov/Archives/edgar/data/789019/000095017023035122/msft-20230630.htm                        │ │\n",
       "│ │   📜 https://sec.gov/Archives/edgar/data/789019/000095017023035122/0000950170-23-035122.txt                 │ │\n",
       "│ │                                                                                                             │ │\n",
       "│ ╰─────────────────────────────────────────────────────────────────────────────────────────────────────────────╯ │\n",
       "│                                                                                                                 │\n",
       "│   \u001b[3m                         Balance Sheet                          \u001b[0m                                              │\n",
       "│                                                                                                                 │\n",
       "│    \u001b[1m \u001b[0m\u001b[1m                                          \u001b[0m\u001b[1m \u001b[0m \u001b[1m \u001b[0m\u001b[1m     2023-06-30\u001b[0m\u001b[1m \u001b[0m                                               │\n",
       "│    ━━━━━━━━━━━━━━━━━━━━━━━━━━━━━━━━━━━━━━━━━━━━━━━━━━━━━━━━━━━━━━                                               │\n",
       "│     ASSETS:                                                                                                     │\n",
       "│     CURRENT ASSETS:                                                                                             │\n",
       "│       Cash and Cash Equivalents                   34,704,000,000                                                │\n",
       "│       Short-term Investments                      76,558,000,000                                                │\n",
       "│       Other Current Assets                        21,807,000,000                                                │\n",
       "│    \u001b[1;38;5;39m \u001b[0m\u001b[1;38;5;39m  Current Assets                          \u001b[0m\u001b[1;38;5;39m \u001b[0m \u001b[1;38;5;39m \u001b[0m\u001b[1;38;5;39m184,257,000,000\u001b[0m\u001b[1;38;5;39m \u001b[0m                                               │\n",
       "│                                                                                                                 │\n",
       "│     NONCURRENT ASSETS:                                                                                          │\n",
       "│       Property, Plant and Equipment               95,641,000,000                                                │\n",
       "│       Other Noncurrent Assets                     30,601,000,000                                                │\n",
       "│    \u001b[1;38;5;39m \u001b[0m\u001b[1;38;5;39mTotal Assets                              \u001b[0m\u001b[1;38;5;39m \u001b[0m \u001b[1;38;5;39m \u001b[0m\u001b[1;38;5;39m411,976,000,000\u001b[0m\u001b[1;38;5;39m \u001b[0m                                               │\n",
       "│                                                                                                                 │\n",
       "│     LIABILITIES AND STOCKHOLDERS' EQUITY:                                                                       │\n",
       "│     CURRENT LIABILITIES:                                                                                        │\n",
       "│       Accounts Payable                            18,095,000,000                                                │\n",
       "│       Other Current Liabilities                   14,745,000,000                                                │\n",
       "│       Deferred Revenue                            50,901,000,000                                                │\n",
       "│       Term Debt                                    5,247,000,000                                                │\n",
       "│    \u001b[1;38;5;39m \u001b[0m\u001b[1;38;5;39m  Total Current Liabilities               \u001b[0m\u001b[1;38;5;39m \u001b[0m \u001b[1;38;5;39m \u001b[0m\u001b[1;38;5;39m104,149,000,000\u001b[0m\u001b[1;38;5;39m \u001b[0m                                               │\n",
       "│                                                                                                                 │\n",
       "│     NONCURRENT LIABILITIES:                                                                                     │\n",
       "│       Non-current Long Term Debt                  41,990,000,000                                                │\n",
       "│       Other Noncurrent Liabilities                17,981,000,000                                                │\n",
       "│    \u001b[1;38;5;39m \u001b[0m\u001b[1;38;5;39mTotal Liabilities                         \u001b[0m\u001b[1;38;5;39m \u001b[0m \u001b[1;38;5;39m \u001b[0m\u001b[1;38;5;39m205,753,000,000\u001b[0m\u001b[1;38;5;39m \u001b[0m                                               │\n",
       "│                                                                                                                 │\n",
       "│     STOCKHOLDERS' EQUITY:                                                                                       │\n",
       "│       Common Stock and paid-in Capital            93,718,000,000                                                │\n",
       "│       Retained Earnings                          118,848,000,000                                                │\n",
       "│       Accumulated Other Comprehensive Income      -6,343,000,000                                                │\n",
       "│    \u001b[1;38;5;39m \u001b[0m\u001b[1;38;5;39m  Total Stockholders' Equity              \u001b[0m\u001b[1;38;5;39m \u001b[0m \u001b[1;38;5;39m \u001b[0m\u001b[1;38;5;39m206,223,000,000\u001b[0m\u001b[1;38;5;39m \u001b[0m                                               │\n",
       "│                                                                                                                 │\n",
       "│    \u001b[1;38;5;39m \u001b[0m\u001b[1;38;5;39mTotal Liabilities and Stockholders' Equity\u001b[0m\u001b[1;38;5;39m \u001b[0m \u001b[1;38;5;39m \u001b[0m\u001b[1;38;5;39m411,976,000,000\u001b[0m\u001b[1;38;5;39m \u001b[0m                                               │\n",
       "│                                                                                                                 │\n",
       "│   \u001b[3m                            Cashflow Statement                             \u001b[0m                                   │\n",
       "│                                                                                                                 │\n",
       "│    \u001b[1m \u001b[0m\u001b[1m                                                     \u001b[0m\u001b[1m \u001b[0m \u001b[1m \u001b[0m\u001b[1m     2023-06-30\u001b[0m\u001b[1m \u001b[0m                                    │\n",
       "│    ━━━━━━━━━━━━━━━━━━━━━━━━━━━━━━━━━━━━━━━━━━━━━━━━━━━━━━━━━━━━━━━━━━━━━━━━━                                    │\n",
       "│     OPERATING ACTIVITIES:                                                                                       │\n",
       "│       Net Income                                             72,361,000,000                                     │\n",
       "│       Stock-based Compensation                                9,611,000,000                                     │\n",
       "│       Foreign Currency Transaction Gain/Loss                    181,000,000                                     │\n",
       "│       Changes in Other Current Assets                         1,991,000,000                                     │\n",
       "│       Changes in Accounts Payable                            -2,721,000,000                                     │\n",
       "│       Changes in Inventories                                 -1,242,000,000                                     │\n",
       "│       Changes in Deferred Revenue                             5,535,000,000                                     │\n",
       "│    \u001b[1;38;5;39m \u001b[0m\u001b[1;38;5;39m  Net Cash Provided by Operating Activities          \u001b[0m\u001b[1;38;5;39m \u001b[0m \u001b[1;38;5;39m \u001b[0m\u001b[1;38;5;39m 87,582,000,000\u001b[0m\u001b[1;38;5;39m \u001b[0m                                    │\n",
       "│                                                                                                                 │\n",
       "│     INVESTING ACTIVITIES:                                                                                       │\n",
       "│       Proceeds from Maturities of Marketable Securities      33,510,000,000                                     │\n",
       "│       Purchases of Property, Plant and Equipment             28,107,000,000                                     │\n",
       "│       Payments to Acquire Investments                        37,651,000,000                                     │\n",
       "│       Deferred Revenue                                        5,535,000,000                                     │\n",
       "│       Other Investing Activities                              3,116,000,000                                     │\n",
       "│    \u001b[1;38;5;39m \u001b[0m\u001b[1;38;5;39m  Net Cash Provided by Investing Activities          \u001b[0m\u001b[1;38;5;39m \u001b[0m \u001b[1;38;5;39m \u001b[0m\u001b[1;38;5;39m-22,680,000,000\u001b[0m\u001b[1;38;5;39m \u001b[0m                                    │\n",
       "│                                                                                                                 │\n",
       "│     FINANCING ACTIVITIES:                                                                                       │\n",
       "│       Payments of Tax for Share-based Compensation            3,800,000,000                                     │\n",
       "│       Repurchases of Common Stock                            22,245,000,000                                     │\n",
       "│       Proceeds from Issuance of Common Stock                  1,866,000,000                                     │\n",
       "│    \u001b[1;38;5;39m \u001b[0m\u001b[1;38;5;39m  Net Cash Provided by Financing Activities          \u001b[0m\u001b[1;38;5;39m \u001b[0m \u001b[1;38;5;39m \u001b[0m\u001b[1;38;5;39m-43,935,000,000\u001b[0m\u001b[1;38;5;39m \u001b[0m                                    │\n",
       "│                                                                                                                 │\n",
       "│     Changes in Cash, cash equivalents and restricted cash    20,773,000,000                                     │\n",
       "│    \u001b[1;38;5;39m \u001b[0m\u001b[1;38;5;39mCash, cash equivalents and restricted cash           \u001b[0m\u001b[1;38;5;39m \u001b[0m \u001b[1;38;5;39m \u001b[0m\u001b[1;38;5;39m 34,704,000,000\u001b[0m\u001b[1;38;5;39m \u001b[0m                                    │\n",
       "│                                                                                                                 │\n",
       "│   \u001b[3m           Consolidated Statement of Operations            \u001b[0m                                                   │\n",
       "│                                                                                                                 │\n",
       "│    \u001b[1m \u001b[0m\u001b[1m                                     \u001b[0m\u001b[1m \u001b[0m \u001b[1m \u001b[0m\u001b[1m     2023-06-30\u001b[0m\u001b[1m \u001b[0m                                                    │\n",
       "│    ━━━━━━━━━━━━━━━━━━━━━━━━━━━━━━━━━━━━━━━━━━━━━━━━━━━━━━━━━                                                    │\n",
       "│    \u001b[1;38;5;39m \u001b[0m\u001b[1;38;5;39mTotal Net Sales                      \u001b[0m\u001b[1;38;5;39m \u001b[0m \u001b[1;38;5;39m \u001b[0m\u001b[1;38;5;39m211,915,000,000\u001b[0m\u001b[1;38;5;39m \u001b[0m                                                    │\n",
       "│                                                                                                                 │\n",
       "│     COST OF SALES:                                                                                              │\n",
       "│    \u001b[1;38;5;39m \u001b[0m\u001b[1;38;5;39mCost Goods and Services Sold         \u001b[0m\u001b[1;38;5;39m \u001b[0m \u001b[1;38;5;39m \u001b[0m\u001b[1;38;5;39m 65,863,000,000\u001b[0m\u001b[1;38;5;39m \u001b[0m                                                    │\n",
       "│                                                                                                                 │\n",
       "│    \u001b[1;38;5;39m \u001b[0m\u001b[1;38;5;39mGross Profit                         \u001b[0m\u001b[1;38;5;39m \u001b[0m \u001b[1;38;5;39m \u001b[0m\u001b[1;38;5;39m146,052,000,000\u001b[0m\u001b[1;38;5;39m \u001b[0m                                                    │\n",
       "│                                                                                                                 │\n",
       "│     OPERATING EXPENSES:                                                                                         │\n",
       "│       Research and Development Expenses      27,195,000,000                                                     │\n",
       "│       General and Administrative Expenses     7,575,000,000                                                     │\n",
       "│    \u001b[1;38;5;39m \u001b[0m\u001b[1;38;5;39mOperating Income                     \u001b[0m\u001b[1;38;5;39m \u001b[0m \u001b[1;38;5;39m \u001b[0m\u001b[1;38;5;39m 88,523,000,000\u001b[0m\u001b[1;38;5;39m \u001b[0m                                                    │\n",
       "│                                                                                                                 │\n",
       "│     OTHER INCOME/EXPENSE:                                                                                       │\n",
       "│       Interest Expense                        1,968,000,000                                                     │\n",
       "│       Nonoperating Income                       788,000,000                                                     │\n",
       "│    \u001b[1;38;5;39m \u001b[0m\u001b[1;38;5;39mIncome Before Taxes                  \u001b[0m\u001b[1;38;5;39m \u001b[0m \u001b[1;38;5;39m \u001b[0m\u001b[1;38;5;39m 89,311,000,000\u001b[0m\u001b[1;38;5;39m \u001b[0m                                                    │\n",
       "│                                                                                                                 │\n",
       "│     Income Tax Expense                       16,950,000,000                                                     │\n",
       "│    \u001b[1;38;5;39m \u001b[0m\u001b[1;38;5;39mNet Income                           \u001b[0m\u001b[1;38;5;39m \u001b[0m \u001b[1;38;5;39m \u001b[0m\u001b[1;38;5;39m 72,361,000,000\u001b[0m\u001b[1;38;5;39m \u001b[0m                                                    │\n",
       "│                                                                                                                 │\n",
       "│     EARNINGS PER SHARE:                                                                                         │\n",
       "│       Basic                                            9.72                                                     │\n",
       "│       Diluted                                          9.68                                                     │\n",
       "│     WEIGHTED AVERAGE SHARES OUTSTANDING:                                                                        │\n",
       "│       Basic                                   7,446,000,000                                                     │\n",
       "│       Diluted                                 7,472,000,000                                                     │\n",
       "│                                                                                                                 │\n",
       "│                                                                                                                 │\n",
       "╰─────────────────────────────────────────────────────────────────────────────────────────────────────────────────╯"
      ]
     },
     "execution_count": 38,
     "metadata": {},
     "output_type": "execute_result"
    }
   ],
   "source": [
    "mfiles_10k[0].obj()"
   ]
  },
  {
   "cell_type": "code",
   "execution_count": 3,
   "id": "8b947fc5-7b26-4d94-9824-4d4d552752f3",
   "metadata": {},
   "outputs": [],
   "source": [
    "filings = get_filings(form=\"10-K\")"
   ]
  },
  {
   "cell_type": "code",
   "execution_count": 4,
   "id": "06142feb-c60f-4236-b1db-914ec5113830",
   "metadata": {},
   "outputs": [
    {
     "data": {
      "text/html": [
       "<pre style=\"white-space:pre;overflow-x:auto;line-height:normal;font-family:Menlo,'DejaVu Sans Mono',consolas,'Courier New',monospace\"></pre>\n"
      ],
      "text/plain": []
     },
     "metadata": {},
     "output_type": "display_data"
    },
    {
     "data": {
      "text/plain": [
       "╭──────────────────────────────────────────────────── Filings ────────────────────────────────────────────────────╮\n",
       "│                                                                                                                 │\n",
       "│  \u001b[1m \u001b[0m\u001b[1m \u001b[0m\u001b[1m \u001b[0m \u001b[1;38;5;71m \u001b[0m\u001b[1;38;5;71mform\u001b[0m\u001b[1;38;5;71m \u001b[0m \u001b[1m \u001b[0m\u001b[1mcompany                           \u001b[0m\u001b[1m \u001b[0m \u001b[1m \u001b[0m\u001b[1mcik    \u001b[0m\u001b[1m \u001b[0m \u001b[1;38;5;39m \u001b[0m\u001b[1;38;5;39mfiling_date\u001b[0m\u001b[1;38;5;39m \u001b[0m \u001b[1m \u001b[0m\u001b[1maccession_number    \u001b[0m\u001b[1m \u001b[0m                 │\n",
       "│  ──────────────────────────────────────────────────────────────────────────────────────────────                 │\n",
       "│  \u001b[1m \u001b[0m\u001b[1m0\u001b[0m\u001b[1m \u001b[0m \u001b[1;38;5;71m \u001b[0m\u001b[1;38;5;71m10-K\u001b[0m\u001b[1;38;5;71m \u001b[0m \u001b[1m \u001b[0m\u001b[1mAiXin Life International, Inc.    \u001b[0m\u001b[1m \u001b[0m \u001b[1m \u001b[0m\u001b[1m835662 \u001b[0m\u001b[1m \u001b[0m \u001b[1;38;5;39m \u001b[0m\u001b[1;38;5;39m2024-04-08 \u001b[0m\u001b[1;38;5;39m \u001b[0m \u001b[1m \u001b[0m\u001b[1m0001493152-24-013947\u001b[0m\u001b[1m \u001b[0m                 │\n",
       "│   1  \u001b[38;5;71m \u001b[0m\u001b[38;5;71m10-K\u001b[0m\u001b[38;5;71m \u001b[0m  Better Home & Finance Holding Co     1835856  \u001b[38;5;39m \u001b[0m\u001b[38;5;39m2024-04-08 \u001b[0m\u001b[38;5;39m \u001b[0m  0001628280-24-015134                  │\n",
       "│  \u001b[1m \u001b[0m\u001b[1m2\u001b[0m\u001b[1m \u001b[0m \u001b[1;38;5;71m \u001b[0m\u001b[1;38;5;71m10-K\u001b[0m\u001b[1;38;5;71m \u001b[0m \u001b[1m \u001b[0m\u001b[1mCOMMUNITY WEST BANCSHARES /       \u001b[0m\u001b[1m \u001b[0m \u001b[1m \u001b[0m\u001b[1m1051343\u001b[0m\u001b[1m \u001b[0m \u001b[1;38;5;39m \u001b[0m\u001b[1;38;5;39m2024-04-08 \u001b[0m\u001b[1;38;5;39m \u001b[0m \u001b[1m \u001b[0m\u001b[1m0001140361-24-018439\u001b[0m\u001b[1m \u001b[0m                 │\n",
       "│   3  \u001b[38;5;71m \u001b[0m\u001b[38;5;71m10-K\u001b[0m\u001b[38;5;71m \u001b[0m  CPI AEROSTRUCTURES INC               889348   \u001b[38;5;39m \u001b[0m\u001b[38;5;39m2024-04-08 \u001b[0m\u001b[38;5;39m \u001b[0m  0001999371-24-004537                  │\n",
       "│  \u001b[1m \u001b[0m\u001b[1m4\u001b[0m\u001b[1m \u001b[0m \u001b[1;38;5;71m \u001b[0m\u001b[1;38;5;71m10-K\u001b[0m\u001b[1;38;5;71m \u001b[0m \u001b[1m \u001b[0m\u001b[1mEiger BioPharmaceuticals, Inc.    \u001b[0m\u001b[1m \u001b[0m \u001b[1m \u001b[0m\u001b[1m1305253\u001b[0m\u001b[1m \u001b[0m \u001b[1;38;5;39m \u001b[0m\u001b[1;38;5;39m2024-04-08 \u001b[0m\u001b[1;38;5;39m \u001b[0m \u001b[1m \u001b[0m\u001b[1m0001628280-24-015297\u001b[0m\u001b[1m \u001b[0m                 │\n",
       "│   5  \u001b[38;5;71m \u001b[0m\u001b[38;5;71m10-K\u001b[0m\u001b[38;5;71m \u001b[0m  Ezagoo Ltd                           1752372  \u001b[38;5;39m \u001b[0m\u001b[38;5;39m2024-04-08 \u001b[0m\u001b[38;5;39m \u001b[0m  0001493152-24-013755                  │\n",
       "│  \u001b[1m \u001b[0m\u001b[1m6\u001b[0m\u001b[1m \u001b[0m \u001b[1;38;5;71m \u001b[0m\u001b[1;38;5;71m10-K\u001b[0m\u001b[1;38;5;71m \u001b[0m \u001b[1m \u001b[0m\u001b[1mFLEXPOINT SENSOR SYSTEMS INC      \u001b[0m\u001b[1m \u001b[0m \u001b[1m \u001b[0m\u001b[1m925660 \u001b[0m\u001b[1m \u001b[0m \u001b[1;38;5;39m \u001b[0m\u001b[1;38;5;39m2024-04-08 \u001b[0m\u001b[1;38;5;39m \u001b[0m \u001b[1m \u001b[0m\u001b[1m0001548123-24-000046\u001b[0m\u001b[1m \u001b[0m                 │\n",
       "│   7  \u001b[38;5;71m \u001b[0m\u001b[38;5;71m10-K\u001b[0m\u001b[38;5;71m \u001b[0m  Focus Impact Acquisition Corp.       1854480  \u001b[38;5;39m \u001b[0m\u001b[38;5;39m2024-04-08 \u001b[0m\u001b[38;5;39m \u001b[0m  0001140361-24-018430                  │\n",
       "│  \u001b[1m \u001b[0m\u001b[1m8\u001b[0m\u001b[1m \u001b[0m \u001b[1;38;5;71m \u001b[0m\u001b[1;38;5;71m10-K\u001b[0m\u001b[1;38;5;71m \u001b[0m \u001b[1m \u001b[0m\u001b[1mGENERATION INCOME PROPERTIES, INC.\u001b[0m\u001b[1m \u001b[0m \u001b[1m \u001b[0m\u001b[1m1651721\u001b[0m\u001b[1m \u001b[0m \u001b[1;38;5;39m \u001b[0m\u001b[1;38;5;39m2024-04-08 \u001b[0m\u001b[1;38;5;39m \u001b[0m \u001b[1m \u001b[0m\u001b[1m0000950170-24-042640\u001b[0m\u001b[1m \u001b[0m                 │\n",
       "│   9  \u001b[38;5;71m \u001b[0m\u001b[38;5;71m10-K\u001b[0m\u001b[38;5;71m \u001b[0m  INNSUITES HOSPITALITY TRUST          82473    \u001b[38;5;39m \u001b[0m\u001b[38;5;39m2024-04-08 \u001b[0m\u001b[38;5;39m \u001b[0m  0001493152-24-013409                  │\n",
       "│                                                                                                                 │\n",
       "│ Showing 10 of 10 filings                                                                                        │\n",
       "╰─────────────────────────────────────────────────────────────────────────────────────────────────────────────────╯"
      ]
     },
     "execution_count": 4,
     "metadata": {},
     "output_type": "execute_result"
    }
   ],
   "source": [
    "filings.head(10)"
   ]
  },
  {
   "cell_type": "code",
   "execution_count": 5,
   "id": "5e827dbc-2c21-4272-a0f6-30ff5ff21d6f",
   "metadata": {},
   "outputs": [
    {
     "data": {
      "text/html": [
       "<pre style=\"white-space:pre;overflow-x:auto;line-height:normal;font-family:Menlo,'DejaVu Sans Mono',consolas,'Courier New',monospace\"></pre>\n"
      ],
      "text/plain": []
     },
     "metadata": {},
     "output_type": "display_data"
    },
    {
     "data": {
      "text/plain": [
       "╭──────────────────────────────────────────────────── Filings ────────────────────────────────────────────────────╮\n",
       "│                                                                                                                 │\n",
       "│  \u001b[1m \u001b[0m\u001b[1m \u001b[0m\u001b[1m \u001b[0m \u001b[1;38;5;71m \u001b[0m\u001b[1;38;5;71mform  \u001b[0m\u001b[1;38;5;71m \u001b[0m \u001b[1m \u001b[0m\u001b[1mcompany                           \u001b[0m\u001b[1m \u001b[0m \u001b[1m \u001b[0m\u001b[1mcik    \u001b[0m\u001b[1m \u001b[0m \u001b[1;38;5;39m \u001b[0m\u001b[1;38;5;39mfiling_date\u001b[0m\u001b[1;38;5;39m \u001b[0m \u001b[1m \u001b[0m\u001b[1maccession_number    \u001b[0m\u001b[1m \u001b[0m               │\n",
       "│  ────────────────────────────────────────────────────────────────────────────────────────────────               │\n",
       "│  \u001b[1m \u001b[0m\u001b[1m0\u001b[0m\u001b[1m \u001b[0m \u001b[1;38;5;71m \u001b[0m\u001b[1;38;5;71m10-K  \u001b[0m\u001b[1;38;5;71m \u001b[0m \u001b[1m \u001b[0m\u001b[1mARVANA INC                        \u001b[0m\u001b[1m \u001b[0m \u001b[1m \u001b[0m\u001b[1m1113313\u001b[0m\u001b[1m \u001b[0m \u001b[1;38;5;39m \u001b[0m\u001b[1;38;5;39m2024-04-05 \u001b[0m\u001b[1;38;5;39m \u001b[0m \u001b[1m \u001b[0m\u001b[1m0001607062-24-000118\u001b[0m\u001b[1m \u001b[0m               │\n",
       "│   1  \u001b[38;5;71m \u001b[0m\u001b[38;5;71m10-K  \u001b[0m\u001b[38;5;71m \u001b[0m  99 Acquisition Group Inc.            1950429  \u001b[38;5;39m \u001b[0m\u001b[38;5;39m2024-04-05 \u001b[0m\u001b[38;5;39m \u001b[0m  0001213900-24-030594                │\n",
       "│  \u001b[1m \u001b[0m\u001b[1m2\u001b[0m\u001b[1m \u001b[0m \u001b[1;38;5;71m \u001b[0m\u001b[1;38;5;71m10-K/A\u001b[0m\u001b[1;38;5;71m \u001b[0m \u001b[1m \u001b[0m\u001b[1mCyber App Solutions Corp.         \u001b[0m\u001b[1m \u001b[0m \u001b[1m \u001b[0m\u001b[1m1851048\u001b[0m\u001b[1m \u001b[0m \u001b[1;38;5;39m \u001b[0m\u001b[1;38;5;39m2024-04-02 \u001b[0m\u001b[1;38;5;39m \u001b[0m \u001b[1m \u001b[0m\u001b[1m0001213900-24-029190\u001b[0m\u001b[1m \u001b[0m               │\n",
       "│   3  \u001b[38;5;71m \u001b[0m\u001b[38;5;71m10-K  \u001b[0m\u001b[38;5;71m \u001b[0m  VACCINEX, INC.                       1205922  \u001b[38;5;39m \u001b[0m\u001b[38;5;39m2024-04-02 \u001b[0m\u001b[38;5;39m \u001b[0m  0000950170-24-039700                │\n",
       "│  \u001b[1m \u001b[0m\u001b[1m4\u001b[0m\u001b[1m \u001b[0m \u001b[1;38;5;71m \u001b[0m\u001b[1;38;5;71m10-K  \u001b[0m\u001b[1;38;5;71m \u001b[0m \u001b[1m \u001b[0m\u001b[1mSOBR Safe, Inc.                   \u001b[0m\u001b[1m \u001b[0m \u001b[1m \u001b[0m\u001b[1m1425627\u001b[0m\u001b[1m \u001b[0m \u001b[1;38;5;39m \u001b[0m\u001b[1;38;5;39m2024-04-01 \u001b[0m\u001b[1;38;5;39m \u001b[0m \u001b[1m \u001b[0m\u001b[1m0001477932-24-001629\u001b[0m\u001b[1m \u001b[0m               │\n",
       "│   5  \u001b[38;5;71m \u001b[0m\u001b[38;5;71m10-K  \u001b[0m\u001b[38;5;71m \u001b[0m  Quarta-Rad, Inc.                     1549631  \u001b[38;5;39m \u001b[0m\u001b[38;5;39m2024-04-01 \u001b[0m\u001b[38;5;39m \u001b[0m  0001493152-24-012312                │\n",
       "│  \u001b[1m \u001b[0m\u001b[1m6\u001b[0m\u001b[1m \u001b[0m \u001b[1;38;5;71m \u001b[0m\u001b[1;38;5;71m10-K/A\u001b[0m\u001b[1;38;5;71m \u001b[0m \u001b[1m \u001b[0m\u001b[1mArcadium Lithium plc              \u001b[0m\u001b[1m \u001b[0m \u001b[1m \u001b[0m\u001b[1m1977303\u001b[0m\u001b[1m \u001b[0m \u001b[1;38;5;39m \u001b[0m\u001b[1;38;5;39m2024-04-01 \u001b[0m\u001b[1;38;5;39m \u001b[0m \u001b[1m \u001b[0m\u001b[1m0001977303-24-000018\u001b[0m\u001b[1m \u001b[0m               │\n",
       "│   7  \u001b[38;5;71m \u001b[0m\u001b[38;5;71m10-K  \u001b[0m\u001b[38;5;71m \u001b[0m  Lightstone Value Plus REIT I, Inc.   1296884  \u001b[38;5;39m \u001b[0m\u001b[38;5;39m2024-04-01 \u001b[0m\u001b[38;5;39m \u001b[0m  0001829126-24-002092                │\n",
       "│  \u001b[1m \u001b[0m\u001b[1m8\u001b[0m\u001b[1m \u001b[0m \u001b[1;38;5;71m \u001b[0m\u001b[1;38;5;71m10-K  \u001b[0m\u001b[1;38;5;71m \u001b[0m \u001b[1m \u001b[0m\u001b[1mBranchOut Food Inc.               \u001b[0m\u001b[1m \u001b[0m \u001b[1m \u001b[0m\u001b[1m1962481\u001b[0m\u001b[1m \u001b[0m \u001b[1;38;5;39m \u001b[0m\u001b[1;38;5;39m2024-04-01 \u001b[0m\u001b[1;38;5;39m \u001b[0m \u001b[1m \u001b[0m\u001b[1m0001493152-24-012492\u001b[0m\u001b[1m \u001b[0m               │\n",
       "│   9  \u001b[38;5;71m \u001b[0m\u001b[38;5;71m10-K  \u001b[0m\u001b[38;5;71m \u001b[0m  New York REIT Liquidating LLC        1474464  \u001b[38;5;39m \u001b[0m\u001b[38;5;39m2024-04-01 \u001b[0m\u001b[38;5;39m \u001b[0m  0000950170-24-039443                │\n",
       "│                                                                                                                 │\n",
       "│ Showing 10 of 10 filings                                                                                        │\n",
       "╰─────────────────────────────────────────────────────────────────────────────────────────────────────────────────╯"
      ]
     },
     "execution_count": 5,
     "metadata": {},
     "output_type": "execute_result"
    }
   ],
   "source": [
    "filings.sample(10)"
   ]
  },
  {
   "cell_type": "code",
   "execution_count": 3,
   "id": "0038d050-ae40-424c-bd96-48230fcde3d7",
   "metadata": {},
   "outputs": [],
   "source": [
    "filings = get_filings(form=[\"10-K\", \"10-Q\"])"
   ]
  },
  {
   "cell_type": "code",
   "execution_count": 4,
   "id": "f81657f3-63d3-4a90-8f13-e2a3e9c60d59",
   "metadata": {},
   "outputs": [
    {
     "data": {
      "text/html": [
       "<pre style=\"white-space:pre;overflow-x:auto;line-height:normal;font-family:Menlo,'DejaVu Sans Mono',consolas,'Courier New',monospace\"></pre>\n"
      ],
      "text/plain": []
     },
     "metadata": {},
     "output_type": "display_data"
    },
    {
     "data": {
      "text/plain": [
       "╭──────────────────────────────────────────────────── Filings ────────────────────────────────────────────────────╮\n",
       "│                                                                                                                 │\n",
       "│  \u001b[1m \u001b[0m\u001b[1m  \u001b[0m\u001b[1m \u001b[0m \u001b[1;38;5;71m \u001b[0m\u001b[1;38;5;71mform  \u001b[0m\u001b[1;38;5;71m \u001b[0m \u001b[1m \u001b[0m\u001b[1mcompany                                       \u001b[0m\u001b[1m \u001b[0m \u001b[1m \u001b[0m\u001b[1mcik    \u001b[0m\u001b[1m \u001b[0m \u001b[1;38;5;39m \u001b[0m\u001b[1;38;5;39mfiling_date\u001b[0m\u001b[1;38;5;39m \u001b[0m \u001b[1m \u001b[0m\u001b[1maccession_number    \u001b[0m\u001b[1m \u001b[0m  │\n",
       "│  ─────────────────────────────────────────────────────────────────────────────────────────────────────────────  │\n",
       "│  \u001b[1m \u001b[0m\u001b[1m0 \u001b[0m\u001b[1m \u001b[0m \u001b[1;38;5;71m \u001b[0m\u001b[1;38;5;71m10-K/A\u001b[0m\u001b[1;38;5;71m \u001b[0m \u001b[1m \u001b[0m\u001b[1mIR-Med, Inc.                                  \u001b[0m\u001b[1m \u001b[0m \u001b[1m \u001b[0m\u001b[1m1839133\u001b[0m\u001b[1m \u001b[0m \u001b[1;38;5;39m \u001b[0m\u001b[1;38;5;39m2024-04-08 \u001b[0m\u001b[1;38;5;39m \u001b[0m \u001b[1m \u001b[0m\u001b[1m0001493152-24-013411\u001b[0m\u001b[1m \u001b[0m  │\n",
       "│   1   \u001b[38;5;71m \u001b[0m\u001b[38;5;71m10-K  \u001b[0m\u001b[38;5;71m \u001b[0m  INSPIRE VETERINARY PARTNERS, INC.                1939365  \u001b[38;5;39m \u001b[0m\u001b[38;5;39m2024-04-08 \u001b[0m\u001b[38;5;39m \u001b[0m  0001213900-24-031220   │\n",
       "│  \u001b[1m \u001b[0m\u001b[1m2 \u001b[0m\u001b[1m \u001b[0m \u001b[1;38;5;71m \u001b[0m\u001b[1;38;5;71m10-K  \u001b[0m\u001b[1;38;5;71m \u001b[0m \u001b[1m \u001b[0m\u001b[1mARVANA INC                                    \u001b[0m\u001b[1m \u001b[0m \u001b[1m \u001b[0m\u001b[1m1113313\u001b[0m\u001b[1m \u001b[0m \u001b[1;38;5;39m \u001b[0m\u001b[1;38;5;39m2024-04-05 \u001b[0m\u001b[1;38;5;39m \u001b[0m \u001b[1m \u001b[0m\u001b[1m0001607062-24-000118\u001b[0m\u001b[1m \u001b[0m  │\n",
       "│   3   \u001b[38;5;71m \u001b[0m\u001b[38;5;71m10-K  \u001b[0m\u001b[38;5;71m \u001b[0m  AI Transportation Acquisition Corp               1966734  \u001b[38;5;39m \u001b[0m\u001b[38;5;39m2024-04-05 \u001b[0m\u001b[38;5;39m \u001b[0m  0001493152-24-013272   │\n",
       "│  \u001b[1m \u001b[0m\u001b[1m4 \u001b[0m\u001b[1m \u001b[0m \u001b[1;38;5;71m \u001b[0m\u001b[1;38;5;71m10-K  \u001b[0m\u001b[1;38;5;71m \u001b[0m \u001b[1m \u001b[0m\u001b[1mUpHealth, Inc.                                \u001b[0m\u001b[1m \u001b[0m \u001b[1m \u001b[0m\u001b[1m1770141\u001b[0m\u001b[1m \u001b[0m \u001b[1;38;5;39m \u001b[0m\u001b[1;38;5;39m2024-04-05 \u001b[0m\u001b[1;38;5;39m \u001b[0m \u001b[1m \u001b[0m\u001b[1m0001770141-24-000046\u001b[0m\u001b[1m \u001b[0m  │\n",
       "│   5   \u001b[38;5;71m \u001b[0m\u001b[38;5;71m10-K/A\u001b[0m\u001b[38;5;71m \u001b[0m  Golden Star Resource Corp.                       1375348  \u001b[38;5;39m \u001b[0m\u001b[38;5;39m2024-04-05 \u001b[0m\u001b[38;5;39m \u001b[0m  0001493152-24-013246   │\n",
       "│  \u001b[1m \u001b[0m\u001b[1m6 \u001b[0m\u001b[1m \u001b[0m \u001b[1;38;5;71m \u001b[0m\u001b[1;38;5;71m10-K  \u001b[0m\u001b[1;38;5;71m \u001b[0m \u001b[1m \u001b[0m\u001b[1mReliance Global Group, Inc.                   \u001b[0m\u001b[1m \u001b[0m \u001b[1m \u001b[0m\u001b[1m1812727\u001b[0m\u001b[1m \u001b[0m \u001b[1;38;5;39m \u001b[0m\u001b[1;38;5;39m2024-04-04 \u001b[0m\u001b[1;38;5;39m \u001b[0m \u001b[1m \u001b[0m\u001b[1m0001493152-24-013118\u001b[0m\u001b[1m \u001b[0m  │\n",
       "│   7   \u001b[38;5;71m \u001b[0m\u001b[38;5;71m10-K  \u001b[0m\u001b[38;5;71m \u001b[0m  BiomX Inc.                                       1739174  \u001b[38;5;39m \u001b[0m\u001b[38;5;39m2024-04-04 \u001b[0m\u001b[38;5;39m \u001b[0m  0001213900-24-030053   │\n",
       "│  \u001b[1m \u001b[0m\u001b[1m8 \u001b[0m\u001b[1m \u001b[0m \u001b[1;38;5;71m \u001b[0m\u001b[1;38;5;71m10-K  \u001b[0m\u001b[1;38;5;71m \u001b[0m \u001b[1m \u001b[0m\u001b[1mBLACKBERRY Ltd                                \u001b[0m\u001b[1m \u001b[0m \u001b[1m \u001b[0m\u001b[1m1070235\u001b[0m\u001b[1m \u001b[0m \u001b[1;38;5;39m \u001b[0m\u001b[1;38;5;39m2024-04-04 \u001b[0m\u001b[1;38;5;39m \u001b[0m \u001b[1m \u001b[0m\u001b[1m0001070235-24-000057\u001b[0m\u001b[1m \u001b[0m  │\n",
       "│   9   \u001b[38;5;71m \u001b[0m\u001b[38;5;71m10-Q  \u001b[0m\u001b[38;5;71m \u001b[0m  RPM INTERNATIONAL INC/DE/                        110621   \u001b[38;5;39m \u001b[0m\u001b[38;5;39m2024-04-04 \u001b[0m\u001b[38;5;39m \u001b[0m  0000950170-24-041744   │\n",
       "│  \u001b[1m \u001b[0m\u001b[1m10\u001b[0m\u001b[1m \u001b[0m \u001b[1;38;5;71m \u001b[0m\u001b[1;38;5;71m10-K  \u001b[0m\u001b[1;38;5;71m \u001b[0m \u001b[1m \u001b[0m\u001b[1mSunstock, Inc.                                \u001b[0m\u001b[1m \u001b[0m \u001b[1m \u001b[0m\u001b[1m1559157\u001b[0m\u001b[1m \u001b[0m \u001b[1;38;5;39m \u001b[0m\u001b[1;38;5;39m2024-04-03 \u001b[0m\u001b[1;38;5;39m \u001b[0m \u001b[1m \u001b[0m\u001b[1m0001493152-24-012940\u001b[0m\u001b[1m \u001b[0m  │\n",
       "│   11  \u001b[38;5;71m \u001b[0m\u001b[38;5;71m10-K  \u001b[0m\u001b[38;5;71m \u001b[0m  Velo3D, Inc.                                     1825079  \u001b[38;5;39m \u001b[0m\u001b[38;5;39m2024-04-03 \u001b[0m\u001b[38;5;39m \u001b[0m  0001825079-24-000008   │\n",
       "│  \u001b[1m \u001b[0m\u001b[1m12\u001b[0m\u001b[1m \u001b[0m \u001b[1;38;5;71m \u001b[0m\u001b[1;38;5;71m10-Q  \u001b[0m\u001b[1;38;5;71m \u001b[0m \u001b[1m \u001b[0m\u001b[1mFACTSET RESEARCH SYSTEMS INC                  \u001b[0m\u001b[1m \u001b[0m \u001b[1m \u001b[0m\u001b[1m1013237\u001b[0m\u001b[1m \u001b[0m \u001b[1;38;5;39m \u001b[0m\u001b[1;38;5;39m2024-04-03 \u001b[0m\u001b[1;38;5;39m \u001b[0m \u001b[1m \u001b[0m\u001b[1m0001013237-24-000049\u001b[0m\u001b[1m \u001b[0m  │\n",
       "│   13  \u001b[38;5;71m \u001b[0m\u001b[38;5;71m10-K  \u001b[0m\u001b[38;5;71m \u001b[0m  LANDS' END, INC.                                 799288   \u001b[38;5;39m \u001b[0m\u001b[38;5;39m2024-04-03 \u001b[0m\u001b[38;5;39m \u001b[0m  0000950170-24-041066   │\n",
       "│  \u001b[1m \u001b[0m\u001b[1m14\u001b[0m\u001b[1m \u001b[0m \u001b[1;38;5;71m \u001b[0m\u001b[1;38;5;71m10-K/A\u001b[0m\u001b[1;38;5;71m \u001b[0m \u001b[1m \u001b[0m\u001b[1mCHESAPEAKE GRANITE WASH TRUST                 \u001b[0m\u001b[1m \u001b[0m \u001b[1m \u001b[0m\u001b[1m1524769\u001b[0m\u001b[1m \u001b[0m \u001b[1;38;5;39m \u001b[0m\u001b[1;38;5;39m2024-04-03 \u001b[0m\u001b[1;38;5;39m \u001b[0m \u001b[1m \u001b[0m\u001b[1m0001524769-24-000008\u001b[0m\u001b[1m \u001b[0m  │\n",
       "│   15  \u001b[38;5;71m \u001b[0m\u001b[38;5;71m10-Q  \u001b[0m\u001b[38;5;71m \u001b[0m  PAYCHEX INC                                      723531   \u001b[38;5;39m \u001b[0m\u001b[38;5;39m2024-04-02 \u001b[0m\u001b[38;5;39m \u001b[0m  0000950170-24-040129   │\n",
       "│  \u001b[1m \u001b[0m\u001b[1m16\u001b[0m\u001b[1m \u001b[0m \u001b[1;38;5;71m \u001b[0m\u001b[1;38;5;71m10-K  \u001b[0m\u001b[1;38;5;71m \u001b[0m \u001b[1m \u001b[0m\u001b[1mUnicoin Inc.                                  \u001b[0m\u001b[1m \u001b[0m \u001b[1m \u001b[0m\u001b[1m1740742\u001b[0m\u001b[1m \u001b[0m \u001b[1;38;5;39m \u001b[0m\u001b[1;38;5;39m2024-04-02 \u001b[0m\u001b[1;38;5;39m \u001b[0m \u001b[1m \u001b[0m\u001b[1m0001829126-24-002120\u001b[0m\u001b[1m \u001b[0m  │\n",
       "│   17  \u001b[38;5;71m \u001b[0m\u001b[38;5;71m10-K  \u001b[0m\u001b[38;5;71m \u001b[0m  Asset Entities Inc.                              1920406  \u001b[38;5;39m \u001b[0m\u001b[38;5;39m2024-04-02 \u001b[0m\u001b[38;5;39m \u001b[0m  0001213900-24-029033   │\n",
       "│  \u001b[1m \u001b[0m\u001b[1m18\u001b[0m\u001b[1m \u001b[0m \u001b[1;38;5;71m \u001b[0m\u001b[1;38;5;71m10-K  \u001b[0m\u001b[1;38;5;71m \u001b[0m \u001b[1m \u001b[0m\u001b[1mFluent, Inc.                                  \u001b[0m\u001b[1m \u001b[0m \u001b[1m \u001b[0m\u001b[1m1460329\u001b[0m\u001b[1m \u001b[0m \u001b[1;38;5;39m \u001b[0m\u001b[1;38;5;39m2024-04-02 \u001b[0m\u001b[1;38;5;39m \u001b[0m \u001b[1m \u001b[0m\u001b[1m0001437749-24-010639\u001b[0m\u001b[1m \u001b[0m  │\n",
       "│   19  \u001b[38;5;71m \u001b[0m\u001b[38;5;71m10-K  \u001b[0m\u001b[38;5;71m \u001b[0m  Inflection Point Acquisition Corp. II            1970622  \u001b[38;5;39m \u001b[0m\u001b[38;5;39m2024-04-02 \u001b[0m\u001b[38;5;39m \u001b[0m  0001213900-24-029041   │\n",
       "│  \u001b[1m \u001b[0m\u001b[1m20\u001b[0m\u001b[1m \u001b[0m \u001b[1;38;5;71m \u001b[0m\u001b[1;38;5;71m10-K  \u001b[0m\u001b[1;38;5;71m \u001b[0m \u001b[1m \u001b[0m\u001b[1mHapi Metaverse Inc.                           \u001b[0m\u001b[1m \u001b[0m \u001b[1m \u001b[0m\u001b[1m1600347\u001b[0m\u001b[1m \u001b[0m \u001b[1;38;5;39m \u001b[0m\u001b[1;38;5;39m2024-04-01 \u001b[0m\u001b[1;38;5;39m \u001b[0m \u001b[1m \u001b[0m\u001b[1m0001493152-24-012424\u001b[0m\u001b[1m \u001b[0m  │\n",
       "│   21  \u001b[38;5;71m \u001b[0m\u001b[38;5;71m10-K  \u001b[0m\u001b[38;5;71m \u001b[0m  Sequoia Mortgage Trust 2013-7                    1576709  \u001b[38;5;39m \u001b[0m\u001b[38;5;39m2024-04-01 \u001b[0m\u001b[38;5;39m \u001b[0m  0000950170-24-039215   │\n",
       "│  \u001b[1m \u001b[0m\u001b[1m22\u001b[0m\u001b[1m \u001b[0m \u001b[1;38;5;71m \u001b[0m\u001b[1;38;5;71m10-K  \u001b[0m\u001b[1;38;5;71m \u001b[0m \u001b[1m \u001b[0m\u001b[1mFULLNET COMMUNICATIONS INC                    \u001b[0m\u001b[1m \u001b[0m \u001b[1m \u001b[0m\u001b[1m1092570\u001b[0m\u001b[1m \u001b[0m \u001b[1;38;5;39m \u001b[0m\u001b[1;38;5;39m2024-04-01 \u001b[0m\u001b[1;38;5;39m \u001b[0m \u001b[1m \u001b[0m\u001b[1m0001376474-24-000151\u001b[0m\u001b[1m \u001b[0m  │\n",
       "│   23  \u001b[38;5;71m \u001b[0m\u001b[38;5;71m10-K  \u001b[0m\u001b[38;5;71m \u001b[0m  Dolphin Entertainment, Inc.                      1282224  \u001b[38;5;39m \u001b[0m\u001b[38;5;39m2024-04-01 \u001b[0m\u001b[38;5;39m \u001b[0m  0001079973-24-000452   │\n",
       "│  \u001b[1m \u001b[0m\u001b[1m24\u001b[0m\u001b[1m \u001b[0m \u001b[1;38;5;71m \u001b[0m\u001b[1;38;5;71m10-K  \u001b[0m\u001b[1;38;5;71m \u001b[0m \u001b[1m \u001b[0m\u001b[1mTwo Hands Corp                                \u001b[0m\u001b[1m \u001b[0m \u001b[1m \u001b[0m\u001b[1m1494413\u001b[0m\u001b[1m \u001b[0m \u001b[1;38;5;39m \u001b[0m\u001b[1;38;5;39m2024-04-01 \u001b[0m\u001b[1;38;5;39m \u001b[0m \u001b[1m \u001b[0m\u001b[1m0001262463-24-000041\u001b[0m\u001b[1m \u001b[0m  │\n",
       "│   25  \u001b[38;5;71m \u001b[0m\u001b[38;5;71m10-K  \u001b[0m\u001b[38;5;71m \u001b[0m  Cartica Acquisition Corp                         1848437  \u001b[38;5;39m \u001b[0m\u001b[38;5;39m2024-04-01 \u001b[0m\u001b[38;5;39m \u001b[0m  0001410578-24-000374   │\n",
       "│  \u001b[1m \u001b[0m\u001b[1m26\u001b[0m\u001b[1m \u001b[0m \u001b[1;38;5;71m \u001b[0m\u001b[1;38;5;71m10-K  \u001b[0m\u001b[1;38;5;71m \u001b[0m \u001b[1m \u001b[0m\u001b[1mThunder Bridge Capital Partners IV, Inc.      \u001b[0m\u001b[1m \u001b[0m \u001b[1m \u001b[0m\u001b[1m1843993\u001b[0m\u001b[1m \u001b[0m \u001b[1;38;5;39m \u001b[0m\u001b[1;38;5;39m2024-04-01 \u001b[0m\u001b[1;38;5;39m \u001b[0m \u001b[1m \u001b[0m\u001b[1m0001213900-24-028753\u001b[0m\u001b[1m \u001b[0m  │\n",
       "│   27  \u001b[38;5;71m \u001b[0m\u001b[38;5;71m10-K  \u001b[0m\u001b[38;5;71m \u001b[0m  Leafly Holdings, Inc. /DE                        1785592  \u001b[38;5;39m \u001b[0m\u001b[38;5;39m2024-04-01 \u001b[0m\u001b[38;5;39m \u001b[0m  0000950170-24-039515   │\n",
       "│  \u001b[1m \u001b[0m\u001b[1m28\u001b[0m\u001b[1m \u001b[0m \u001b[1;38;5;71m \u001b[0m\u001b[1;38;5;71m10-K  \u001b[0m\u001b[1;38;5;71m \u001b[0m \u001b[1m \u001b[0m\u001b[1mPANACEA LIFE SCIENCES HOLDINGS, INC.          \u001b[0m\u001b[1m \u001b[0m \u001b[1m \u001b[0m\u001b[1m1552189\u001b[0m\u001b[1m \u001b[0m \u001b[1;38;5;39m \u001b[0m\u001b[1;38;5;39m2024-04-01 \u001b[0m\u001b[1;38;5;39m \u001b[0m \u001b[1m \u001b[0m\u001b[1m0001493152-24-012107\u001b[0m\u001b[1m \u001b[0m  │\n",
       "│   29  \u001b[38;5;71m \u001b[0m\u001b[38;5;71m10-K  \u001b[0m\u001b[38;5;71m \u001b[0m  CSLM ACQUISITION CORP.                           1875493  \u001b[38;5;39m \u001b[0m\u001b[38;5;39m2024-04-01 \u001b[0m\u001b[38;5;39m \u001b[0m  0001193125-24-083559   │\n",
       "│  \u001b[1m \u001b[0m\u001b[1m30\u001b[0m\u001b[1m \u001b[0m \u001b[1;38;5;71m \u001b[0m\u001b[1;38;5;71m10-K  \u001b[0m\u001b[1;38;5;71m \u001b[0m \u001b[1m \u001b[0m\u001b[1mBT Brands, Inc.                               \u001b[0m\u001b[1m \u001b[0m \u001b[1m \u001b[0m\u001b[1m1718224\u001b[0m\u001b[1m \u001b[0m \u001b[1;38;5;39m \u001b[0m\u001b[1;38;5;39m2024-04-01 \u001b[0m\u001b[1;38;5;39m \u001b[0m \u001b[1m \u001b[0m\u001b[1m0001477932-24-001711\u001b[0m\u001b[1m \u001b[0m  │\n",
       "│   31  \u001b[38;5;71m \u001b[0m\u001b[38;5;71m10-K  \u001b[0m\u001b[38;5;71m \u001b[0m  Corner Growth Acquisition Corp.                  1829953  \u001b[38;5;39m \u001b[0m\u001b[38;5;39m2024-04-01 \u001b[0m\u001b[38;5;39m \u001b[0m  0001193125-24-083610   │\n",
       "│  \u001b[1m \u001b[0m\u001b[1m32\u001b[0m\u001b[1m \u001b[0m \u001b[1;38;5;71m \u001b[0m\u001b[1;38;5;71m10-K  \u001b[0m\u001b[1;38;5;71m \u001b[0m \u001b[1m \u001b[0m\u001b[1mKnightscope, Inc.                             \u001b[0m\u001b[1m \u001b[0m \u001b[1m \u001b[0m\u001b[1m1600983\u001b[0m\u001b[1m \u001b[0m \u001b[1;38;5;39m \u001b[0m\u001b[1;38;5;39m2024-04-01 \u001b[0m\u001b[1;38;5;39m \u001b[0m \u001b[1m \u001b[0m\u001b[1m0001410578-24-000417\u001b[0m\u001b[1m \u001b[0m  │\n",
       "│   33  \u001b[38;5;71m \u001b[0m\u001b[38;5;71m10-K  \u001b[0m\u001b[38;5;71m \u001b[0m  Sequoia Mortgage Trust 2013-4                    1570440  \u001b[38;5;39m \u001b[0m\u001b[38;5;39m2024-04-01 \u001b[0m\u001b[38;5;39m \u001b[0m  0000950170-24-039213   │\n",
       "│  \u001b[1m \u001b[0m\u001b[1m34\u001b[0m\u001b[1m \u001b[0m \u001b[1;38;5;71m \u001b[0m\u001b[1;38;5;71m10-K  \u001b[0m\u001b[1;38;5;71m \u001b[0m \u001b[1m \u001b[0m\u001b[1mEnvoy Medical, Inc.                           \u001b[0m\u001b[1m \u001b[0m \u001b[1m \u001b[0m\u001b[1m1840877\u001b[0m\u001b[1m \u001b[0m \u001b[1;38;5;39m \u001b[0m\u001b[1;38;5;39m2024-04-01 \u001b[0m\u001b[1;38;5;39m \u001b[0m \u001b[1m \u001b[0m\u001b[1m0001213900-24-028894\u001b[0m\u001b[1m \u001b[0m  │\n",
       "│   35  \u001b[38;5;71m \u001b[0m\u001b[38;5;71m10-K  \u001b[0m\u001b[38;5;71m \u001b[0m  REGIONAL HEALTH PROPERTIES, INC                  1004724  \u001b[38;5;39m \u001b[0m\u001b[38;5;39m2024-04-01 \u001b[0m\u001b[38;5;39m \u001b[0m  0000950170-24-039414   │\n",
       "│  \u001b[1m \u001b[0m\u001b[1m36\u001b[0m\u001b[1m \u001b[0m \u001b[1;38;5;71m \u001b[0m\u001b[1;38;5;71m10-K  \u001b[0m\u001b[1;38;5;71m \u001b[0m \u001b[1m \u001b[0m\u001b[1mAspira Women's Health Inc.                    \u001b[0m\u001b[1m \u001b[0m \u001b[1m \u001b[0m\u001b[1m926617 \u001b[0m\u001b[1m \u001b[0m \u001b[1;38;5;39m \u001b[0m\u001b[1;38;5;39m2024-04-01 \u001b[0m\u001b[1;38;5;39m \u001b[0m \u001b[1m \u001b[0m\u001b[1m0000926617-24-000015\u001b[0m\u001b[1m \u001b[0m  │\n",
       "│   37  \u001b[38;5;71m \u001b[0m\u001b[38;5;71m10-K  \u001b[0m\u001b[38;5;71m \u001b[0m  1st FRANKLIN FINANCIAL CORP                      38723    \u001b[38;5;39m \u001b[0m\u001b[38;5;39m2024-04-01 \u001b[0m\u001b[38;5;39m \u001b[0m  0000038723-24-000047   │\n",
       "│  \u001b[1m \u001b[0m\u001b[1m38\u001b[0m\u001b[1m \u001b[0m \u001b[1;38;5;71m \u001b[0m\u001b[1;38;5;71m10-K  \u001b[0m\u001b[1;38;5;71m \u001b[0m \u001b[1m \u001b[0m\u001b[1mCHESAPEAKE GRANITE WASH TRUST                 \u001b[0m\u001b[1m \u001b[0m \u001b[1m \u001b[0m\u001b[1m1524769\u001b[0m\u001b[1m \u001b[0m \u001b[1;38;5;39m \u001b[0m\u001b[1;38;5;39m2024-04-01 \u001b[0m\u001b[1;38;5;39m \u001b[0m \u001b[1m \u001b[0m\u001b[1m0001524769-24-000005\u001b[0m\u001b[1m \u001b[0m  │\n",
       "│   39  \u001b[38;5;71m \u001b[0m\u001b[38;5;71m10-K  \u001b[0m\u001b[38;5;71m \u001b[0m  Tidal Commodities Trust I                        1985840  \u001b[38;5;39m \u001b[0m\u001b[38;5;39m2024-04-01 \u001b[0m\u001b[38;5;39m \u001b[0m  0001999371-24-004291   │\n",
       "│  \u001b[1m \u001b[0m\u001b[1m40\u001b[0m\u001b[1m \u001b[0m \u001b[1;38;5;71m \u001b[0m\u001b[1;38;5;71m10-K  \u001b[0m\u001b[1;38;5;71m \u001b[0m \u001b[1m \u001b[0m\u001b[1mJet.AI Inc.                                   \u001b[0m\u001b[1m \u001b[0m \u001b[1m \u001b[0m\u001b[1m1861622\u001b[0m\u001b[1m \u001b[0m \u001b[1;38;5;39m \u001b[0m\u001b[1;38;5;39m2024-04-01 \u001b[0m\u001b[1;38;5;39m \u001b[0m \u001b[1m \u001b[0m\u001b[1m0001493152-24-012382\u001b[0m\u001b[1m \u001b[0m  │\n",
       "│   41  \u001b[38;5;71m \u001b[0m\u001b[38;5;71m10-K  \u001b[0m\u001b[38;5;71m \u001b[0m  PAID INC                                         1017655  \u001b[38;5;39m \u001b[0m\u001b[38;5;39m2024-04-01 \u001b[0m\u001b[38;5;39m \u001b[0m  0001437749-24-010365   │\n",
       "│  \u001b[1m \u001b[0m\u001b[1m42\u001b[0m\u001b[1m \u001b[0m \u001b[1;38;5;71m \u001b[0m\u001b[1;38;5;71m10-K  \u001b[0m\u001b[1;38;5;71m \u001b[0m \u001b[1m \u001b[0m\u001b[1mBRAINSTORM CELL THERAPEUTICS INC.             \u001b[0m\u001b[1m \u001b[0m \u001b[1m \u001b[0m\u001b[1m1137883\u001b[0m\u001b[1m \u001b[0m \u001b[1;38;5;39m \u001b[0m\u001b[1;38;5;39m2024-04-01 \u001b[0m\u001b[1;38;5;39m \u001b[0m \u001b[1m \u001b[0m\u001b[1m0001410578-24-000385\u001b[0m\u001b[1m \u001b[0m  │\n",
       "│   43  \u001b[38;5;71m \u001b[0m\u001b[38;5;71m10-K  \u001b[0m\u001b[38;5;71m \u001b[0m  Ideal Power Inc.                                 1507957  \u001b[38;5;39m \u001b[0m\u001b[38;5;39m2024-04-01 \u001b[0m\u001b[38;5;39m \u001b[0m  0001437749-24-010360   │\n",
       "│  \u001b[1m \u001b[0m\u001b[1m44\u001b[0m\u001b[1m \u001b[0m \u001b[1;38;5;71m \u001b[0m\u001b[1;38;5;71m10-K  \u001b[0m\u001b[1;38;5;71m \u001b[0m \u001b[1m \u001b[0m\u001b[1mRiceBran Technologies                         \u001b[0m\u001b[1m \u001b[0m \u001b[1m \u001b[0m\u001b[1m1063537\u001b[0m\u001b[1m \u001b[0m \u001b[1;38;5;39m \u001b[0m\u001b[1;38;5;39m2024-04-01 \u001b[0m\u001b[1;38;5;39m \u001b[0m \u001b[1m \u001b[0m\u001b[1m0001437749-24-010135\u001b[0m\u001b[1m \u001b[0m  │\n",
       "│   45  \u001b[38;5;71m \u001b[0m\u001b[38;5;71m10-K  \u001b[0m\u001b[38;5;71m \u001b[0m  DIGITAL ALLY, INC.                               1342958  \u001b[38;5;39m \u001b[0m\u001b[38;5;39m2024-04-01 \u001b[0m\u001b[38;5;39m \u001b[0m  0001493152-24-012365   │\n",
       "│  \u001b[1m \u001b[0m\u001b[1m46\u001b[0m\u001b[1m \u001b[0m \u001b[1;38;5;71m \u001b[0m\u001b[1;38;5;71m10-K  \u001b[0m\u001b[1;38;5;71m \u001b[0m \u001b[1m \u001b[0m\u001b[1mVINEBROOK HOMES TRUST, INC.                   \u001b[0m\u001b[1m \u001b[0m \u001b[1m \u001b[0m\u001b[1m1755755\u001b[0m\u001b[1m \u001b[0m \u001b[1;38;5;39m \u001b[0m\u001b[1;38;5;39m2024-04-01 \u001b[0m\u001b[1;38;5;39m \u001b[0m \u001b[1m \u001b[0m\u001b[1m0001755755-24-000022\u001b[0m\u001b[1m \u001b[0m  │\n",
       "│   47  \u001b[38;5;71m \u001b[0m\u001b[38;5;71m10-K  \u001b[0m\u001b[38;5;71m \u001b[0m  Patria Latin American Opportunity Acquisition    1849737  \u001b[38;5;39m \u001b[0m\u001b[38;5;39m2024-04-01 \u001b[0m\u001b[38;5;39m \u001b[0m  0001213900-24-028702   │\n",
       "│       \u001b[38;5;71m        \u001b[0m  Corp.                                                     \u001b[38;5;39m             \u001b[0m                         │\n",
       "│  \u001b[1m \u001b[0m\u001b[1m48\u001b[0m\u001b[1m \u001b[0m \u001b[1;38;5;71m \u001b[0m\u001b[1;38;5;71m10-K  \u001b[0m\u001b[1;38;5;71m \u001b[0m \u001b[1m \u001b[0m\u001b[1mCNS Pharmaceuticals, Inc.                     \u001b[0m\u001b[1m \u001b[0m \u001b[1m \u001b[0m\u001b[1m1729427\u001b[0m\u001b[1m \u001b[0m \u001b[1;38;5;39m \u001b[0m\u001b[1;38;5;39m2024-04-01 \u001b[0m\u001b[1;38;5;39m \u001b[0m \u001b[1m \u001b[0m\u001b[1m0001683168-24-002032\u001b[0m\u001b[1m \u001b[0m  │\n",
       "│   49  \u001b[38;5;71m \u001b[0m\u001b[38;5;71m10-K  \u001b[0m\u001b[38;5;71m \u001b[0m  SPAR Group, Inc.                                 1004989  \u001b[38;5;39m \u001b[0m\u001b[38;5;39m2024-04-01 \u001b[0m\u001b[38;5;39m \u001b[0m  0001437749-24-010386   │\n",
       "│                                                                                                                 │\n",
       "│ Showing 50 of 50 filings                                                                                        │\n",
       "╰─────────────────────────────────────────────────────────────────────────────────────────────────────────────────╯"
      ]
     },
     "execution_count": 4,
     "metadata": {},
     "output_type": "execute_result"
    }
   ],
   "source": [
    "filings.sample(50)"
   ]
  },
  {
   "cell_type": "code",
   "execution_count": 6,
   "id": "2a86ff11-94da-4202-a816-cf29e4cb0145",
   "metadata": {},
   "outputs": [
    {
     "data": {
      "text/html": [
       "<pre style=\"white-space:pre;overflow-x:auto;line-height:normal;font-family:Menlo,'DejaVu Sans Mono',consolas,'Courier New',monospace\"></pre>\n"
      ],
      "text/plain": []
     },
     "metadata": {},
     "output_type": "display_data"
    },
    {
     "data": {
      "text/plain": [
       "╭─────────────────────────────────────────────────────────────────────────────────────────────────────────────────╮\n",
       "│ ╭───────────────────────────── 10-K 📊 filing for AiXin Life International, Inc. ─────────────────────────────╮ │\n",
       "│ │                                                                                                             │ │\n",
       "│ │  \u001b[1m \u001b[0m\u001b[1mAccession Number    \u001b[0m\u001b[1m \u001b[0m \u001b[1m \u001b[0m\u001b[1mFiling Date\u001b[0m\u001b[1m \u001b[0m \u001b[1m \u001b[0m\u001b[1mCompany                       \u001b[0m\u001b[1m \u001b[0m \u001b[1m \u001b[0m\u001b[1mCIK   \u001b[0m\u001b[1m \u001b[0m                             │ │\n",
       "│ │  ──────────────────────────────────────────────────────────────────────────────                             │ │\n",
       "│ │  \u001b[1m \u001b[0m\u001b[1m0001493152-24-013947\u001b[0m\u001b[1m \u001b[0m  2024-04-08    AiXin Life International, Inc.   835662                              │ │\n",
       "│ │                                                                                                             │ │\n",
       "│ │                                                                                                             │ │\n",
       "│ │  \u001b[1m \u001b[0m\u001b[1mLinks\u001b[0m\u001b[1m: 🏠 Homepage 📄 Primary Document 📜 Full Submission Text                           \u001b[0m\u001b[1m \u001b[0m                │ │\n",
       "│ │  ───────────────────────────────────────────────────────────────────────────────────────────                │ │\n",
       "│ │   🏠 https://sec.gov/Archives/edgar/data/835662/0001493152-24-013947-index.html                             │ │\n",
       "│ │   📄 https://sec.gov/Archives/edgar/data/835662/000149315224013947/form10-k.htm                             │ │\n",
       "│ │   📜 https://sec.gov/Archives/edgar/data/835662/000149315224013947/0001493152-24-013947.txt                 │ │\n",
       "│ │                                                                                                             │ │\n",
       "│ ╰─────────────────────────────────────────────────────────────────────────────────────────────────────────────╯ │\n",
       "│                                                                                                                 │\n",
       "│   \u001b[3m                       Balance Sheet                        \u001b[0m                                                  │\n",
       "│                                                                                                                 │\n",
       "│    \u001b[1m \u001b[0m\u001b[1m                                          \u001b[0m\u001b[1m \u001b[0m \u001b[1m \u001b[0m\u001b[1m 2023-12-31\u001b[0m\u001b[1m \u001b[0m                                                   │\n",
       "│    ━━━━━━━━━━━━━━━━━━━━━━━━━━━━━━━━━━━━━━━━━━━━━━━━━━━━━━━━━━                                                   │\n",
       "│     ASSETS:                                                                                                     │\n",
       "│     CURRENT ASSETS:                                                                                             │\n",
       "│       Cash and Cash Equivalents                      443,758                                                    │\n",
       "│    \u001b[1;38;5;39m \u001b[0m\u001b[1;38;5;39m  Current Assets                          \u001b[0m\u001b[1;38;5;39m \u001b[0m \u001b[1;38;5;39m \u001b[0m\u001b[1;38;5;39m  1,497,444\u001b[0m\u001b[1;38;5;39m \u001b[0m                                                   │\n",
       "│                                                                                                                 │\n",
       "│     NONCURRENT ASSETS:                                                                                          │\n",
       "│       Property, Plant and Equipment                1,679,675                                                    │\n",
       "│    \u001b[1;38;5;39m \u001b[0m\u001b[1;38;5;39mTotal Assets                              \u001b[0m\u001b[1;38;5;39m \u001b[0m \u001b[1;38;5;39m \u001b[0m\u001b[1;38;5;39m  4,842,358\u001b[0m\u001b[1;38;5;39m \u001b[0m                                                   │\n",
       "│                                                                                                                 │\n",
       "│     LIABILITIES AND STOCKHOLDERS' EQUITY:                                                                       │\n",
       "│     CURRENT LIABILITIES:                                                                                        │\n",
       "│       Other Current Liabilities                    1,226,885                                                    │\n",
       "│       Deferred Revenue                               172,753                                                    │\n",
       "│    \u001b[1;38;5;39m \u001b[0m\u001b[1;38;5;39m  Total Current Liabilities               \u001b[0m\u001b[1;38;5;39m \u001b[0m \u001b[1;38;5;39m \u001b[0m\u001b[1;38;5;39m  5,964,450\u001b[0m\u001b[1;38;5;39m \u001b[0m                                                   │\n",
       "│                                                                                                                 │\n",
       "│     NONCURRENT LIABILITIES:                                                                                     │\n",
       "│    \u001b[1;38;5;39m \u001b[0m\u001b[1;38;5;39mTotal Liabilities                         \u001b[0m\u001b[1;38;5;39m \u001b[0m \u001b[1;38;5;39m \u001b[0m\u001b[1;38;5;39m  6,753,939\u001b[0m\u001b[1;38;5;39m \u001b[0m                                                   │\n",
       "│                                                                                                                 │\n",
       "│     STOCKHOLDERS' EQUITY:                                                                                       │\n",
       "│       Common Stock                                       250                                                    │\n",
       "│       Retained Earnings                          -17,220,392                                                    │\n",
       "│       Accumulated Other Comprehensive Income         181,150                                                    │\n",
       "│    \u001b[1;38;5;39m \u001b[0m\u001b[1;38;5;39m  Total Stockholders' Equity              \u001b[0m\u001b[1;38;5;39m \u001b[0m \u001b[1;38;5;39m \u001b[0m\u001b[1;38;5;39m -1,911,581\u001b[0m\u001b[1;38;5;39m \u001b[0m                                                   │\n",
       "│                                                                                                                 │\n",
       "│    \u001b[1;38;5;39m \u001b[0m\u001b[1;38;5;39mTotal Liabilities and Stockholders' Equity\u001b[0m\u001b[1;38;5;39m \u001b[0m \u001b[1;38;5;39m \u001b[0m\u001b[1;38;5;39m  4,842,358\u001b[0m\u001b[1;38;5;39m \u001b[0m                                                   │\n",
       "│                                                                                                                 │\n",
       "│   \u001b[3m                          Cashflow Statement                          \u001b[0m                                        │\n",
       "│                                                                                                                 │\n",
       "│    \u001b[1m \u001b[0m\u001b[1m                                                     \u001b[0m\u001b[1m \u001b[0m \u001b[1m \u001b[0m\u001b[1m2023-12-31\u001b[0m\u001b[1m \u001b[0m                                         │\n",
       "│    ━━━━━━━━━━━━━━━━━━━━━━━━━━━━━━━━━━━━━━━━━━━━━━━━━━━━━━━━━━━━━━━━━━━━                                         │\n",
       "│     OPERATING ACTIVITIES:                                                                                       │\n",
       "│       Net Income                                            -2,090,694                                          │\n",
       "│       Depreciation and Amortization                            410,690                                          │\n",
       "│       Stock-based Compensation                                 371,540                                          │\n",
       "│       Changes in Inventories                                   -36,240                                          │\n",
       "│       Changes in Deferred Revenue                               37,275                                          │\n",
       "│    \u001b[1;38;5;39m \u001b[0m\u001b[1;38;5;39m  Net Cash Provided by Operating Activities          \u001b[0m\u001b[1;38;5;39m \u001b[0m \u001b[1;38;5;39m \u001b[0m\u001b[1;38;5;39m-1,392,259\u001b[0m\u001b[1;38;5;39m \u001b[0m                                         │\n",
       "│                                                                                                                 │\n",
       "│     INVESTING ACTIVITIES:                                                                                       │\n",
       "│       Purchases of Property, Plant and Equipment               295,487                                          │\n",
       "│       Deferred Revenue                                          37,275                                          │\n",
       "│    \u001b[1;38;5;39m \u001b[0m\u001b[1;38;5;39m  Net Cash Provided by Investing Activities          \u001b[0m\u001b[1;38;5;39m \u001b[0m \u001b[1;38;5;39m \u001b[0m\u001b[1;38;5;39m  -302,838\u001b[0m\u001b[1;38;5;39m \u001b[0m                                         │\n",
       "│                                                                                                                 │\n",
       "│     FINANCING ACTIVITIES:                                                                                       │\n",
       "│    \u001b[1;38;5;39m \u001b[0m\u001b[1;38;5;39m  Net Cash Provided by Financing Activities          \u001b[0m\u001b[1;38;5;39m \u001b[0m \u001b[1;38;5;39m \u001b[0m\u001b[1;38;5;39m 1,560,466\u001b[0m\u001b[1;38;5;39m \u001b[0m                                         │\n",
       "│                                                                                                                 │\n",
       "│     Changes in Cash, cash equivalents and restricted cash     -152,934                                          │\n",
       "│                                                                                                                 │\n",
       "│   \u001b[3m         Consolidated Statement of Operations         \u001b[0m                                                        │\n",
       "│                                                                                                                 │\n",
       "│    \u001b[1m \u001b[0m\u001b[1m                                     \u001b[0m\u001b[1m \u001b[0m \u001b[1m \u001b[0m\u001b[1m2023-12-31\u001b[0m\u001b[1m \u001b[0m                                                         │\n",
       "│    ━━━━━━━━━━━━━━━━━━━━━━━━━━━━━━━━━━━━━━━━━━━━━━━━━━━━                                                         │\n",
       "│    \u001b[1;38;5;39m \u001b[0m\u001b[1;38;5;39mTotal Net Sales                      \u001b[0m\u001b[1;38;5;39m \u001b[0m \u001b[1;38;5;39m \u001b[0m\u001b[1;38;5;39m 4,089,799\u001b[0m\u001b[1;38;5;39m \u001b[0m                                                         │\n",
       "│                                                                                                                 │\n",
       "│     COST OF SALES:                                                                                              │\n",
       "│     OPERATING EXPENSES:                                                                                         │\n",
       "│       General and Administrative Expenses    1,947,294                                                          │\n",
       "│    \u001b[1;38;5;39m \u001b[0m\u001b[1;38;5;39mTotal Operating Expenses             \u001b[0m\u001b[1;38;5;39m \u001b[0m \u001b[1;38;5;39m \u001b[0m\u001b[1;38;5;39m 6,588,606\u001b[0m\u001b[1;38;5;39m \u001b[0m                                                         │\n",
       "│                                                                                                                 │\n",
       "│    \u001b[1;38;5;39m \u001b[0m\u001b[1;38;5;39mOperating Income                     \u001b[0m\u001b[1;38;5;39m \u001b[0m \u001b[1;38;5;39m \u001b[0m\u001b[1;38;5;39m-2,498,807\u001b[0m\u001b[1;38;5;39m \u001b[0m                                                         │\n",
       "│                                                                                                                 │\n",
       "│     OTHER INCOME/EXPENSE:                                                                                       │\n",
       "│       Nonoperating Income                      427,632                                                          │\n",
       "│    \u001b[1;38;5;39m \u001b[0m\u001b[1;38;5;39mIncome Before Taxes                  \u001b[0m\u001b[1;38;5;39m \u001b[0m \u001b[1;38;5;39m \u001b[0m\u001b[1;38;5;39m-2,071,175\u001b[0m\u001b[1;38;5;39m \u001b[0m                                                         │\n",
       "│                                                                                                                 │\n",
       "│     Income Tax Expense                          19,519                                                          │\n",
       "│    \u001b[1;38;5;39m \u001b[0m\u001b[1;38;5;39mNet Income                           \u001b[0m\u001b[1;38;5;39m \u001b[0m \u001b[1;38;5;39m \u001b[0m\u001b[1;38;5;39m-2,090,694\u001b[0m\u001b[1;38;5;39m \u001b[0m                                                         │\n",
       "│                                                                                                                 │\n",
       "│     EARNINGS PER SHARE:                                                                                         │\n",
       "│       Basic                                      -0.08                                                          │\n",
       "│       Diluted                                    -0.08                                                          │\n",
       "│     WEIGHTED AVERAGE SHARES OUTSTANDING:                                                                        │\n",
       "│       Basic                                 24,999,834                                                          │\n",
       "│       Diluted                               24,999,834                                                          │\n",
       "│                                                                                                                 │\n",
       "│                                                                                                                 │\n",
       "╰─────────────────────────────────────────────────────────────────────────────────────────────────────────────────╯"
      ]
     },
     "execution_count": 6,
     "metadata": {},
     "output_type": "execute_result"
    }
   ],
   "source": [
    "filings[0].obj()"
   ]
  },
  {
   "cell_type": "code",
   "execution_count": 13,
   "id": "5c500b3c-c2fa-4530-8f9e-8fa30fad0c35",
   "metadata": {},
   "outputs": [
    {
     "data": {
      "text/html": [
       "<pre style=\"white-space:pre;overflow-x:auto;line-height:normal;font-family:Menlo,'DejaVu Sans Mono',consolas,'Courier New',monospace\"><span style=\"color: #7fbfbf; text-decoration-color: #7fbfbf\">[21:28:32] </span><span style=\"color: #000080; text-decoration-color: #000080\">INFO    </span> Identity of the Edgar REST client set to <span style=\"font-weight: bold\">[</span>Rafael ZHU walkklaw@gmail.com<span style=\"font-weight: bold\">]</span>            <a href=\"file:///Users/yfzhu/opt/anaconda3/envs/py312/lib/python3.12/site-packages/edgar/core.py\" target=\"_blank\"><span style=\"color: #7f7f7f; text-decoration-color: #7f7f7f\">core.py</span></a><span style=\"color: #7f7f7f; text-decoration-color: #7f7f7f\">:</span><a href=\"file:///Users/yfzhu/opt/anaconda3/envs/py312/lib/python3.12/site-packages/edgar/core.py#154\" target=\"_blank\"><span style=\"color: #7f7f7f; text-decoration-color: #7f7f7f\">154</span></a>\n",
       "</pre>\n"
      ],
      "text/plain": [
       "\u001b[2;36m[21:28:32]\u001b[0m\u001b[2;36m \u001b[0m\u001b[34mINFO    \u001b[0m Identity of the Edgar REST client set to \u001b[1m[\u001b[0mRafael ZHU walkklaw@gmail.com\u001b[1m]\u001b[0m            \u001b]8;id=83534;file:///Users/yfzhu/opt/anaconda3/envs/py312/lib/python3.12/site-packages/edgar/core.py\u001b\\\u001b[2mcore.py\u001b[0m\u001b]8;;\u001b\\\u001b[2m:\u001b[0m\u001b]8;id=656705;file:///Users/yfzhu/opt/anaconda3/envs/py312/lib/python3.12/site-packages/edgar/core.py#154\u001b\\\u001b[2m154\u001b[0m\u001b]8;;\u001b\\\n"
      ]
     },
     "metadata": {},
     "output_type": "display_data"
    }
   ],
   "source": [
    "from edgar import *\n",
    "\n",
    "# Tell the SEC who you are\n",
    "\n",
    "set_identity(\"Rafael ZHU walkklaw@gmail.com\")"
   ]
  },
  {
   "cell_type": "code",
   "execution_count": 12,
   "id": "579c3964-97fa-44f4-8d08-bc76f9eb4c7c",
   "metadata": {},
   "outputs": [
    {
     "data": {
      "text/html": [
       "<pre style=\"white-space:pre;overflow-x:auto;line-height:normal;font-family:Menlo,'DejaVu Sans Mono',consolas,'Courier New',monospace\"></pre>\n"
      ],
      "text/plain": []
     },
     "metadata": {},
     "output_type": "display_data"
    },
    {
     "data": {
      "text/plain": [
       "╭────────────────────────── 13F-HR Holding Report for NVIDIA CORP for period 2023-12-31 ──────────────────────────╮\n",
       "│                                                                                                                 │\n",
       "│  \u001b[1m               \u001b[0m \u001b[1m \u001b[0m\u001b[1mInvestment      \u001b[0m\u001b[1m \u001b[0m \u001b[1m                \u001b[0m \u001b[1m          \u001b[0m \u001b[1m              \u001b[0m \u001b[1m                  \u001b[0m \u001b[1m            \u001b[0m  │\n",
       "│  \u001b[1m \u001b[0m\u001b[1mReport Period\u001b[0m\u001b[1m \u001b[0m \u001b[1m \u001b[0m\u001b[1mManager         \u001b[0m\u001b[1m \u001b[0m \u001b[1m \u001b[0m\u001b[1mSigned By     \u001b[0m\u001b[1m \u001b[0m \u001b[1m \u001b[0m\u001b[1mHoldings\u001b[0m\u001b[1m \u001b[0m \u001b[1m \u001b[0m\u001b[1mValue       \u001b[0m\u001b[1m \u001b[0m \u001b[1m \u001b[0m\u001b[1mAccession Number\u001b[0m\u001b[1m \u001b[0m \u001b[1m \u001b[0m\u001b[1mFiled     \u001b[0m\u001b[1m \u001b[0m  │\n",
       "│  ─────────────────────────────────────────────────────────────────────────────────────────────────────────────  │\n",
       "│   2023-12-31     \u001b[1;38;5;39m \u001b[0m\u001b[1;38;5;39mNVIDIA CORP     \u001b[0m\u001b[1;38;5;39m \u001b[0m  Rebecca Peters   5          $230,419,085   0001045810-24-0…   2024-02-14   │\n",
       "│                                                                                                                 │\n",
       "│                                                                                                                 │\n",
       "│  \u001b[1m \u001b[0m\u001b[1m \u001b[0m\u001b[1m \u001b[0m \u001b[1m \u001b[0m\u001b[1mIssuer            \u001b[0m\u001b[1m \u001b[0m \u001b[1m \u001b[0m\u001b[1mClass        \u001b[0m\u001b[1m \u001b[0m \u001b[1m \u001b[0m\u001b[1mCusip    \u001b[0m\u001b[1m \u001b[0m \u001b[1m \u001b[0m\u001b[1mTicker\u001b[0m\u001b[1m \u001b[0m \u001b[1m \u001b[0m\u001b[1mValue       \u001b[0m\u001b[1m \u001b[0m \u001b[1m \u001b[0m\u001b[1mType  \u001b[0m\u001b[1m \u001b[0m \u001b[1m \u001b[0m\u001b[1mShares   \u001b[0m\u001b[1m \u001b[0m \u001b[1m \u001b[0m\u001b[1mVoting   \u001b[0m\u001b[1m \u001b[0m  │\n",
       "│  ─────────────────────────────────────────────────────────────────────────────────────────────────────────────  │\n",
       "│  \u001b[1m \u001b[0m\u001b[1m0\u001b[0m\u001b[1m \u001b[0m \u001b[1m \u001b[0m\u001b[1mARM HOLDINGS PLC  \u001b[0m\u001b[1m \u001b[0m \u001b[1m \u001b[0m\u001b[1mSPONSORED ADR\u001b[0m\u001b[1m \u001b[0m \u001b[1m \u001b[0m\u001b[1m042068205\u001b[0m\u001b[1m \u001b[0m \u001b[1m \u001b[0m\u001b[1mARM   \u001b[0m\u001b[1m \u001b[0m \u001b[1m \u001b[0m\u001b[1m$147,343,114\u001b[0m\u001b[1m \u001b[0m \u001b[1m \u001b[0m\u001b[1mShares\u001b[0m\u001b[1m \u001b[0m \u001b[1m \u001b[0m\u001b[1m1,960,784\u001b[0m\u001b[1m \u001b[0m \u001b[1m \u001b[0m\u001b[1m1,960,784\u001b[0m\u001b[1m \u001b[0m  │\n",
       "│   1   RECURSION            CL A            75629V104   RXRX     $75,984,739    Shares   7,706,363   7,706,363   │\n",
       "│       PHARMACEUTICALS IN                                                                                        │\n",
       "│  \u001b[1m \u001b[0m\u001b[1m2\u001b[0m\u001b[1m \u001b[0m \u001b[1m \u001b[0m\u001b[1mSOUNDHOUND AI INC \u001b[0m\u001b[1m \u001b[0m \u001b[1m \u001b[0m\u001b[1mCLASS A COM  \u001b[0m\u001b[1m \u001b[0m \u001b[1m \u001b[0m\u001b[1m836100107\u001b[0m\u001b[1m \u001b[0m \u001b[1m \u001b[0m\u001b[1mSOUN  \u001b[0m\u001b[1m \u001b[0m \u001b[1m \u001b[0m\u001b[1m$3,669,472  \u001b[0m\u001b[1m \u001b[0m \u001b[1m \u001b[0m\u001b[1mShares\u001b[0m\u001b[1m \u001b[0m \u001b[1m \u001b[0m\u001b[1m1,730,883\u001b[0m\u001b[1m \u001b[0m \u001b[1m \u001b[0m\u001b[1m1,730,883\u001b[0m\u001b[1m \u001b[0m  │\n",
       "│   3   TUSIMPLE HLDGS INC   CL A            90089L108   TSPH     $3,041,904     Shares   3,465,372   3,465,372   │\n",
       "│  \u001b[1m \u001b[0m\u001b[1m4\u001b[0m\u001b[1m \u001b[0m \u001b[1m \u001b[0m\u001b[1mNANO X IMAGING LTD\u001b[0m\u001b[1m \u001b[0m \u001b[1m \u001b[0m\u001b[1mORD SHS      \u001b[0m\u001b[1m \u001b[0m \u001b[1m \u001b[0m\u001b[1mM70700105\u001b[0m\u001b[1m \u001b[0m \u001b[1m \u001b[0m\u001b[1mNNOX  \u001b[0m\u001b[1m \u001b[0m \u001b[1m \u001b[0m\u001b[1m$379,856    \u001b[0m\u001b[1m \u001b[0m \u001b[1m \u001b[0m\u001b[1mShares\u001b[0m\u001b[1m \u001b[0m \u001b[1m \u001b[0m\u001b[1m59,632   \u001b[0m\u001b[1m \u001b[0m \u001b[1m \u001b[0m\u001b[1m59,632   \u001b[0m\u001b[1m \u001b[0m  │\n",
       "│                                                                                                                 │\n",
       "╰────────────────────────── 13F-HR Holding Report for NVIDIA CORP for period 2023-12-31 ──────────────────────────╯"
      ]
     },
     "execution_count": 12,
     "metadata": {},
     "output_type": "execute_result"
    }
   ],
   "source": [
    "nvda = Company(\"NVDA\")\n",
    "mfiles = nvda.get_filings(form=[\"10-K\", \"13F-HR\"])\n",
    "mfiles[1].obj()"
   ]
  }
 ],
 "metadata": {
  "kernelspec": {
   "display_name": "Python 3 (ipykernel)",
   "language": "python",
   "name": "python3"
  },
  "language_info": {
   "codemirror_mode": {
    "name": "ipython",
    "version": 3
   },
   "file_extension": ".py",
   "mimetype": "text/x-python",
   "name": "python",
   "nbconvert_exporter": "python",
   "pygments_lexer": "ipython3",
   "version": "3.12.2"
  }
 },
 "nbformat": 4,
 "nbformat_minor": 5
}
