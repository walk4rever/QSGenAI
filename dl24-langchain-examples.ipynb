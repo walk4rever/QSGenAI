{
 "cells": [
  {
   "cell_type": "markdown",
   "id": "07b0b1c3",
   "metadata": {},
   "source": [
    "## Quickstart of LangChain"
   ]
  },
  {
   "cell_type": "markdown",
   "id": "7cb486e7",
   "metadata": {},
   "source": [
    "* This will install the bare minimum requirements of LangChain. A lot of the value of LangChain comes when integrating it with various model providers, datastores, etc. "
   ]
  },
  {
   "cell_type": "code",
   "execution_count": null,
   "id": "d4e60c23",
   "metadata": {},
   "outputs": [],
   "source": [
    "!pip install langchain"
   ]
  },
  {
   "cell_type": "code",
   "execution_count": null,
   "id": "d46835ac",
   "metadata": {},
   "outputs": [],
   "source": [
    "!pip install langchain-community"
   ]
  },
  {
   "cell_type": "code",
   "execution_count": null,
   "id": "91a2a859",
   "metadata": {},
   "outputs": [],
   "source": [
    "!pip install langchain-core"
   ]
  },
  {
   "cell_type": "code",
   "execution_count": null,
   "id": "bf922fde",
   "metadata": {},
   "outputs": [],
   "source": [
    "!pip install \"langserve[all]\""
   ]
  },
  {
   "cell_type": "code",
   "execution_count": null,
   "id": "c0e74250",
   "metadata": {},
   "outputs": [],
   "source": [
    "!pip install langchain-cli"
   ]
  },
  {
   "cell_type": "code",
   "execution_count": null,
   "id": "8bb859be",
   "metadata": {},
   "outputs": [],
   "source": [
    "!pip install langsmith"
   ]
  },
  {
   "cell_type": "code",
   "execution_count": null,
   "id": "af792ffd",
   "metadata": {},
   "outputs": [],
   "source": []
  }
 ],
 "metadata": {
  "kernelspec": {
   "display_name": "conda_python3",
   "language": "python",
   "name": "conda_python3"
  },
  "language_info": {
   "codemirror_mode": {
    "name": "ipython",
    "version": 3
   },
   "file_extension": ".py",
   "mimetype": "text/x-python",
   "name": "python",
   "nbconvert_exporter": "python",
   "pygments_lexer": "ipython3",
   "version": "3.10.13"
  }
 },
 "nbformat": 4,
 "nbformat_minor": 5
}
