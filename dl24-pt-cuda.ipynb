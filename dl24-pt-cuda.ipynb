{
 "cells": [
  {
   "cell_type": "code",
   "execution_count": 9,
   "id": "99a6aa43",
   "metadata": {},
   "outputs": [
    {
     "name": "stdout",
     "output_type": "stream",
     "text": [
      "Great, we have GPUs!\n",
      "\n",
      "Numbers of GPU:8\n"
     ]
    }
   ],
   "source": [
    "import torch\n",
    "\n",
    "if torch.cuda.is_available():\n",
    "    print(\"Great, we have GPUs!\\n\")\n",
    "    count = \"Numbers of GPU:\" + str(torch.cuda.device_count())\n",
    "    print(count)"
   ]
  },
  {
   "cell_type": "code",
   "execution_count": 10,
   "id": "4599267f",
   "metadata": {},
   "outputs": [
    {
     "name": "stdout",
     "output_type": "stream",
     "text": [
      "(8, 6)\n"
     ]
    }
   ],
   "source": [
    "print(torch.cuda.get_device_capability())"
   ]
  },
  {
   "cell_type": "code",
   "execution_count": 12,
   "id": "26ac832c",
   "metadata": {},
   "outputs": [
    {
     "name": "stdout",
     "output_type": "stream",
     "text": [
      "Is CUDA supported by this system? True\n",
      "CUDA version: 11.8\n",
      "ID of current CUDA device:0\n",
      "Name of current CUDA device:NVIDIA A10G\n"
     ]
    }
   ],
   "source": [
    "import torch\n",
    "\n",
    "print(f\"Is CUDA supported by this system? {torch.cuda.is_available()}\")\n",
    "print(f\"CUDA version: {torch.version.cuda}\")\n",
    "\n",
    "# Storing ID of current CUDA device\n",
    "cuda_id = torch.cuda.current_device()\n",
    "print(f\"ID of current CUDA device:{torch.cuda.current_device()}\")\n",
    "print(f\"Name of current CUDA device:{torch.cuda.get_device_name(cuda_id)}\")\n"
   ]
  },
  {
   "cell_type": "code",
   "execution_count": 20,
   "id": "d5cf76f8",
   "metadata": {},
   "outputs": [
    {
     "name": "stdout",
     "output_type": "stream",
     "text": [
      "cpu\n",
      "cuda:7\n"
     ]
    },
    {
     "data": {
      "text/plain": [
       "tensor([[ 676,  484, 5476,  ..., 5329,  121, 7921],\n",
       "        [ 144, 4761, 2209,  ..., 7569,   16, 6084],\n",
       "        [ 529, 4225, 8464,  ...,  625, 4489, 6724],\n",
       "        ...,\n",
       "        [8649, 6400, 3721,  ...,  625, 2209, 1849],\n",
       "        [ 324,    9, 9409,  ...,  841, 7921,  441],\n",
       "        [  49,  900, 3721,  ...,    1,  484, 4489]], device='cuda:7')"
      ]
     },
     "execution_count": 20,
     "metadata": {},
     "output_type": "execute_result"
    }
   ],
   "source": [
    "# Try a tensor multiply operation\n",
    "\n",
    "import torch\n",
    "\n",
    "# Creating a test tensor\n",
    "x = torch.randint(1, 100, (100, 100))\n",
    "\n",
    "# Checking the deivce name:\n",
    "print(x.device)\n",
    "\n",
    "res_cpu = x ** 2\n",
    "\n",
    "# Transerfing tensor to GPU\n",
    "x = x.to(torch.device('cuda:7'))\n",
    "\n",
    "#Checking the device name again\n",
    "print(x.device)\n",
    "\n",
    "res_gpu = x ** 2\n",
    "\n",
    "# Checkign the equality of two results\n",
    "assert torch.equal(res_cpu, res_gpu.cpu())\n",
    "\n",
    "res_gpu"
   ]
  },
  {
   "cell_type": "code",
   "execution_count": null,
   "id": "d5030022",
   "metadata": {},
   "outputs": [],
   "source": []
  }
 ],
 "metadata": {
  "kernelspec": {
   "display_name": "conda_pytorch_p310",
   "language": "python",
   "name": "conda_pytorch_p310"
  },
  "language_info": {
   "codemirror_mode": {
    "name": "ipython",
    "version": 3
   },
   "file_extension": ".py",
   "mimetype": "text/x-python",
   "name": "python",
   "nbconvert_exporter": "python",
   "pygments_lexer": "ipython3",
   "version": "3.10.13"
  }
 },
 "nbformat": 4,
 "nbformat_minor": 5
}
