{
 "cells": [
  {
   "cell_type": "markdown",
   "id": "cfa59018",
   "metadata": {},
   "source": [
    "# LlamaIndex Deep Dive"
   ]
  },
  {
   "cell_type": "markdown",
   "id": "e602c6a1",
   "metadata": {},
   "source": [
    "## Using LLMs"
   ]
  },
  {
   "cell_type": "code",
   "execution_count": 10,
   "id": "4ab5b26d",
   "metadata": {},
   "outputs": [
    {
     "data": {
      "text/plain": [
       "True"
      ]
     },
     "execution_count": 10,
     "metadata": {},
     "output_type": "execute_result"
    }
   ],
   "source": [
    "# Use the paid OpenAI\n",
    "\n",
    "from llama_index.llms.openai import OpenAI\n",
    "\n",
    "import dotenv\n",
    "\n",
    "dotenv.load_dotenv()"
   ]
  },
  {
   "cell_type": "code",
   "execution_count": 4,
   "id": "f2a10761",
   "metadata": {},
   "outputs": [],
   "source": [
    "from llama_index.llms.ollama import Ollama\n",
    "from llama_index.core import VectorStoreIndex, SimpleDirectoryReader, Settings\n",
    "from llama_index.core.embeddings import resolve_embed_model"
   ]
  },
  {
   "cell_type": "code",
   "execution_count": 7,
   "id": "d0f09cf4",
   "metadata": {},
   "outputs": [],
   "source": [
    "# global settings\n",
    "\n",
    "# bge-m3 embedding model\n",
    "Settings.embed_model = resolve_embed_model(\"local:BAAI/bge-small-en-v1.5\")\n",
    "\n",
    "# ollama\n",
    "Settings.llm = Ollama(model=\"mistral\", request_timeout=30.0)\n",
    "\n",
    "llm = Ollama(model=\"mistral\", request_timeout=30.0)"
   ]
  },
  {
   "cell_type": "code",
   "execution_count": 11,
   "id": "11c54376",
   "metadata": {},
   "outputs": [
    {
     "name": "stdout",
     "output_type": "stream",
     "text": [
      " Rafael Nadal is a professional tennis player from Spain. He is widely regarded as one of the greatest tennis players of all time. Nadal has won a total of 20 Grand Slam titles, including a record 13 French Open titles, making him the most successful tennis player in history at Roland Garros. His dominant play on clay courts earned him the moniker \"The King of Clay.\" In addition to his success in Grand Slam tournaments, Nadal has also held the No. 1 spot in the ATP rankings for a total of 209 weeks. He continues to compete at the highest level and is known for his impressive work ethic, tenacity, and powerful left-handed game.\n"
     ]
    }
   ],
   "source": [
    "response = llm.complete(\"Rafael Nadal is \")\n",
    "print(response)"
   ]
  },
  {
   "cell_type": "code",
   "execution_count": 16,
   "id": "92299de1",
   "metadata": {},
   "outputs": [
    {
     "name": "stdout",
     "output_type": "stream",
     "text": [
      "Rafael Nadal is a professional tennis player from Spain. He is widely considered one of the greatest tennis players of all time, and has won numerous awards and accolades throughout his career. Some of his achievements include:\n",
      "\n",
      "* 19 Grand Slam titles, including 4 French Open titles and 4 US Open titles.\n",
      "* 5 ATP Finals titles.\n",
      "* 3 Davis Cup titles with Spain.\n",
      "* An Olympic gold medal in singles at the 2008 Beijing Olympics.\n",
      "* Ranked as the world number one for a record 260 weeks.\n",
      "* Won 87 ATP titles overall.\n",
      "\n",
      "Nadal is known for his aggressive playing style, which includes his powerful topspin forehand and quick footwork around the court. He has been praised for his athleticism, work ethic, and mental toughness, and is widely regarded as one of the greatest tennis players of all time.\n"
     ]
    }
   ],
   "source": [
    "# switch to llama2 model\n",
    "llm = Ollama(model=\"llama2\", request_timeout=60.0)\n",
    "response = llm.complete(\"Rafael Nadal is \")\n",
    "print(response)"
   ]
  },
  {
   "cell_type": "code",
   "execution_count": 17,
   "id": "e3dce43c",
   "metadata": {},
   "outputs": [],
   "source": [
    "# load the Paul Graham essay for context\n",
    "documents = SimpleDirectoryReader(\"../data/llamaindex\").load_data()\n",
    "index = VectorStoreIndex.from_documents(documents,)"
   ]
  },
  {
   "cell_type": "markdown",
   "id": "fd7595ca",
   "metadata": {},
   "source": [
    "## Loading Data (Ingestion)"
   ]
  },
  {
   "cell_type": "code",
   "execution_count": null,
   "id": "c8ea8278",
   "metadata": {},
   "outputs": [],
   "source": []
  }
 ],
 "metadata": {
  "kernelspec": {
   "display_name": "conda_pytorch_p310",
   "language": "python",
   "name": "conda_pytorch_p310"
  },
  "language_info": {
   "codemirror_mode": {
    "name": "ipython",
    "version": 3
   },
   "file_extension": ".py",
   "mimetype": "text/x-python",
   "name": "python",
   "nbconvert_exporter": "python",
   "pygments_lexer": "ipython3",
   "version": "3.10.13"
  }
 },
 "nbformat": 4,
 "nbformat_minor": 5
}
