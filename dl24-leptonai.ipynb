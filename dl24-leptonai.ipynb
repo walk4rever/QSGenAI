{
 "cells": [
  {
   "cell_type": "code",
   "execution_count": null,
   "id": "3035187e",
   "metadata": {},
   "outputs": [],
   "source": [
    "!pip install -U leptonai"
   ]
  },
  {
   "cell_type": "code",
   "execution_count": null,
   "id": "f04b363d",
   "metadata": {},
   "outputs": [],
   "source": [
    "!lep photon run --name gpt2 --model hf:gpt2 --local"
   ]
  },
  {
   "cell_type": "code",
   "execution_count": null,
   "id": "7c349b6a",
   "metadata": {},
   "outputs": [],
   "source": [
    "from leptonai.client import Client, local\n",
    "c = Client(local(port=8080))\n",
    "\n",
    "# Use the following to print the doc\n",
    "print(c.run.__doc__)\n",
    "print(c.run(inputs=\"what you can do for me?\"))"
   ]
  },
  {
   "cell_type": "code",
   "execution_count": null,
   "id": "a181b6b5",
   "metadata": {},
   "outputs": [],
   "source": [
    "print(c.run.__doc__)"
   ]
  },
  {
   "cell_type": "code",
   "execution_count": null,
   "id": "a449e061",
   "metadata": {},
   "outputs": [],
   "source": [
    "print(c.run(inputs=\"Hello, world.\"))"
   ]
  },
  {
   "cell_type": "code",
   "execution_count": null,
   "id": "16f866cc",
   "metadata": {},
   "outputs": [],
   "source": [
    "from leptonai.client import Client, local\n",
    "\n",
    "c = Client(local(port=8080))\n",
    "\n",
    "# will print available paths\n",
    "print(c.paths())\n",
    "\n",
    "# will print the doc for c.echo. You can also use "
   ]
  },
  {
   "cell_type": "markdown",
   "id": "8a8ad623",
   "metadata": {},
   "source": [
    "## Counter example"
   ]
  },
  {
   "cell_type": "code",
   "execution_count": 3,
   "id": "32728331",
   "metadata": {},
   "outputs": [
    {
     "data": {
      "text/plain": [
       "<leptonai.client.Client at 0x7f86835a0130>"
      ]
     },
     "execution_count": 3,
     "metadata": {},
     "output_type": "execute_result"
    }
   ],
   "source": [
    "from leptonai.client import Client, local\n",
    "\n",
    "c = Client(local(port=8080))"
   ]
  },
  {
   "cell_type": "code",
   "execution_count": 4,
   "id": "84f62656",
   "metadata": {},
   "outputs": [
    {
     "name": "stdout",
     "output_type": "stream",
     "text": [
      "Add\n",
      "\n",
      "Automatically inferred parameters from openapi:\n",
      "\n",
      "Input Schema (*=required):\n",
      "  x*: int\n",
      "\n",
      "Output Schema:\n",
      "  output: int\n"
     ]
    }
   ],
   "source": [
    "print(c.add.__doc__)"
   ]
  },
  {
   "cell_type": "code",
   "execution_count": 5,
   "id": "4e22cdd5",
   "metadata": {},
   "outputs": [
    {
     "data": {
      "text/plain": [
       "10"
      ]
     },
     "execution_count": 5,
     "metadata": {},
     "output_type": "execute_result"
    }
   ],
   "source": [
    "c.add(x=10)"
   ]
  }
 ],
 "metadata": {
  "kernelspec": {
   "display_name": "Python 3 (ipykernel)",
   "language": "python",
   "name": "python3"
  },
  "language_info": {
   "codemirror_mode": {
    "name": "ipython",
    "version": 3
   },
   "file_extension": ".py",
   "mimetype": "text/x-python",
   "name": "python",
   "nbconvert_exporter": "python",
   "pygments_lexer": "ipython3",
   "version": "3.9.18"
  }
 },
 "nbformat": 4,
 "nbformat_minor": 5
}
