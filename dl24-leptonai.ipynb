{
 "cells": [
  {
   "cell_type": "code",
   "execution_count": null,
   "id": "3035187e",
   "metadata": {},
   "outputs": [],
   "source": [
    "!pip install -U leptonai"
   ]
  },
  {
   "cell_type": "code",
   "execution_count": null,
   "id": "f04b363d",
   "metadata": {},
   "outputs": [],
   "source": [
    "!lep photon run --name gpt2 --model hf:gpt2 --local"
   ]
  },
  {
   "cell_type": "code",
   "execution_count": 1,
   "id": "7c349b6a",
   "metadata": {},
   "outputs": [
    {
     "name": "stdout",
     "output_type": "stream",
     "text": [
      "Run\n",
      "\n",
      "Automatically inferred parameters from openapi:\n",
      "\n",
      "Input Schema (*=required):\n",
      "  inputs*: (str | array[str])\n",
      "  top_k: (int | None)\n",
      "  top_p: (float | None)\n",
      "  temperature: (float | None) (default: 1.0)\n",
      "  repetition_penalty: (float | None)\n",
      "  max_new_tokens: (int | None)\n",
      "  max_time: (float | None)\n",
      "  return_full_text: bool (default: True)\n",
      "  num_return_sequences: int (default: 1)\n",
      "  do_sample: bool (default: True)\n",
      "\n",
      "Example input:\n",
      "  inputs: I enjoy walking with my cute dog\n",
      "  max_new_tokens: 50\n",
      "  do_sample: True\n",
      "  top_k: 50\n",
      "  top_p: 0.95\n",
      "\n",
      "Output Schema:\n",
      "  output: (str | array[str])\n",
      "what you can do for me? I promise! ) -Zia\n",
      "\n",
      "\n",
      "GO TO « Search » »\n",
      "\n",
      "To Do List:\n"
     ]
    }
   ],
   "source": [
    "from leptonai.client import Client, local\n",
    "c = Client(local(port=8080))\n",
    "\n",
    "# Use the following to print the doc\n",
    "print(c.run.__doc__)\n",
    "print(c.run(inputs=\"what you can do for me?\"))"
   ]
  },
  {
   "cell_type": "code",
   "execution_count": 4,
   "id": "a181b6b5",
   "metadata": {},
   "outputs": [
    {
     "name": "stdout",
     "output_type": "stream",
     "text": [
      "Run\n",
      "\n",
      "Automatically inferred parameters from openapi:\n",
      "\n",
      "Input Schema (*=required):\n",
      "  inputs*: (str | array[str])\n",
      "  top_k: (int | None)\n",
      "  top_p: (float | None)\n",
      "  temperature: (float | None) (default: 1.0)\n",
      "  repetition_penalty: (float | None)\n",
      "  max_new_tokens: (int | None)\n",
      "  max_time: (float | None)\n",
      "  return_full_text: bool (default: True)\n",
      "  num_return_sequences: int (default: 1)\n",
      "  do_sample: bool (default: True)\n",
      "\n",
      "Example input:\n",
      "  inputs: I enjoy walking with my cute dog\n",
      "  max_new_tokens: 50\n",
      "  do_sample: True\n",
      "  top_k: 50\n",
      "  top_p: 0.95\n",
      "\n",
      "Output Schema:\n",
      "  output: (str | array[str])\n"
     ]
    }
   ],
   "source": [
    "print(c.run.__doc__)"
   ]
  },
  {
   "cell_type": "code",
   "execution_count": 7,
   "id": "a449e061",
   "metadata": {},
   "outputs": [
    {
     "name": "stdout",
     "output_type": "stream",
     "text": [
      "Hello, world. On 'I am Mr Universe' we made the most number of revolutionaries.\"\n",
      "\n",
      "Northern Power and Radio Wales director Simon Neville tweeted: \"Reaction from #domvicta fandom in response to second fantastic documentary of Tony's\n"
     ]
    }
   ],
   "source": [
    "print(c.run(inputs=\"Hello, world.\"))"
   ]
  },
  {
   "cell_type": "code",
   "execution_count": null,
   "id": "16f866cc",
   "metadata": {},
   "outputs": [],
   "source": [
    "from leptonai.client import Client, local\n",
    "\n",
    "c = Client(local(port=8080))\n",
    "\n",
    "# will print available paths\n",
    "print(c.paths())\n",
    "\n",
    "# will print the doc for c.echo. You can also use "
   ]
  }
 ],
 "metadata": {
  "kernelspec": {
   "display_name": "Python 3 (ipykernel)",
   "language": "python",
   "name": "python3"
  },
  "language_info": {
   "codemirror_mode": {
    "name": "ipython",
    "version": 3
   },
   "file_extension": ".py",
   "mimetype": "text/x-python",
   "name": "python",
   "nbconvert_exporter": "python",
   "pygments_lexer": "ipython3",
   "version": "3.9.18"
  }
 },
 "nbformat": 4,
 "nbformat_minor": 5
}
